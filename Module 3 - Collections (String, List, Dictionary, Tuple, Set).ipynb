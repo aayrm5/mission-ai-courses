{
 "cells": [
  {
   "cell_type": "markdown",
   "metadata": {},
   "source": [
    "# Module 3 - Collections (String, List, Dictionary, Tuple, Set)\n",
    "---\n",
    "This module will get you up to speed with Python data types that essentially function like collections. We will explore string, list, dictionary, tuple and set; along with the operations that we can do on them.\n",
    "\n",
    "## *1. String*\n",
    "---\n",
    "\n",
    "The String data type holds `text data`, i.e., its contents are treated as a sequence of characters. Python does not have a character data type, so every character is treated as a string of length 1. While String can be treated like a basic data type, it also has numerous operations that are similar to the \"List\" data type. For that reason, it is included in this module on Python collections. Strings are immutable, i.e., you cannot change the vaule of string once it is created.\n",
    "\n",
    "\n",
    "### A) `Initializing strings`:\n",
    "```Python\n",
    "# Different ways of initializing a string\n",
    "\n",
    "# initialize using single quotes\n",
    "str_1 = 'This string was initialized using quotes'\n",
    "print(str_1)\n",
    "\n",
    "# initialize using double quotes \n",
    "str_2 = \"This string was initialized using quotes\"\n",
    "print(str_2)\n",
    "\n",
    "# Are these strings identical? We can use the == or != comparison operators  to check \n",
    "print(str_1 == str_2)\n",
    "print(str_1 != str_2)\n",
    "\n",
    "# what if the text contains an apostrophe? Then use double quotes while initilizing the string! Else it throws an error.\n",
    "str_3 = \"Python's strings are used to store text data\"\n",
    "print(str_3)\n",
    "\n",
    "# what if the text contains a sentence that is enclosed by double quotes? Use single quotes while initializing. \n",
    "str_4 = 'He said \"Please give me my phone back\"'\n",
    "print(str_4)\n",
    "\n",
    "# What if we have multi-line text? In this case, we need to initialize the string using triple quotes (single or double)\n",
    "str_5 = \"\"\"\n",
    "This is a multi-line\n",
    "piece of text data\n",
    "\"\"\"\n",
    "print(str_5)\n",
    "\n",
    "str_6 = '''\n",
    "This is also a multi-line \n",
    "string that we will initialize\n",
    "using 3 single quotes\n",
    "'''\n",
    "print(str_6)\n",
    "\n",
    "# Remember, everything that is between the triple quotes will be included, including starting and ending newline characters if any\n",
    "```"
   ]
  },
  {
   "cell_type": "code",
   "execution_count": null,
   "metadata": {},
   "outputs": [],
   "source": [
    "# Run the above code:\n"
   ]
  },
  {
   "cell_type": "code",
   "execution_count": 40,
   "metadata": {},
   "outputs": [],
   "source": [
    "# Exercises:\n",
    "\n",
    "# 1. Initialize the following string:    The company performed well in the last quarter.\n",
    "# Will you use single or double quotes ?\n"
   ]
  },
  {
   "cell_type": "code",
   "execution_count": 41,
   "metadata": {},
   "outputs": [],
   "source": [
    "# 2. Initialize the following string:    Apple's competitors include Samsung and Huawei.\n",
    "# Will you use single or double quotes ? Try both options and see what happens\n"
   ]
  },
  {
   "cell_type": "code",
   "execution_count": 42,
   "metadata": {},
   "outputs": [],
   "source": [
    "# 3. Initilize the following string:    He said \"Please come to work on time\".\n",
    "# Will you use single or double quotes?\n"
   ]
  },
  {
   "cell_type": "code",
   "execution_count": 43,
   "metadata": {},
   "outputs": [],
   "source": [
    "# 4. Initialize the following paragraph as a single string\n",
    "# This is the best office in the world.\n",
    "# They have sleeping pods, table tennis and free food.\n"
   ]
  },
  {
   "cell_type": "markdown",
   "metadata": {},
   "source": [
    "### B) `String escaping`:\n",
    "\n",
    "```Python\n",
    "# One way to deal with single quotes, double quotes and whitespace characters (tab, newline) is using \"escaping\"\n",
    "# We can 'escape' characters using backslash '\\'. \n",
    "str_7 = \"He said \\\"Please give me my phone back\\\"\"\n",
    "print(str_7)\n",
    "# Here, the double quotes inside the string would have normally terminated the string. \n",
    "# But using the backslash, we are telling Python to treat it as a character that is part of the string. \n",
    "\n",
    "# There are 2 character sequences that have a special meaning:\n",
    "# \\n is the newline sequence. Using it in a string is the equivalent of pressing 'Enter'\n",
    "# \\t is the tab sequence. Using it in a string is the equivalent of pressing 'Tab'\n",
    "str_8 = \" This is the 1st line.\\n This is the 2nd line \\t that happens to contain a tab\"\n",
    "print(str_8)\n",
    "\n",
    "# So when it comes to strings, the 2 main characters that have special meaning are double/single quote \" and backslash \\\n",
    "# If you want them to appear as-is, escape them with a backslash\n",
    "str_9 = \"This is how to use \\\"Escape Characters\\\", Backslashes \\\\\\\\, tabs \\t, and newline \\n. done done done !\"\n",
    "print(str_9)\n",
    "\n",
    "# if you want the contents of the string (including backslashes) to be interpreted exactly as-is, use 'r' or 'R' \n",
    "# before declaring the string literal\n",
    "str_10 = r\"This is how to use \\\"Escape Characters\\\", Backslashes \\\\\\\\, tabs \\t, and newline \\n. done done done !\"\n",
    "print(str_10)\n",
    "```"
   ]
  },
  {
   "cell_type": "code",
   "execution_count": null,
   "metadata": {},
   "outputs": [],
   "source": [
    "# Run the code above\n"
   ]
  },
  {
   "cell_type": "code",
   "execution_count": 44,
   "metadata": {},
   "outputs": [],
   "source": [
    "# Exercises:\n",
    "\n",
    "# 1. Initialize the following string using string escaping:    He said \"Please come to work on time\".\n"
   ]
  },
  {
   "cell_type": "code",
   "execution_count": 45,
   "metadata": {},
   "outputs": [],
   "source": [
    "# 2. Initialize the following string with each sentence on a separate line use the newline character sequence):\n",
    "# This is the first line. This is the second line\n"
   ]
  },
  {
   "cell_type": "code",
   "execution_count": 46,
   "metadata": {},
   "outputs": [],
   "source": [
    "# 3. Initialze a string with the following 5 words each separated by a tab:    This, is, five, words, long \n"
   ]
  },
  {
   "cell_type": "code",
   "execution_count": 47,
   "metadata": {},
   "outputs": [],
   "source": [
    "# 4. Initialize the following string using string escaping:    \n",
    "# This is a double-quote \", this is a backslash \\, this is the newline character \\n, and this is a tab \\t\n"
   ]
  },
  {
   "cell_type": "code",
   "execution_count": null,
   "metadata": {},
   "outputs": [],
   "source": [
    "# 5. Write the same initialization code as above, but this time put an 'r' or 'R' before the string.\n",
    "# Is the output any different? \n"
   ]
  },
  {
   "cell_type": "markdown",
   "metadata": {},
   "source": [
    "### C) `Simple string operations`:\n",
    "```Python\n",
    "# Concatenating or joining strings together using '+'\n",
    "str_11 = \"Hello \"\n",
    "str_12 = \"world!\"\n",
    "print(str_11 + str_12)\n",
    "print(str_11 + str_12 + \" \" + str_11 + str_12)\n",
    "\n",
    "# Remember that only string values can be concatenated. The following statement throws an error\n",
    "print (str_11 + 5)\n",
    "# Solution: Converting from numerical values to string - str()\n",
    "print(str_11 + str(5))\n",
    "\n",
    "# repeating a string 'N' times - use the multiplication operator '*'\n",
    "print(\"hello \" *5)\n",
    "```"
   ]
  },
  {
   "cell_type": "code",
   "execution_count": null,
   "metadata": {},
   "outputs": [],
   "source": [
    "# Run the above code:\n"
   ]
  },
  {
   "cell_type": "code",
   "execution_count": 48,
   "metadata": {},
   "outputs": [],
   "source": [
    "# Exercises:\n",
    "\n",
    "# 1. Initialize 3 strings with the the following contents: \"Python\", \"is\", \"awesome\"\n",
    "# Print out the sentence \"Python is awesome\" using the above strings and the '+' concatenation operator\n"
   ]
  },
  {
   "cell_type": "code",
   "execution_count": 49,
   "metadata": {},
   "outputs": [],
   "source": [
    "# 2. Create a variable 'x' with the value 10. Now print out: \"Hello, contestant #10\" using the variable 'x' \n"
   ]
  },
  {
   "cell_type": "code",
   "execution_count": null,
   "metadata": {},
   "outputs": [],
   "source": [
    "# 3. Ask the user to input a word. The output should be the string: \"Here is the echo: \" followed by the word repeated thrice\n"
   ]
  },
  {
   "cell_type": "markdown",
   "metadata": {},
   "source": [
    "### D) `Strings as a sequence - indexing & slicing`:\n",
    "\n",
    "Each character in a string has a position or `index`. The 1st character has an index of 0, the 2nd character has an index of 1 and so on. The last character has an index of n-1, where 'n' is the length of the string. We can only access the characters at different positions, not modify them (strings are immutable)\n",
    "\n",
    "```Python\n",
    "# find the length of a string\n",
    "print(len(\"Hello world!\"))\n",
    "\n",
    "# strings as a sequence: A string of length 'N' has 'N' characters, numbered from 0 to 'N-1'\n",
    "seq = \"abcdefghij\"\n",
    "\n",
    "# get the Nth character in the string. The following operations are called \"indexing\"\n",
    "print(seq[0]) # returns the 1st character\n",
    "print(seq[5]) # returns the 6th character\n",
    "print(seq[len(seq)-1]) # gives the last character\n",
    "print(seq[-1]) # better way of getting the last character # negative indexing\n",
    "print(seq[-2]) # gives the 2nd-from-last character\n",
    "\n",
    "\n",
    "# get a range of characters from the string. The following operations are called 'subsetting' or 'slicing'      \n",
    "# str[m:n] gives all characters starting from the character at index 'm' to index 'n-1'\n",
    "print(seq[0:2]) # 1st 2 characters of the string\n",
    "print(seq[:2]) # same as above\n",
    "print(seq[5:8]) # 3 characters (with indexes 5,6,7)\n",
    "print(seq[3:]) # everything excepting the first 3 characters\n",
    "print(seq[:]) # returns the entire string\n",
    "print(seq[::2]) # every 2nd character in the entire string\n",
    "print(seq[::-1]) # entire string reversed\n",
    "      \n",
    "```"
   ]
  },
  {
   "cell_type": "code",
   "execution_count": null,
   "metadata": {},
   "outputs": [],
   "source": [
    "# Run the above code:\n"
   ]
  },
  {
   "cell_type": "code",
   "execution_count": 50,
   "metadata": {},
   "outputs": [],
   "source": [
    "# Exercises:\n",
    "\n",
    "# 1. Declare a string 's' that has the value \"abcdefghijklmnopqrstuvwxyz\"\n"
   ]
  },
  {
   "cell_type": "code",
   "execution_count": 51,
   "metadata": {},
   "outputs": [],
   "source": [
    "# 2. Find the length of the string 's'\n"
   ]
  },
  {
   "cell_type": "code",
   "execution_count": 52,
   "metadata": {},
   "outputs": [],
   "source": [
    "# 3. What is the 2nd character in the string?\n"
   ]
  },
  {
   "cell_type": "code",
   "execution_count": 53,
   "metadata": {},
   "outputs": [],
   "source": [
    "# 4. What is the 2nd-from-last character in the string?\n"
   ]
  },
  {
   "cell_type": "code",
   "execution_count": 54,
   "metadata": {},
   "outputs": [],
   "source": [
    "# 5. Print out the 1st 4 characters of the string \n"
   ]
  },
  {
   "cell_type": "code",
   "execution_count": 55,
   "metadata": {},
   "outputs": [],
   "source": [
    "# 6. Print out the part of the string from the 7th character to the 11th character (included)\n"
   ]
  },
  {
   "cell_type": "code",
   "execution_count": 56,
   "metadata": {},
   "outputs": [],
   "source": [
    "# 7. Print out the entire string without the frst 4 characters\n"
   ]
  },
  {
   "cell_type": "code",
   "execution_count": 57,
   "metadata": {},
   "outputs": [],
   "source": [
    "# 8. Print out every third character in the string\n"
   ]
  },
  {
   "cell_type": "code",
   "execution_count": null,
   "metadata": {},
   "outputs": [],
   "source": [
    "# 9. Print out the string reversed\n"
   ]
  },
  {
   "cell_type": "markdown",
   "metadata": {},
   "source": [
    "### E) `Methods to manipulate strings - 1`:\n",
    "`(len, upper, lower, strip, split, splitlines, join)`\n",
    "\n",
    "```Python\n",
    "      \n",
    "# len() returns the length of a string\n",
    "# it is a built-in function, not a method of the string object\n",
    "print(len(\"Hello world!\"))\n",
    "\n",
    "# upper() and lower() are useful while processing/preparing/standardizing text data\n",
    "print(\"This is a String\".lower()) # converts entire string to lowercase\n",
    "print(\"This is a String\".upper()) # Capitalizes the entire string\n",
    "      \n",
    "# strip(), lstrip() and rstrip() are good for text processing to remove unwanted leading and trailing whitspace characters.\n",
    "print(\"   This is a String    \".strip() + \"...\") # removes whitespace characters both at the beginning and end\n",
    "print(\"   This is a String    \".lstrip() + \"...\") # removes whitespace characters only at the beginning\n",
    "print(\"   This is a String    \".rstrip() + \"...\") # removes whitespace characters only at the end\n",
    "print(\"   This is a Stringgggggg\".rstrip('g')) # removes all ending 'g' characters  \n",
    "\n",
    "# split() is used to separate a piece of text into individual units like words\n",
    "print(\"This is a String\".split(\" \")) # returns a list of individual elements or tokens (in this case, words)\n",
    "print(\"2020-02-25\".split(\"-\")) # returns each part of the date as an element in a list\n",
    "print(\"2020-02-25\".split(\"-\")[0]) # returns the first part of the date\n",
    "\n",
    "# splitlines() is used to transform a long piece of text into individual lines\n",
    "print(\"This is line 1.\\nThis is line 2.\\n This is line 3.\".splitlines()) # gives a list of individual lines in the text\n",
    "print(\"This is line 1.\\nThis is line 2.\\n This is line 3.\".splitlines()[1]) # gives the 2nd line in the text\n",
    "\n",
    "# sometimes, we need to do the opposite of split(). We have to join a list of text items. Use join() for this task\n",
    "split_str = [\"This\",\"is\",\"a\",\"string\"]\n",
    "print(\" \".join(split_str)) # returns the list elements joined by a space\n",
    "print(\"--\".join(\"split_str\"))\n",
    "      \n",
    "```"
   ]
  },
  {
   "cell_type": "code",
   "execution_count": null,
   "metadata": {},
   "outputs": [],
   "source": [
    "# Run the above code:\n"
   ]
  },
  {
   "cell_type": "code",
   "execution_count": 58,
   "metadata": {},
   "outputs": [],
   "source": [
    "# Exercises:\n",
    "\n",
    "# 1. Create a string variable with the value: \"    This is a String    \". Find the length of the string\n"
   ]
  },
  {
   "cell_type": "code",
   "execution_count": 59,
   "metadata": {},
   "outputs": [],
   "source": [
    "# 2. Print out the string in Uppercase and Lowercase\n"
   ]
  },
  {
   "cell_type": "code",
   "execution_count": 60,
   "metadata": {},
   "outputs": [],
   "source": [
    "# 3. Print out the string without the spaces at the beginning\n"
   ]
  },
  {
   "cell_type": "code",
   "execution_count": 61,
   "metadata": {},
   "outputs": [],
   "source": [
    "# 4. Print out the string without any spaces at the beginning or end\n"
   ]
  },
  {
   "cell_type": "code",
   "execution_count": 62,
   "metadata": {},
   "outputs": [],
   "source": [
    "# 5. Print out the individual words in the string (no spaces). You can chain functions together\n"
   ]
  },
  {
   "cell_type": "code",
   "execution_count": 63,
   "metadata": {},
   "outputs": [],
   "source": [
    "# 6. Now join the individual words with '-' instead of spaces\n"
   ]
  },
  {
   "cell_type": "code",
   "execution_count": null,
   "metadata": {},
   "outputs": [],
   "source": [
    "# 7. Create the new string: \"This is line 1.\\nThis is line 2.\\n This is line 3.\" Return the 2nd line of the string\n"
   ]
  },
  {
   "cell_type": "markdown",
   "metadata": {},
   "source": [
    "### F) `Methods to manipulate strings - 2`:\n",
    "`(find, in, replace, count, format, f-strings)`\n",
    "\n",
    "```Python\n",
    "# find() is useful to to filter our dataset --> select only the strings that contain a particular substring. \n",
    "# eg. a code like '2020BLRBKK'\n",
    "# find() checks if a string contains a particular substring, and Returns the 0-based index of the 1st occurrence \n",
    "# of the substring. It is case-sensitive. It returns -1 if the substring is not found\n",
    "print(\"This is a String\".find(\"String\")) # \n",
    "print(\"This is a String\".find(\"string\")) # returns -1 as the EXACT substring was not found\n",
    "\n",
    "# if we want to simply test if a string contains a substring, and don't care about the position of the \n",
    "# substring, the we can use the 'in' keyword\n",
    "print(\"String\" in \"This is a String\") # returns True (case-sensitive)\n",
    "\n",
    "# replace() is needed to tranform our data to the format we need. For example, 'Bangalore' --> 'Bengaluru'\n",
    "print(\"Bangalore has good weather. Bangalore is in South India\".replace(\"Bangalore\",\"Bengaluru\")) # replaces all instances\n",
    "print(\"Bangalore has good weather. Bangalore is in South India\".replace(\"Bangalore\",\"Bengaluru\",1)) # replaces 1 instance\n",
    "\n",
    "# count() is used to either filter the data by number of occurrences of a term, or convert text into numerical info\n",
    "print(\"Hello hello hello\".count(\"Hello\")) # returns the number of instances of the substring (case-sensitive)\n",
    "print(\"Hello hello hello\".count(\"hello\"))\n",
    "            \n",
    "# format() helps us construct strings dynamically, with a fixed template\n",
    "print(\"Hello Mr. {0}! We will land in {1} in 2 hours\".format(\"Kapoor\",\"Mumbai\")) # using index of the arguments\n",
    "print(\"Hello Mr. {name}! We will land in {place} in 2 hours\".format(name=\"Kapoor\",place=\"Mumbai\")) # can take named arguments\n",
    "\n",
    "# f-strings are an enhancement over string.format(). We can embed any variable in the string\n",
    "name=\"Kapoor\"\n",
    "place=\"Mumbai\"\n",
    "print(f\"Hello Mr. {name}! We are so happy to have you on board. We will land in {place} in 2 hours\")\n",
    "```"
   ]
  },
  {
   "cell_type": "code",
   "execution_count": null,
   "metadata": {},
   "outputs": [],
   "source": [
    "# Run the above code:\n"
   ]
  },
  {
   "cell_type": "code",
   "execution_count": 64,
   "metadata": {},
   "outputs": [],
   "source": [
    "# Exercises:\n",
    "\n",
    "# 1. Find the position of the substring \"this\" within the string \"This is a string\"\n",
    "# Now find the position of the substring \"This\" within the string \"This is a string\"\n",
    "# So, is the find() function case-sensitive ?\n"
   ]
  },
  {
   "cell_type": "code",
   "execution_count": 65,
   "metadata": {},
   "outputs": [],
   "source": [
    "# 2. Check if the string \"BLRBKK20200225CONF\" contains the substring \"2020\" (True/False)\n"
   ]
  },
  {
   "cell_type": "code",
   "execution_count": 66,
   "metadata": {},
   "outputs": [],
   "source": [
    "# 3. Use the replace() function to replace all instances of \"Bombay\" to \"Mumbai\" in the sentence: \n",
    "# \"Bombay is the capital of Maharashtra. Bombay is in the western part of India.\"\n",
    "# Now replace only 1 instance of \"Bombay\" with \"Mumbai\"\n",
    "# Is replace() case-sensitive? Try replacing \"bombay\" with \"mumbai\"\n"
   ]
  },
  {
   "cell_type": "code",
   "execution_count": 67,
   "metadata": {},
   "outputs": [],
   "source": [
    "# 4. How many instances of \"Hello\" are in \"Hello hello hello\" ?\n",
    "# How many instances of \"hello\" are there?\n"
   ]
  },
  {
   "cell_type": "code",
   "execution_count": null,
   "metadata": {},
   "outputs": [],
   "source": [
    "# 5. Ask a user to enter his/her name and profession. Then insert those details in the following message:\n",
    "# \"We would like to welcome _____, who is a ______ by profession, to our event\"\n",
    "# Achieve the desired result using both format() and f-strings\n"
   ]
  },
  {
   "cell_type": "markdown",
   "metadata": {},
   "source": [
    "### G) `Methods to manipulate strings - 3`:\n",
    "`(isalpha, isnumeric, isalnum, startswith, endswith)`\n",
    "\n",
    "```Python\n",
    "# isalpha(), isnumeric() and isalnum() are useful while doing quality-checks on input data\n",
    "# for example, the airline PNR is always alphanumeric, and the employee_id is almost always numeric\n",
    "print(\"abc\".isalpha()) # True if the string contains only letters (no spaces)\n",
    "print(\"1234\".isnumeric()) # True if the string contains only numbers, with no letters or special characters (no spaces)\n",
    "print(\"abc123\".isalnum()) # True if the string contains only letters and numbers, with no special characters (no spaces)\n",
    "\n",
    "# startswith() and endswith() help in filtering the dataset --> select only strings that start or end with a substring \n",
    "print(\"BLRBKK20200225CONF\".startswith(\"BLR\")) # True if the string starts with \"BLR\"\n",
    "print(\"BLRBKK20200225CONF\".endswith(\"HOLD\")) # True if the string starts with \"HOLD\"\n",
    "```"
   ]
  },
  {
   "cell_type": "code",
   "execution_count": null,
   "metadata": {},
   "outputs": [],
   "source": [
    "# Run the above code:\n"
   ]
  },
  {
   "cell_type": "code",
   "execution_count": 68,
   "metadata": {},
   "outputs": [],
   "source": [
    "# Exercises:\n",
    "\n",
    "# 1. How does the function isalpha() treat the input \"Python Programming\"? True or False? Why? What about \"abcdef\"?\n"
   ]
  },
  {
   "cell_type": "code",
   "execution_count": 69,
   "metadata": {},
   "outputs": [],
   "source": [
    "# 2. How does the function isnumeric() treat the input \"1234 \" ? True or False? What about the input \"1234\"?\n"
   ]
  },
  {
   "cell_type": "code",
   "execution_count": 70,
   "metadata": {},
   "outputs": [],
   "source": [
    "# 3. How does the function isalnum() treat the input \"abc1234$\" ? What about \"abc1234\" ?\n"
   ]
  },
  {
   "cell_type": "code",
   "execution_count": null,
   "metadata": {},
   "outputs": [],
   "source": [
    "# 4. Check if the string \"BLRBKK20200225CONF\" begins with \"BLR\". Check if it ends with \"HOLD\".\n"
   ]
  },
  {
   "cell_type": "markdown",
   "metadata": {},
   "source": [
    "## *2. List* \n",
    "\n",
    "Python's equivalent of arrays is called a List. Lists can contain hetergeneous items in a specific order. These items can be of different data types, making lists very powerful. Lists are mutable, which means that they can be altered even after they are created. The items in a list need not be unique. \n",
    "\n",
    "If you want to record data and preserve the order of the data, use Lists.\n",
    "\n",
    "### A) `Initializing Lists`:\n",
    "\n",
    "\n",
    "```Python\n",
    "# Ways of initializing a list. Remember, square brackets [] ==> List\n",
    "\n",
    "# empty list with no items\n",
    "list_1 = [] \n",
    "print(list_1)\n",
    "\n",
    "# list with items specified\n",
    "list_2 = [1,2,3,4]\n",
    "print(list_2)\n",
    "\n",
    "# list with heterogeneous items\n",
    "list_3 = [1,\"This\",2,\"is\",True,\"a\",100.25,\"List\"]\n",
    "print(list_3)\n",
    "\n",
    "# list from variables\n",
    "a=1\n",
    "b=2\n",
    "c=3\n",
    "list_4 = [a,b,c]\n",
    "print(list_4)\n",
    "\n",
    "# list of lists\n",
    "list_5 = [[1,2],[3,4],[5,6]]\n",
    "print(list_5)\n",
    "\n",
    "# using the list() function/constructor\n",
    "list_6 = list() # empty list\n",
    "print(list_6)\n",
    "list_7 = list(\"This is a string\") # list containing all the individual characters of the string\n",
    "print(list_7)\n",
    "```"
   ]
  },
  {
   "cell_type": "code",
   "execution_count": null,
   "metadata": {},
   "outputs": [],
   "source": [
    "# Run the above code:\n"
   ]
  },
  {
   "cell_type": "code",
   "execution_count": 108,
   "metadata": {},
   "outputs": [],
   "source": [
    "# Exercises:\n",
    "\n",
    "# 1. Create an empty list\n"
   ]
  },
  {
   "cell_type": "code",
   "execution_count": 109,
   "metadata": {},
   "outputs": [],
   "source": [
    "# 2. Create a list with the names of the 2 most populated countries in the world\n"
   ]
  },
  {
   "cell_type": "code",
   "execution_count": 110,
   "metadata": {},
   "outputs": [],
   "source": [
    "# 3. Create 3 variables with values 7.57, 800, 0.0045. Create a list with these 3 variables\n"
   ]
  },
  {
   "cell_type": "code",
   "execution_count": 111,
   "metadata": {},
   "outputs": [],
   "source": [
    "# 4. Create a list containing 3 lists: [\"a\",1],[\"b\",2],[\"c\",3]\n"
   ]
  },
  {
   "cell_type": "code",
   "execution_count": null,
   "metadata": {},
   "outputs": [],
   "source": [
    "#5. Create a list containing individual letters of the word \"independence\"\n"
   ]
  },
  {
   "cell_type": "markdown",
   "metadata": {},
   "source": [
    "### B) `Lists as a sequence - indexing/slicing`:\n",
    "\n",
    "Indexing in Lists is very similar to Strings. Each item in a List has a position or index. The 1st item has an index of 0, the 2nd item has an index of 1 and so on. The last item has an index of n-1, where 'n' is the number of items in the list. We can also modify the elements at different positions, since lists are mutable.\n",
    "\n",
    "```Python\n",
    "seq=[1,2,3,4,5,6,7,8,9,10]\n",
    "\n",
    "# get the number of items in the list\n",
    "print(len(seq)) # length of the list\n",
    "\n",
    "# get the Nth item in the List. The following operations are called \"indexing\"\n",
    "print(seq[0]) # returns the 1st item\n",
    "print(seq[5]) # returns the 6th item\n",
    "print(seq[len(seq)-1]) # gives the last item\n",
    "print(seq[-1]) # better way of getting the last item\n",
    "print(seq[-2]) # gives the 2nd-from-last item\n",
    "      \n",
    "# changing the Nth item in a list - this is allowed since lists are mutable\n",
    "seq[0]=100 # changes the 1st item to 100\n",
    "seq[-1]=200 # changes the last item to 200\n",
    "      \n",
    "# get a range of items from the List. The following operations are called 'subsetting' or 'slicing'      \n",
    "# list_1[m:n] gives all items starting from the item at index 'm' to index 'n-1'\n",
    "print(seq[0:2]) # 1st 2 items of the list\n",
    "print(seq[:2]) # same as above\n",
    "print(seq[5:8]) # 3 items (with indexes 5,6,7)\n",
    "print(seq[3:]) # everything excepting the first 3 items\n",
    "print(seq[:]) # returns the entire list\n",
    "print(seq[0:7:2]) # every 2nd item in the list, starting with the index 0, and ending with index < 7 (not inclusive)\n",
    "print(seq[::-1]) # entire list in reverse order\n",
    "      \n",
    "# list of lists\n",
    "z=[[1,2],[3,4],[5,6]]\n",
    "print(z[0]) # returns [1,2], which is the 1st item in 'z'\n",
    "print(z[0][0]) # returns 1, which is the 1st item in the 1st list in 'z'\n",
    "print(z[-1][0]) # returns 5, which is the 1st item in the last list in 'z'\n",
    "print(z[1][1]) # returns 4, which is the 2nd item in the 2nd list in 'z'\n",
    "\n",
    "```"
   ]
  },
  {
   "cell_type": "code",
   "execution_count": null,
   "metadata": {},
   "outputs": [],
   "source": [
    "# Run the above code:\n"
   ]
  },
  {
   "cell_type": "code",
   "execution_count": 112,
   "metadata": {},
   "outputs": [],
   "source": [
    "# Exercises:\n",
    "\n",
    "# 1. Declare a List 'lst' that has the items: [1,2,\"a\",\"b\",3,4,\"c\",\"d\"]\n"
   ]
  },
  {
   "cell_type": "code",
   "execution_count": 113,
   "metadata": {},
   "outputs": [],
   "source": [
    "# 2. Find the number of items in the list\n"
   ]
  },
  {
   "cell_type": "code",
   "execution_count": 114,
   "metadata": {},
   "outputs": [],
   "source": [
    "# 3. What is the 2nd item in the list?\n"
   ]
  },
  {
   "cell_type": "code",
   "execution_count": 115,
   "metadata": {},
   "outputs": [],
   "source": [
    "# 4. What is the 3rd-from-last item in the list?\n"
   ]
  },
  {
   "cell_type": "code",
   "execution_count": 116,
   "metadata": {},
   "outputs": [],
   "source": [
    "# 5. Print out the 1st 4 items of the list \n"
   ]
  },
  {
   "cell_type": "code",
   "execution_count": 117,
   "metadata": {},
   "outputs": [],
   "source": [
    "# 6. Print out the part of the list from the 4th item to the 7th item (included)\n"
   ]
  },
  {
   "cell_type": "code",
   "execution_count": 118,
   "metadata": {},
   "outputs": [],
   "source": [
    "# 7. Print out the entire list without the first 4 items\n"
   ]
  },
  {
   "cell_type": "code",
   "execution_count": 119,
   "metadata": {},
   "outputs": [],
   "source": [
    "# 8. Print out every third item in the list, starting with the first item\n"
   ]
  },
  {
   "cell_type": "code",
   "execution_count": 120,
   "metadata": {},
   "outputs": [],
   "source": [
    "# 9. Print out the list in reverse order\n"
   ]
  },
  {
   "cell_type": "code",
   "execution_count": 121,
   "metadata": {},
   "outputs": [],
   "source": [
    "# 10. Create a list with the following items: [\"India\",1.25],[\"China\",1.7],[\"USA\",0.35]\n",
    "# Which is the 1st item inside the 2nd item of the list?\n",
    "# Which is the 2nd item inside the last item of the list\n"
   ]
  },
  {
   "cell_type": "code",
   "execution_count": 122,
   "metadata": {},
   "outputs": [],
   "source": [
    "# 11. Change the 1st item inside the list which is at the 1st position of the outer list to 100 \n",
    "# Change the last item of the outer list to \"zoo\"\n"
   ]
  },
  {
   "cell_type": "markdown",
   "metadata": {},
   "source": [
    "### C) `Methods to manipulate lists - 1`:\n",
    "`len, insert, append, pop, remove, del`\n",
    "\n",
    "```Python\n",
    "\n",
    "x=[1,2]\n",
    "\n",
    "# len() gives the number of items in the list\n",
    "# it is built-in function, not a method of the list object\n",
    "print(len(x)) # length of the list\n",
    "\n",
    "# append(item) adds an item to the end of the list\n",
    "x.append(1) # the list is now [1,2,1]\n",
    "x.append(4) # the list is now [1,2,1,4]\n",
    "print(x)\n",
    "\n",
    "# insert(index,item) puts the value 'item' into the index position 'index'. \n",
    "# If index > position of last element, then the item is added to the end of the list \n",
    "x.insert(0,5) # the list is now [5,1,2,1,4] \n",
    "x.insert(1,6) # the list is now [5,6,1,2,1,4] \n",
    "print(x)\n",
    "\n",
    "# pop() removes the last item from the list and returns it\n",
    "# it throws an error if the list is empty\n",
    "print(x.pop()) # the item '4' is popped/printed. The list is now [5,6,1,2,1] \n",
    "print(x)\n",
    "print(x.pop()) # the item '1' is popped/printed. The list is now [5,6,1,2] \n",
    "print(x)\n",
    "\n",
    "# remove(item) deletes the 1st instance of the item from the list. Throws an error if it isn't present in the list\n",
    "x.remove(1) # 'remove' gets rid of the first instance of the object '1'. The list is now [5,6,2]\n",
    "print(x)\n",
    "\n",
    "# del(list[index]) removes the list item at position 'index' \n",
    "del(x[1]) # removes the item at index 1, i.e., '6'. Now the list if [5,2] \n",
    "print(x)\n",
    "```"
   ]
  },
  {
   "cell_type": "code",
   "execution_count": null,
   "metadata": {},
   "outputs": [],
   "source": [
    "# Run the above code:\n"
   ]
  },
  {
   "cell_type": "code",
   "execution_count": 123,
   "metadata": {},
   "outputs": [],
   "source": [
    "# Exercises:\n",
    "\n",
    "# 1. Create a list with the items 10, 15, 20, 25, 30. How many items in the list? Add the element 35 to the end of the list.\n"
   ]
  },
  {
   "cell_type": "code",
   "execution_count": 124,
   "metadata": {},
   "outputs": [],
   "source": [
    "# 2. Insert the item 12.5 into the 2nd position in the list\n"
   ]
  },
  {
   "cell_type": "code",
   "execution_count": 125,
   "metadata": {},
   "outputs": [],
   "source": [
    "# 3. Remove the last item in the list and print it out while doing so\n"
   ]
  },
  {
   "cell_type": "code",
   "execution_count": 126,
   "metadata": {},
   "outputs": [],
   "source": [
    "# 4. Remove the item '25' from the list\n"
   ]
  },
  {
   "cell_type": "code",
   "execution_count": null,
   "metadata": {},
   "outputs": [],
   "source": [
    "# 5. Remove the 3rd item from the list\n"
   ]
  },
  {
   "cell_type": "markdown",
   "metadata": {},
   "source": [
    "### D) `Methods to manipulate lists - 2`:\n",
    "`reverse, reversed, sort, sorted, index, count, max, min`\n",
    "\n",
    "```Python\n",
    "\n",
    "# the reverse() function reverses the order of the items in the list. \n",
    "# It returns None, but reverses the order in-place, i.e., it changes the original list\n",
    "x=[1,2,3,4]\n",
    "x.reverse()\n",
    "print(x) # [4,3,2,1]\n",
    "\n",
    "# The built-in reversed() function reverses the items of a copy of the list and returns an iterator\n",
    "# we can use the list() function/constructor to convert that iterator to a list\n",
    "y=[1,2,3,4]\n",
    "print(list(reversed(y))) # [4,3,2,1]\n",
    "print(y) # [1,2,3,4]\n",
    "\n",
    "# the sort() function sorts the items in the list. \n",
    "# It returns None, but sorts the items in-place, i.e., it changes the original list\n",
    "a=[1,3,2,4]\n",
    "a.sort()\n",
    "print(a) # [1,2,3,4]\n",
    "\n",
    "# The built-in sorted() function sorts the items of a copy of the list and returns an iterator \n",
    "# we can use the list() function to convert that iterator to a list\n",
    "b=[1,3,2,4]\n",
    "print(list(sorted(b))) # [1,2,3,4]\n",
    "print(b) # [1,3,2,4]\n",
    "\n",
    "# index(item) returns the index of the 1st instance of the item in the list. Throws an error if it isn't found \n",
    "m=[10,20,30,40,20]\n",
    "print(m.index(20)) # returns 1 (2nd item)\n",
    "print(m.index(25)) # throws ValueError\n",
    "\n",
    "# count(item) return the number of instances of the item in the list\n",
    "m=[10,20,30,40,20]\n",
    "print(m.count(20)) # returns 2\n",
    "print(m.count(25)) # returns 0\n",
    "\n",
    "# max() returns the largest value in the list, and min() returns the smallest value. This list should have \n",
    "# numerical values only. These are built-in functions and not list methods\n",
    "m=[10,20,30,40.5,20]\n",
    "print(max(m)) # returns 40.5\n",
    "print(min(m)) # returns 10\n",
    "```"
   ]
  },
  {
   "cell_type": "code",
   "execution_count": null,
   "metadata": {},
   "outputs": [],
   "source": [
    "# Run the above code:\n"
   ]
  },
  {
   "cell_type": "code",
   "execution_count": 127,
   "metadata": {},
   "outputs": [],
   "source": [
    "# Exercises:\n",
    "\n",
    "# 1. Create a list with the values 100, 300.75, 200, 400, 500\n",
    "# print out the values of the list in reverse order, without changing the original list\n"
   ]
  },
  {
   "cell_type": "code",
   "execution_count": 128,
   "metadata": {},
   "outputs": [],
   "source": [
    "# 2. Reverse the list in-place, and then print it out\n"
   ]
  },
  {
   "cell_type": "code",
   "execution_count": 129,
   "metadata": {},
   "outputs": [],
   "source": [
    "# 3. Create a list with the values 10.5, 200, 30.75, .400, 500\n",
    "# print out the values of the list in ascending order, without changing the original list\n",
    "# print out the values of the list in descending order, without changing the original list\n"
   ]
  },
  {
   "cell_type": "code",
   "execution_count": 130,
   "metadata": {},
   "outputs": [],
   "source": [
    "# 4. Sort the list in ascending order in-place, and then print it out\n"
   ]
  },
  {
   "cell_type": "code",
   "execution_count": 131,
   "metadata": {},
   "outputs": [],
   "source": [
    "# 5. Print out the maximum and minimum values of the list\n"
   ]
  },
  {
   "cell_type": "code",
   "execution_count": 132,
   "metadata": {},
   "outputs": [],
   "source": [
    "# 6. How many occurrences of the item '200' are in the list [125,200,350,200,400,200]?\n",
    "# What is the position of the 1st occurrence of '200' in the list?\n"
   ]
  },
  {
   "cell_type": "markdown",
   "metadata": {},
   "source": [
    "### E) `Miscellanous list concepts`:\n",
    "`clear, range, in, +, extend, join, enumerate, zip  `\n",
    "\n",
    "```Python\n",
    "# clear removes all the items from a list, but preserves the list object\n",
    "x=[1,2]\n",
    "x.clear()\n",
    "print(x) # []\n",
    "\n",
    "# range(m,n) returns an iterator of a list of integers from 'm' to 'n-1'. use it with the 'list' function to convert to a list\n",
    "y=list(range(1,10))\n",
    "print(y)\n",
    "\n",
    "# range(m) returns an iterator of a list of integers from '0' to 'm-1'\n",
    "print(list(range(10)))\n",
    "\n",
    "# range(m,n,s) returns an iterator of a list of integers from 'm' to 'n-1', with steps of 's'\n",
    "print(list(range(1,10,2)))\n",
    "\n",
    "# giving '-1' as the step value will give us  descending list\n",
    "print(list(range(10,1,-1)))\n",
    "\n",
    "# the 'in' keyword lets you check whether an item is contained in the list. Only returns True or False\n",
    "a=10\n",
    "b=[1,2,3,4,5,6,7,8,9,10]\n",
    "print(a in b)\n",
    "\n",
    "# joining/concatenating 2 lists using '+'\n",
    "m=[1,2,3,4]\n",
    "n=[5,6,7,8]\n",
    "print(m+n) # returns a combined list with all items of 1st list followed by all items of 2nd list\n",
    "\n",
    "# joining/concatenating 2 lists using extend()\n",
    "m.extend(n) # adds all items of 2nd list to the end of the 1st list. it changes the original list\n",
    "print(m)\n",
    "\n",
    "# join() merges all the elements of a list of string items, with the specified separator\n",
    "print(\" \".join([\"this\",\"is\",\"a\",\"list\",\"of\",\"string\",\"items\"])) # joins all the words in the list with a space separator\n",
    "\n",
    "# enumerate() returns an iterable** containing tuples** of all items and their indexes\n",
    "c=[15,25,35]\n",
    "print(list(enumerate(c))) # (index,value) pairs or tuples** for each item in the list\n",
    "\n",
    "# zip() combines 2 lists. It matches up corresponding elements from each list and combines them into tuples**\n",
    "a = [\"Student #1\", \"Student #2\", \"Student #3\"]\n",
    "b = [\"87.3%\",\"90.5%\",\"74%\"]\n",
    "print(list(zip(a,b))) # returns (student,exam_score) pairs\n",
    "\n",
    "```"
   ]
  },
  {
   "cell_type": "code",
   "execution_count": null,
   "metadata": {},
   "outputs": [],
   "source": [
    "# Run the code above:\n"
   ]
  },
  {
   "cell_type": "code",
   "execution_count": 134,
   "metadata": {},
   "outputs": [],
   "source": [
    "# Exercises:\n",
    "\n",
    "# 1. Create a list with the values [1,2,3]. Now remove all the values from the list but preserve the list object\n"
   ]
  },
  {
   "cell_type": "code",
   "execution_count": 135,
   "metadata": {},
   "outputs": [],
   "source": [
    "# 2. Create a list with the 1st 10 non-negative integers\n"
   ]
  },
  {
   "cell_type": "code",
   "execution_count": 136,
   "metadata": {},
   "outputs": [],
   "source": [
    "# 3. Create a list with integers from 20 to 35\n"
   ]
  },
  {
   "cell_type": "code",
   "execution_count": 137,
   "metadata": {},
   "outputs": [],
   "source": [
    "# 4. Check if the list [\"Jim\", \"Sam\", \"Tom\"] contains \"Tim\"\n"
   ]
  },
  {
   "cell_type": "code",
   "execution_count": 138,
   "metadata": {},
   "outputs": [],
   "source": [
    "# 5. Print out the concatenated lists [1,2,3] & [4,5,6] without changing either list\n"
   ]
  },
  {
   "cell_type": "code",
   "execution_count": 139,
   "metadata": {},
   "outputs": [],
   "source": [
    "# 6. Add the items of the list [4,5,6] to the end of the list [1,2,3]\n"
   ]
  },
  {
   "cell_type": "code",
   "execution_count": 140,
   "metadata": {},
   "outputs": [],
   "source": [
    "# 7. Create a string of the items of the list ['abc','def','ghi'] joined by \"-\" (hyphen)\n"
   ]
  },
  {
   "cell_type": "code",
   "execution_count": 141,
   "metadata": {},
   "outputs": [],
   "source": [
    "# 8. Return a list of all the items of the list ['abc','def','ghi'] along with their indexes\n"
   ]
  },
  {
   "cell_type": "code",
   "execution_count": 142,
   "metadata": {},
   "outputs": [],
   "source": [
    "# 9. Create a list 'student_names' with the values 'Jim','Tom','Sam'. Create a list exam_scores with the values 70, 80, 85.\n",
    "# Create 1 combined list with (student,score) pairs\n"
   ]
  },
  {
   "cell_type": "markdown",
   "metadata": {},
   "source": [
    "## *3. Tuple* \n",
    "\n",
    "Tuples contain a sequence of objects just like lists, but they are immutable (which means that they cannot be changed/modified). So Lists have all the getter and setter methods, while tuples have only getter methods. Tuples use round brackets, while lists use square brackets. Tuples can contain heterogeneous data types. The ordering of items matter, like in lists. Indexing works just like in lists, but we cannot modify any element of a tuple, as the tuple is immutable.\n",
    "\n",
    "\n",
    "### A) `Initializing Tuples`:\n",
    "\n",
    "```Python\n",
    "# Ways of initializing a tuple. Remember, round brackets () ==> Tuple\n",
    "\n",
    "# empty tuple with no items\n",
    "tup_1 = () \n",
    "print(tup_1)\n",
    "\n",
    "# tuple with items specified\n",
    "tup_2 = (1,2,3,4)\n",
    "print(tup_2)\n",
    "\n",
    "# tuple with heterogeneous items\n",
    "tup_3 = (11,\"This\",2,\"is\",True,\"a\",100.25,\"List\")\n",
    "print(tup_3)\n",
    "\n",
    "# tuple from variables\n",
    "a=\"x\"\n",
    "b=\"y\"\n",
    "c=\"z\"\n",
    "tup_4 = (a,b,c)\n",
    "print(tup_4)\n",
    "\n",
    "# tuple of lists\n",
    "tup_5 = ([1,2],[3,4],[5,6])\n",
    "print(tup_5)\n",
    "\n",
    "# tuple of tuples\n",
    "tup_6 = ((1,2),(3,4),(5,6))\n",
    "print(tup_6)\n",
    "\n",
    "# using the tuple() function/constructor\n",
    "tup_7 = tuple()\n",
    "print(tup_7)\n",
    "tup_8 = tuple([10,20,30,40]) # creating a tuple from a list\n",
    "print(tup_8)\n",
    "tup_9 = tuple(\"Tuple String\") # creating a tuple of individual characters from a string\n",
    "print(tup_9)\n",
    "```"
   ]
  },
  {
   "cell_type": "code",
   "execution_count": null,
   "metadata": {},
   "outputs": [],
   "source": [
    "# Run the above code:\n"
   ]
  },
  {
   "cell_type": "code",
   "execution_count": 143,
   "metadata": {},
   "outputs": [],
   "source": [
    "# Exercises:\n",
    "\n",
    "# 1. Create an empty tuple\n"
   ]
  },
  {
   "cell_type": "code",
   "execution_count": 144,
   "metadata": {},
   "outputs": [],
   "source": [
    "# 2. Create a tuple with the names of the 2 most populated countries in the world\n"
   ]
  },
  {
   "cell_type": "code",
   "execution_count": 145,
   "metadata": {},
   "outputs": [],
   "source": [
    "# 3. Create 3 variables with values 7.57, 800, 0.0045. Create a tuple with these 3 variables\n"
   ]
  },
  {
   "cell_type": "code",
   "execution_count": 146,
   "metadata": {},
   "outputs": [],
   "source": [
    "# 4. Create a tuple containing 3 tuples: (\"a\",1),(\"b\",2),(\"c\",3)\n"
   ]
  },
  {
   "cell_type": "code",
   "execution_count": 147,
   "metadata": {},
   "outputs": [],
   "source": [
    "# 5. Create a tuple containing all the characters in the string \"Hello World!\"\n"
   ]
  },
  {
   "cell_type": "code",
   "execution_count": null,
   "metadata": {},
   "outputs": [],
   "source": [
    "# 6. Create  tuple from the list [100, 200, 300, 400, 500]\n"
   ]
  },
  {
   "cell_type": "markdown",
   "metadata": {},
   "source": [
    "### B) `Immutability of Tuples`:\n",
    "\n",
    "Tuples cannot be modified once they are created. Trying to do so will throw an error\n",
    "\n",
    "```Python\n",
    "t_1 = (\"alpha\",\"beta\",\"gamma\")\n",
    "t_1[0] = \"phi\" # this will throw a TypeError saying that tuples don't support this assignment operation\n",
    "\n",
    "```"
   ]
  },
  {
   "cell_type": "code",
   "execution_count": 115,
   "metadata": {},
   "outputs": [],
   "source": [
    "# Exercise:\n",
    "\n",
    "# 1. Create a tuple with 4 values: \"North\", \"South\", \"East\", \"West\". \n",
    "# Now try to change the 2nd element to \"South-west\". Is it possible?\n"
   ]
  },
  {
   "cell_type": "markdown",
   "metadata": {},
   "source": [
    "### C) `Tuples as a sequence`:\n",
    "\n",
    "Indexing in Tuples is very similar to Lists. Each item in a Tuple has a position or index. The 1st item has an index of 0, the 2nd item has an index of 1 and so on. The last item has an index of n-1, where 'n' is the number of items in the Tuple.\n",
    "\n",
    "```Python\n",
    "seq=(1,2,3,4,5,6,7,8,9,10)\n",
    "\n",
    "# get the number of items in the tuple\n",
    "print(len(seq)) # length of the tuple\n",
    "\n",
    "# get the Nth item in the tuple. The following operations are called \"indexing\"\n",
    "print(seq[0]) # returns the 1st item\n",
    "print(seq[5]) # returns the 6th item\n",
    "print(seq[len(seq)-1]) # gives the last item\n",
    "print(seq[-1]) # better way of getting the last item\n",
    "print(seq[-2]) # gives the 2nd-from-last item\n",
    "\n",
    "# get a range of items from the tuple. The following operations are called 'subsetting' or 'slicing'      \n",
    "# tup_1[m:n] gives all items starting from the item at index 'm' to index 'n-1'\n",
    "print(seq[0:2]) # 1st 2 items of the tuple\n",
    "print(seq[:2]) # same as above\n",
    "print(seq[5:8]) # 3 items (with indexes 5,6,7)\n",
    "print(seq[3:]) # everything excepting the first 3 items\n",
    "print(seq[:]) # returns the entire tuple\n",
    "print(seq[0:7:2]) # every 2nd item in the tuple, starting with the index 0, and ending with index < 7 (not inclusive)\n",
    "print(seq[::-1]) # entire tuple in reverse order\n",
    "\n",
    "# tuple of tuples\n",
    "z=((1,2),(3,4),(5,6))\n",
    "print(z[0]) # returns (1,2), which is the 1st item in 'z'\n",
    "print(z[0][0]) # returns 1, which is the 1st item in the 1st tuple in 'z'\n",
    "print(z[-1][0]) # returns 5, which is the 1st item in the last tuple in 'z'\n",
    "print(z[1][1]) # returns 4, which is the 2nd item in the 2nd tuple in 'z'\n",
    "```"
   ]
  },
  {
   "cell_type": "code",
   "execution_count": null,
   "metadata": {},
   "outputs": [],
   "source": [
    "# Run the above code:\n"
   ]
  },
  {
   "cell_type": "code",
   "execution_count": 148,
   "metadata": {},
   "outputs": [],
   "source": [
    "# Exercise\n",
    "\n",
    "# 1. Declare a tuple 'tup' that has the items: (1,2,\"a\",\"b\",3,4,\"c\",\"d\")\n"
   ]
  },
  {
   "cell_type": "code",
   "execution_count": 149,
   "metadata": {},
   "outputs": [],
   "source": [
    "# 2. Find the number of items in the tuple\n"
   ]
  },
  {
   "cell_type": "code",
   "execution_count": 150,
   "metadata": {},
   "outputs": [],
   "source": [
    "# 3. What is the 2nd item in the tuple?\n"
   ]
  },
  {
   "cell_type": "code",
   "execution_count": 151,
   "metadata": {},
   "outputs": [],
   "source": [
    "# 4. What is the 3rd-from-last item in the tuple?\n"
   ]
  },
  {
   "cell_type": "code",
   "execution_count": 152,
   "metadata": {},
   "outputs": [],
   "source": [
    "# 5. Print out the 1st 4 items of the tuple \n"
   ]
  },
  {
   "cell_type": "code",
   "execution_count": 153,
   "metadata": {},
   "outputs": [],
   "source": [
    "# 6. Print out the part of the tuple from the 4th item to the 7th item (included)\n"
   ]
  },
  {
   "cell_type": "code",
   "execution_count": 154,
   "metadata": {},
   "outputs": [],
   "source": [
    "# 7. Print out the entire tuple without the first 4 items\n"
   ]
  },
  {
   "cell_type": "code",
   "execution_count": 155,
   "metadata": {},
   "outputs": [],
   "source": [
    "# 8. Print out every third item in the tuple, starting with the first item\n"
   ]
  },
  {
   "cell_type": "code",
   "execution_count": 156,
   "metadata": {},
   "outputs": [],
   "source": [
    "# 9. Print out the tuple in reverse order\n"
   ]
  },
  {
   "cell_type": "code",
   "execution_count": 157,
   "metadata": {},
   "outputs": [],
   "source": [
    "# 10. Create a tuple with the following items: (\"India\",1.25),(\"China\",1.7),(\"USA\",0.35)\n",
    "# Which is the 1st item inside the 2nd item of the tuple?\n",
    "# Which is the 2nd item inside the last item of the tuple\n"
   ]
  },
  {
   "cell_type": "markdown",
   "metadata": {},
   "source": [
    "### D) `Methods to process/generate tuples`:\n",
    "`len, index, count, max, min, enumerate, tuple, zip, in` \n",
    "\n",
    "```Python\n",
    "\n",
    "# len() gives the number of items in the tuple\n",
    "m=(10,20,30,40,20)\n",
    "print(len(m)) # length of the tuple\n",
    "\n",
    "# index(item) returns the index of the 1st instance of the item in the tuple. Throws an error if it isn't found \n",
    "m=(10,20,30,40,20)\n",
    "print(m.index(20)) # returns 1 (2nd item)\n",
    "print(m.index(25)) # throws ValueError\n",
    "\n",
    "# count(item) return the number of instances of the item in the tuple\n",
    "m=(10,20,30,40,20)\n",
    "print(m.count(20)) # returns 2\n",
    "print(m.count(25)) # returns 0\n",
    "\n",
    "# max() returns the largest value in the tuple, and min() returns the smallest value. \n",
    "# (Tuple should have numerical values only)\n",
    "m=(10,20,30,40.5,20)\n",
    "print(max(m)) # returns 40.5\n",
    "print(min(m)) # returns 10\n",
    "\n",
    "# enumerate() returns an iterator of all items and their indexes\n",
    "c=(15,25,35)\n",
    "print(tuple(enumerate(c))) # (index,value) pairs for each item in the tuple\n",
    "\n",
    "# zip() combines 2 tuples. It matches up corresponding elements from each tuple and combines them\n",
    "a = (\"Student #1\", \"Student #2\", \"Student #3\")\n",
    "b = (\"87.3%\",\"90.5%\",\"74%\")\n",
    "print(tuple(zip(a,b))) # returns (student,exam_score) pairs\n",
    "\n",
    "# the 'in' keyword lets you check whether an item is contained in the list. Only returns True or False\n",
    "a=10\n",
    "b=(1,2,3,4,5,6,7,8,9,10)\n",
    "print(a in b)\n",
    "\n",
    "# we can also assign/map tuples containing variables to tuples containing values\n",
    "(x,y,z) = (100,200,300)\n",
    "print(x+y+z)\n",
    "```\n"
   ]
  },
  {
   "cell_type": "code",
   "execution_count": null,
   "metadata": {},
   "outputs": [],
   "source": [
    "# Run the above code:\n"
   ]
  },
  {
   "cell_type": "code",
   "execution_count": 158,
   "metadata": {},
   "outputs": [],
   "source": [
    "# Exercises:\n",
    "\n",
    "# 1. Create a tuple with the values 10.5, 200, 30.75, .400, 500. How many items in the tuple?\n"
   ]
  },
  {
   "cell_type": "code",
   "execution_count": 159,
   "metadata": {},
   "outputs": [],
   "source": [
    "# 2. Print out the maximum and minimum values in the tuple\n"
   ]
  },
  {
   "cell_type": "code",
   "execution_count": 160,
   "metadata": {},
   "outputs": [],
   "source": [
    "# 3. How many occurrences of the item '200' are in the tuple (125,200,350,200,400,200)?\n",
    "# What is the position of the 1st occurrence of '200' in the tuple?\n"
   ]
  },
  {
   "cell_type": "code",
   "execution_count": 161,
   "metadata": {},
   "outputs": [],
   "source": [
    "# 4. Create a tuple with the items \"Alpha\", \"Beta\", \"Gamma\". Create a list of tuples containing each item along with its index\n"
   ]
  },
  {
   "cell_type": "code",
   "execution_count": 162,
   "metadata": {},
   "outputs": [],
   "source": [
    "# 5. Create a tuple 'student' with the values \"Student #1\", \"Student #2\", \"Student #3\". \n",
    "# Create a tuple called 'attendance' with the values \"75%\", \"80%\", \"95%\"\n",
    "# Create a tuple called 'exam_score' with the values 87.3, 90.5, 74\n",
    "# Create individual tuples containing student name, attendance and exam scores, for all students\n"
   ]
  },
  {
   "cell_type": "code",
   "execution_count": 163,
   "metadata": {},
   "outputs": [],
   "source": [
    "# 6. Check if the tuple (\"Jim\", \"Sam\", \"Tom\") contains \"Tim\"\n"
   ]
  },
  {
   "cell_type": "code",
   "execution_count": 164,
   "metadata": {},
   "outputs": [],
   "source": [
    "# 7. Create a tuple containing the values 200, 400, 800. Simulatneously assign the tuple items to 3 variables v1, v2, v3\n",
    "# Find the sum of v1, v2 abd v3\n"
   ]
  },
  {
   "cell_type": "markdown",
   "metadata": {},
   "source": [
    "## *4. Dictionary* \n",
    "\n",
    "Dictionary is a Python data type that stores unordered key-value pairs. It is also called a hashmap. The keys in a dictionary must be unique - there can be no duplicates. Python Dictionary objects use curly brackets. Typically, the keys are either integers or strings, and the corresponding values can be of any data type. Dictionaries are perfect for storing JSON data (which we'll explore later). The key-value pairs are not stored in any particular order, but they are still a collection.\n",
    "\n",
    "### A) `Initializing Dictionary objects`:\n",
    "```Python\n",
    "# Ways of initializing a dictionary. Remember, curly brackets with key-value pairs {key:value} ==> Dictionary\n",
    "\n",
    "# empty dictionary with no items\n",
    "d_1 = {} \n",
    "print(d_1)\n",
    "\n",
    "# dictionary with integer keys\n",
    "d_2 = {1: \"Vikram\", 2:\"Vijit\"}\n",
    "print(d_2)\n",
    "\n",
    "# dictionary with string keys\n",
    "d_3 = {\"India\":1.3, \"China\":1.7}\n",
    "print(d_3)\n",
    "\n",
    "# dictionary with mixed keys, created from variables\n",
    "a=\"x\"\n",
    "b=\"y\"\n",
    "c=\"z\"\n",
    "x=1\n",
    "y=2\n",
    "z=3\n",
    "d_4 = {a:b, x:y, c:z}\n",
    "print(d_4)\n",
    "\n",
    "# dictionary with mixed values\n",
    "d_5 = {\"exam_score\":99.5,\"country\":\"India\", \"ages\":[50,60],\"dictio\":{\"a\":100,\"b\":200}}\n",
    "print(d_5)\n",
    "\n",
    "# using the dict() function\n",
    "# from a list of tuples\n",
    "d_6 = dict([(\"a\",1),(\"b\",2),(\"c\",3)])\n",
    "print(d_6)\n",
    "```"
   ]
  },
  {
   "cell_type": "code",
   "execution_count": null,
   "metadata": {},
   "outputs": [],
   "source": [
    "# Run the above code:\n"
   ]
  },
  {
   "cell_type": "code",
   "execution_count": 183,
   "metadata": {},
   "outputs": [],
   "source": [
    "# Exercises:\n",
    "\n",
    "# 1. Create and print an empty dictionary\n"
   ]
  },
  {
   "cell_type": "code",
   "execution_count": 184,
   "metadata": {},
   "outputs": [],
   "source": [
    "# 2. Create  and print the following dictionary: the key \"a\" has the value 100, the key \"b\" has the value 200.5, and \n",
    "# the key 3 has the value [1,2,\"x\"]\n"
   ]
  },
  {
   "cell_type": "code",
   "execution_count": 185,
   "metadata": {},
   "outputs": [],
   "source": [
    "# 3. There are 2 related lists with corresponding items: \"India\", \"China\", \"USA\" and 1.3, 1.7, 0.35. \n",
    "# Create a dictionary called 'countries' where the keys are the indexes in the list, and the values are the country names\n",
    "# Create a dictionary called 'country_pop' where the keys are the items from the 1st list & the values are items from the 2nd \n"
   ]
  },
  {
   "cell_type": "markdown",
   "metadata": {},
   "source": [
    "### B) `Dictionary operations`: \n",
    "`len, pop, del, keys, values, items, get, in`\n",
    "\n",
    "```Python\n",
    "x = {}\n",
    "\n",
    "# inserting an entry into a dictionary \n",
    "x[\"key1\"]=\"value 1\"\n",
    "x[1]=\"value 2\" # 1 refers to the key value and not position\n",
    "x[\"key3\"]=[1,2,3,4]\n",
    "x[\"key4\"]={\"a\":100,\"b\":200}\n",
    "print(x)\n",
    "\n",
    "# updating an entry\n",
    "x[\"key1\"]=\"updated value 1\"\n",
    "x[1]=2\n",
    "print(x)\n",
    "\n",
    "# reading/accessing entries\n",
    "print(x[\"key1\"]) # prints the value associated with the key \"key1\"\n",
    "print(x[1]) # prints the value associated with the key 1\n",
    "print(x[\"key3\"][0]) # prints the 1st value in the list associated with the key \"key3\"\n",
    "print(x[\"key4\"][\"b\"]) # prints the value associated with key \"b\" in the dict associated with the key \"key4\"\n",
    "print(x[\"key5\"]) # throws an error because \"key5\" is not a key in the dictionary\n",
    "\n",
    "# get(key, value_if_doesnt_exist) is used to get values when you aren't sure if the key exists or not\n",
    "print(x.get(\"key5\",\"NA\")) # returns the value if they key exists, else \"NA\" (not an error)\n",
    "print(x.get(\"key3\",\"NA\")) # returns the value if they key exists, else \"NA\" (not an error)\n",
    "\n",
    "# len() gives the number of entries in the dictionary \n",
    "print(len(x))\n",
    "\n",
    "# pop(key) deletes an entry with the specified key, and returns it\n",
    "x.pop(\"key1\") # removes + returns the entry containing \"key1\" as the key (if present). Else error\n",
    "\n",
    "# del(key) removes the entry  with the specified key, and doesn't return anything\n",
    "del(x[1]) # removes but doesn't return the entry containing 1 as the key (if present). Else error. \n",
    "\n",
    "# keys() gives us a list of all the keys in the dictionary\n",
    "print(x.keys())\n",
    "\n",
    "# values() gives us a list of all the values associated with the keys in the dictionary\n",
    "print(x.values())\n",
    "\n",
    "# items() gives us a list of tuples containing the key-value pairs in the dictionary\n",
    "print(x.items())\n",
    "\n",
    "# you can also use \"in\" to check if a key exists in the dictionary\n",
    "print(\"key3\" in list(x.keys()))\n",
    "```"
   ]
  },
  {
   "cell_type": "code",
   "execution_count": 204,
   "metadata": {},
   "outputs": [
    {
     "name": "stdout",
     "output_type": "stream",
     "text": [
      "4\n"
     ]
    }
   ],
   "source": [
    "# Run the above code:\n"
   ]
  },
  {
   "cell_type": "code",
   "execution_count": 186,
   "metadata": {},
   "outputs": [],
   "source": [
    "# Exercises:\n",
    "\n",
    "# 1. Create a dictionary with 1 key \"string\" that has a corresponding value of \"This is a string\"\n"
   ]
  },
  {
   "cell_type": "code",
   "execution_count": 187,
   "metadata": {},
   "outputs": [],
   "source": [
    "# 2. Insert an entry with key \"int\" and value 100\n"
   ]
  },
  {
   "cell_type": "code",
   "execution_count": 188,
   "metadata": {},
   "outputs": [],
   "source": [
    "# 3. Insert an entry with key \"list\" and value [100, 200, 300]\n"
   ]
  },
  {
   "cell_type": "code",
   "execution_count": 189,
   "metadata": {},
   "outputs": [],
   "source": [
    "# 4. Insert an entry with key \"dict\" and value {\"a\":250,\"b\":500}\n"
   ]
  },
  {
   "cell_type": "code",
   "execution_count": 190,
   "metadata": {},
   "outputs": [],
   "source": [
    "# 5. Print out the entry with key \"list\" (without and with get())\n"
   ]
  },
  {
   "cell_type": "code",
   "execution_count": 191,
   "metadata": {},
   "outputs": [],
   "source": [
    "# 6. Print out the 2nd entry in the list corresponding to key \"list\"\n"
   ]
  },
  {
   "cell_type": "code",
   "execution_count": 192,
   "metadata": {},
   "outputs": [],
   "source": [
    "# 7. Print out the 1st entry in the dictionary corresponding to the key \"dict\"\n"
   ]
  },
  {
   "cell_type": "code",
   "execution_count": 193,
   "metadata": {},
   "outputs": [],
   "source": [
    "# 8. Change the 2nd item in the list corresponding to key \"list\" from 200 to 400\n"
   ]
  },
  {
   "cell_type": "code",
   "execution_count": 194,
   "metadata": {},
   "outputs": [],
   "source": [
    "# 9. Change the value corresponding to key \"b\" from 500 to 600 in the dicitonary corresponding to \"dict\"\n"
   ]
  },
  {
   "cell_type": "code",
   "execution_count": 195,
   "metadata": {},
   "outputs": [],
   "source": [
    "# 10. Print out a list of all keys in the dictionary\n"
   ]
  },
  {
   "cell_type": "code",
   "execution_count": 196,
   "metadata": {},
   "outputs": [],
   "source": [
    "# 11. Print out a list of all values in the dictionary\n"
   ]
  },
  {
   "cell_type": "code",
   "execution_count": 197,
   "metadata": {},
   "outputs": [],
   "source": [
    "# 12. Print out a list of all key-value tuples in the dictionary\n"
   ]
  },
  {
   "cell_type": "code",
   "execution_count": 198,
   "metadata": {},
   "outputs": [],
   "source": [
    "# 13. Delete the entry with key \"int\", and print out the removed value at the same time\n"
   ]
  },
  {
   "cell_type": "code",
   "execution_count": 199,
   "metadata": {},
   "outputs": [],
   "source": [
    "# 14. Remove the entry with key \"string\". Now print out the entire dictionary object\n"
   ]
  },
  {
   "cell_type": "code",
   "execution_count": 205,
   "metadata": {},
   "outputs": [],
   "source": [
    "# 15. Check if the key \"dict\" exists in the dictionary (using 'in')\n"
   ]
  },
  {
   "cell_type": "code",
   "execution_count": 206,
   "metadata": {},
   "outputs": [],
   "source": [
    "# 16. How many entries are remaining in the dictionary ?\n"
   ]
  },
  {
   "cell_type": "markdown",
   "metadata": {},
   "source": [
    "## *5. Set* \n",
    "\n",
    "A set is a Python collection containing unordered, unique items. The set must contain immutable items (so no lists and dictionaries), while the set itself can be changed by adding or removing items. Commonly used set operations include Union, Intersection and Difference. Sets use curly braces, with each item separated by a comma.\n",
    "\n",
    "### A) `Initializing sets`:\n",
    "\n",
    "```Python\n",
    "# Ways of initializing a set. Remember, curly brackets with comma-separated values ==> Set\n",
    "\n",
    "# empty set with no items\n",
    "s_1 = {} # this creates a dictionary, not a set\n",
    "print(type(s_1))\n",
    "\n",
    "s_2 = set()\n",
    "print(type(s_2))\n",
    "\n",
    "# set with values\n",
    "s_3 = {1,2,\"three\",4.5, True}\n",
    "print(s_3)\n",
    "\n",
    "# using the set() function\n",
    "s_4 = set((1,2,\"3three\",\"4four\"))\n",
    "print(s_4)\n",
    "\n",
    "l_1 = [1,2,3,4,5,4]\n",
    "s_5 = set(l_1)\n",
    "print(s_5)\n",
    "```"
   ]
  },
  {
   "cell_type": "code",
   "execution_count": null,
   "metadata": {},
   "outputs": [],
   "source": [
    "# Run the above code:\n"
   ]
  },
  {
   "cell_type": "code",
   "execution_count": 213,
   "metadata": {},
   "outputs": [],
   "source": [
    "# Exercises:\n",
    "\n",
    "# 1. Initialize a set with the values 100, 200, \"thirty\",\"forty\"\n"
   ]
  },
  {
   "cell_type": "code",
   "execution_count": 214,
   "metadata": {},
   "outputs": [],
   "source": [
    "# 2. Create a set with from a list containing the values [\"a\",\"b\",\"c\"]\n"
   ]
  },
  {
   "cell_type": "markdown",
   "metadata": {},
   "source": [
    "### B) `Set operations`:\n",
    "`len, add, update, discard, remove, union, intersection, difference, issuperset, issubset, isdisjoint`\n",
    "\n",
    "```Python\n",
    "x=[1,2,3,5,4,5] \n",
    "xs=set(x) # adds only 1 copy of the item '5'\n",
    "\n",
    "y={4,5,6,7,8}\n",
    "\n",
    "# len() gives the number of items in the set\n",
    "print(len(xs)) \n",
    "\n",
    "# add(item) inserts an item into the set if it doesnt exist already\n",
    "xs.add(6)\n",
    "print(xs) \n",
    "\n",
    "# update(items) inserts the items from the list/set that aren't currently present\n",
    "ys.update([7,8,9,10])\n",
    "print(ys)\n",
    "\n",
    "# discard(item) removes the item from the set. If it doesnt exist, the set remin unchanged. No error thrown \n",
    "ys.discard(10)\n",
    "ys.discard(11)\n",
    "print(ys)\n",
    "\n",
    "# remove(item) removes the item from the set. Throws an error if it doesnt exist\n",
    "xs.remove(6)\n",
    "print(xs) \n",
    "\n",
    "# union() gives all elements from both sets combined\n",
    "print(xs.union(ys))\n",
    "\n",
    "# intersection() gives only the elements present in both sets\n",
    "print(xs.intersection(ys))\n",
    "\n",
    "# x.difference(y) gives the elements of 'x' that are not in 'y'\n",
    "print(xs.difference(ys))\n",
    "\n",
    "# x.issuperset(y) returns true if x is a superset of y \n",
    "print(xs.issuperset({1,2,3}))\n",
    "\n",
    "# x.issubset(y) returns true if x is a subset of y \n",
    "print(set([1,2,3]).issubset(xs))\n",
    "\n",
    "# x.isdisjoint(y) returns true if x and y have no items in common \n",
    "print(set([1,2,3]).isdisjoint(set([4,5,6])))\n",
    "\n",
    "```"
   ]
  },
  {
   "cell_type": "code",
   "execution_count": null,
   "metadata": {},
   "outputs": [],
   "source": [
    "# Run the above code:\n"
   ]
  },
  {
   "cell_type": "code",
   "execution_count": 215,
   "metadata": {},
   "outputs": [],
   "source": [
    "# Exercises:\n",
    "\n",
    "# 1. Create a set 'set_1' with the values 1, 2, 3, 4, 5\n"
   ]
  },
  {
   "cell_type": "code",
   "execution_count": 216,
   "metadata": {},
   "outputs": [],
   "source": [
    "# 2. Create a set 'set_2' with the values 5, 6, 7, 8\n"
   ]
  },
  {
   "cell_type": "code",
   "execution_count": 217,
   "metadata": {},
   "outputs": [],
   "source": [
    "# 3. How many more elements does 'set_1' have than 'set_2'?\n"
   ]
  },
  {
   "cell_type": "code",
   "execution_count": 218,
   "metadata": {},
   "outputs": [],
   "source": [
    "# 4. Insert the value 6 into 'set_1'\n"
   ]
  },
  {
   "cell_type": "code",
   "execution_count": 219,
   "metadata": {},
   "outputs": [],
   "source": [
    "# 5. Insert into 'set_2' the elements of the list [7,8,9,10,11] which it doesn't already have\n"
   ]
  },
  {
   "cell_type": "code",
   "execution_count": 220,
   "metadata": {},
   "outputs": [],
   "source": [
    "# 6. Remove the element '11' from 'set_2' (in a way that wouldn't throw an error if it didnt exist)\n"
   ]
  },
  {
   "cell_type": "code",
   "execution_count": 221,
   "metadata": {},
   "outputs": [],
   "source": [
    "# 7. List out all the elements belonging to the both the sets combined\n"
   ]
  },
  {
   "cell_type": "code",
   "execution_count": 222,
   "metadata": {},
   "outputs": [],
   "source": [
    "# 8. What are the common elements between the 2 sets?\n"
   ]
  },
  {
   "cell_type": "code",
   "execution_count": 223,
   "metadata": {},
   "outputs": [],
   "source": [
    "# 9. Which elements does 'set_1' have that 'set_2' doesnt have?\n"
   ]
  },
  {
   "cell_type": "code",
   "execution_count": null,
   "metadata": {},
   "outputs": [],
   "source": [
    "# 10. Are the sets {1,2,3} and {3,4,5} disjoint?\n"
   ]
  },
  {
   "cell_type": "markdown",
   "metadata": {},
   "source": [
    "## *6. Converting between data types*\n",
    "---\n",
    "\n",
    "You can convert variables from one data type to another compatible data type depending on the need. \n",
    "\n",
    "```Python\n",
    "# str() converts variables to the 'string' data type\n",
    "print(\"This is the number to track:\" + str(5.5)) # would've thrown an error if 5.5 wasnt converted to a string\n",
    "\n",
    "# int() and float() can convert numbers stored as text into actual numerical objects\n",
    "print(int(\"444\"))\n",
    "print(float(\"444.55\"))\n",
    "\n",
    "# dict() can convert a list of tuples into a dictionary containing key-value pairs\n",
    "print(dict([(\"key1\",1),(\"key2\",2)]))\n",
    "\n",
    "# list() converts a collection into the list data type\n",
    "print(list({\"key1\":1,\"key2\":2}.values()))\n",
    "\n",
    "# tuple() converts items of a list or characters of a string into a tuple\n",
    "print(tuple([1,2,3,4,5]))\n",
    "print(tuple(\"string\"))\n",
    "\n",
    "# set converts the items of a collection into the set data type\n",
    "print(set([1,2,3,4]))\n",
    "print(set((1,2,3,4)))\n",
    "```"
   ]
  },
  {
   "cell_type": "code",
   "execution_count": null,
   "metadata": {},
   "outputs": [],
   "source": [
    "# Run the above code:\n"
   ]
  },
  {
   "cell_type": "code",
   "execution_count": 231,
   "metadata": {},
   "outputs": [],
   "source": [
    "# Exercises\n",
    "\n",
    "# 1. Print out the message: \"Yes i scored \" followed by the number '100'\n"
   ]
  },
  {
   "cell_type": "code",
   "execution_count": 232,
   "metadata": {},
   "outputs": [],
   "source": [
    "# 2. Convert the list containing 2 tuples (\"key1\", 1) & (\"key2\", 2) into a dictionary\n"
   ]
  },
  {
   "cell_type": "code",
   "execution_count": 233,
   "metadata": {},
   "outputs": [],
   "source": [
    "# 3. Convert the 'values' of the above dictionary into a list\n"
   ]
  },
  {
   "cell_type": "code",
   "execution_count": 234,
   "metadata": {},
   "outputs": [],
   "source": [
    "# 4. Convert the above list into a tuple\n"
   ]
  },
  {
   "cell_type": "code",
   "execution_count": 235,
   "metadata": {},
   "outputs": [],
   "source": [
    "# 5. Create a tuple containing all the characters of the string \"data types\"\n"
   ]
  },
  {
   "cell_type": "code",
   "execution_count": 236,
   "metadata": {},
   "outputs": [],
   "source": [
    "# 6. Convert the above tuple into a set\n"
   ]
  },
  {
   "cell_type": "markdown",
   "metadata": {},
   "source": [
    "## *7. Seeking help - using 'dir' and 'help'*\n",
    "---\n",
    "\n",
    "How can you use the Python help and documentation functions to quickly find the information you need? The `dir` and `help` \n",
    "methods will be great time-savers for you.\n",
    "\n",
    "```Python\n",
    "# dir(x) lists all the attributes and methods of variable 'x'\n",
    "\n",
    "# to check for all the methods that are available on string objects\n",
    "# method 1\n",
    "x=\"\"\n",
    "dir(x)\n",
    "\n",
    "# method 2\n",
    "dir(\"\")\n",
    "\n",
    "# the same method works for other data types as well\n",
    "dir(10) # integer\n",
    "dir([]) # list\n",
    "dir({}) # dictionary\n",
    "\n",
    "# to get detailed documentation about an entire class, use 'help(x)'\n",
    "help(\"\")\n",
    "\n",
    "# to get details about a particular method of a class, use 'help(x.method)' \n",
    "help(\"\".capitalize)\n",
    "\n",
    "```"
   ]
  },
  {
   "cell_type": "code",
   "execution_count": 245,
   "metadata": {},
   "outputs": [],
   "source": [
    "# Exercises:\n",
    "\n",
    "# 1. Get a list of all methods possible on the 'List' data type \n"
   ]
  },
  {
   "cell_type": "code",
   "execution_count": 246,
   "metadata": {},
   "outputs": [],
   "source": [
    "# 2. Get detailed documentation about the 'Dictionary' class\n"
   ]
  },
  {
   "cell_type": "code",
   "execution_count": null,
   "metadata": {},
   "outputs": [],
   "source": [
    "# 3. Get detailed documentation about the join() method of the 'string' class\n"
   ]
  },
  {
   "cell_type": "markdown",
   "metadata": {},
   "source": [
    "## *Congratulations! You have now mastered Python collections - String, List, Dictionary, Tuple and Set. Keep up the great work!*"
   ]
  }
 ],
 "metadata": {
  "kernelspec": {
   "display_name": "Python 3",
   "language": "python",
   "name": "python3"
  },
  "language_info": {
   "codemirror_mode": {
    "name": "ipython",
    "version": 3
   },
   "file_extension": ".py",
   "mimetype": "text/x-python",
   "name": "python",
   "nbconvert_exporter": "python",
   "pygments_lexer": "ipython3",
   "version": "3.7.5"
  }
 },
 "nbformat": 4,
 "nbformat_minor": 2
}
