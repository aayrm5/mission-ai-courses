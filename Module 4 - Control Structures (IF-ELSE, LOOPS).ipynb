{
 "cells": [
  {
   "cell_type": "markdown",
   "metadata": {},
   "source": [
    "# Module 4 - Control Structures (Conditional Logic, Loops)\n",
    "---\n",
    "In this module, you will get comfortable with writing conditional logic using IF-ELSE statements, as well as using Loops for iteration / repetition. We have already learnt about all of Python's major data types, variables and operators; we will start putting them together into programs that generate specific outputs for specific conditions, which is how most real-world programming tasks are structured. \n",
    "\n",
    "\n",
    "## *1. What is conditional logic?*\n",
    "---\n",
    "\n",
    "Conditional logic is a `structured way of generating outputs based on conditions or criteria`. The following statements are examples: \n",
    "\n",
    "> If the hotel guest is female, \n",
    "    say 'Welcome Ma'am'.\n",
    "Else \n",
    "    say 'Welcome Sir'\n",
    "\n",
    "> If the student scores more than 90%, \n",
    "    give a Gold Medal. \n",
    "Else if the student scores between 70% and 90%\n",
    "    give a Silver Medal. \n",
    "Else give a Bronze Medal\n",
    "\n",
    "\n",
    "\n",
    "## *2. Using `if-elif-else` to implement conditional logic*:\n",
    "---\n",
    "Python provides the `if-elif-else` framework for us to write conditional logic. The syntax is as follows:\n",
    "\n",
    "```Python\n",
    "if (condition_1):\n",
    "    do action_1\n",
    "\n",
    "elif (condition_2):\n",
    "    do action_2\n",
    "\n",
    "else:\n",
    "    do action_3\n",
    "```\n",
    "\n",
    "Here are a few important points to note: \n",
    "- You can `either include the brackets or exclude them`. Personally, I prefer using brackets. \n",
    "- `Remember the colon` after each of the conditions and keywords\n",
    "- The code for each line belonging to each of the blocks should be `indented` (tab or 4 spaces). That's how Python understands what is part of a block and what is not\n",
    "- You can include `any number of elif conditions`\n",
    "- The condition can include literally `anything that evaluates to True / False` - you can combine arithmetic / relational / logical operators, 'in' keyword, different data types / variables, etc.\n",
    "\n"
   ]
  },
  {
   "cell_type": "code",
   "execution_count": 44,
   "metadata": {},
   "outputs": [],
   "source": [
    "# Exercises:\n",
    "\n",
    "# 1. There are 4 variables with values 1, 2, 6, 5. \n",
    "# If the sum of the 1st and 3rd variables is equal to the sum of the 2nd and 4th variables, print \"1st + 3rd == 2nd + 4th\"\n",
    "# Else print \"1st + 3rd != 2nd + 4th\"\n"
   ]
  },
  {
   "cell_type": "code",
   "execution_count": 45,
   "metadata": {},
   "outputs": [],
   "source": [
    "# 2. For the same 4 variables above:\n",
    "# If the 1st variable is less than the 2nd AND the 3rd is less than the 4th, print \"1st < 2nd and 3rd < 4th\"\n",
    "# Else print \"condition not true\"\n"
   ]
  },
  {
   "cell_type": "code",
   "execution_count": 46,
   "metadata": {},
   "outputs": [],
   "source": [
    "# 3. Ask the user to input a message. \n",
    "# If the length of the message is more than 10 characters, print \"That's a long message!\". \n",
    "# Else print \"Precise and concise\"\n"
   ]
  },
  {
   "cell_type": "code",
   "execution_count": 47,
   "metadata": {},
   "outputs": [],
   "source": [
    "# 4. If the 4th item of the list [\"North\", \"South\", \"East\", \"West\"] is \"East\", print \"East is last\". \n",
    "# Else, print \"West is last\"\n"
   ]
  },
  {
   "cell_type": "code",
   "execution_count": 48,
   "metadata": {},
   "outputs": [],
   "source": [
    "# 5. If the item \"North\" is in one of the 1st 2 positions of the list [\"North\", \"South\", \"East\", \"West\"], print \"First 2\".\n",
    "# If it is present in one of the last 2 positions, print \"Last 2\"\n",
    "# If both the above conditions are False, print \"Not present\"\n"
   ]
  },
  {
   "cell_type": "code",
   "execution_count": 49,
   "metadata": {},
   "outputs": [],
   "source": [
    "# 6. There is a dictionary with keys (\"data_type\",\"num_letters\") having values (\"int\",3). \n",
    "# If the value corresonding to the key \"data_type\" is \"string\", print out the message \"6 letters\"\n",
    "# If the value corresonding to the key \"data_type\" is \"float\", print out the message \"5 letters\"\n",
    "# If the value corresonding to the key \"data_type\" is \"int\", print out the message \"3 letters\"\n",
    "# If the value corresonding to the key \"data_type\" is anything else, print out the message \"No idea how many letters\"\n"
   ]
  },
  {
   "cell_type": "markdown",
   "metadata": {},
   "source": [
    "## *3. Nested `if-else`*:\n",
    "---\n",
    "Sometimes, we need to have \"if\" conditions nested within one another. Here is an example:\n",
    "\n",
    "> There are 2 dogs in the house - \"Jacky\" (black color) and \"Jonnie\" (golden color). There are 2 cats in in the house - \"Mickie\" (white color) and \"Minnie\" (golden color). Use nested if-else blocks to check the type and color of the pet, and print out the name of the pet which is a golden-colored cat.   \n",
    "\n",
    "Here is the Python code for the above situation:\n",
    "\n",
    "```Python\n",
    "if (type_of_pet == \"dog\"):\n",
    "    \n",
    "    if (color_of_pet == \"black\"):\n",
    "        print(\"Jacky\")\n",
    "    \n",
    "    else:\n",
    "        print(\"Jonnie\")\n",
    "        \n",
    "else:\n",
    "    \n",
    "    if (color_of_pet == \"white\"):\n",
    "        print(\"Mickie\")\n",
    "    \n",
    "    else:\n",
    "        print(\"Minnie\")\n",
    "```\n"
   ]
  },
  {
   "cell_type": "code",
   "execution_count": null,
   "metadata": {},
   "outputs": [],
   "source": [
    "# Run the above code\n"
   ]
  },
  {
   "cell_type": "code",
   "execution_count": 50,
   "metadata": {},
   "outputs": [],
   "source": [
    "# Exercises:\n",
    "\n",
    "# 1. For each of the following inputs: a) \"test\" b) [1,2,3,4,5] c) {\"key\":\"value\"} \n",
    "# Check if a variable is a string or list. \n",
    "# If it is a string, print the 2nd character of the string. \n",
    "# If it is a list, print the 3rd element of the list. \n",
    "# It is is neither of these types, print \"Not a string or list\"\n"
   ]
  },
  {
   "cell_type": "markdown",
   "metadata": {},
   "source": [
    "## *4. Loops / Repetition*:\n",
    "---\n",
    "\n",
    "Loops are used to `execute a block of statements repeatedly`. This typically happens in 3 types of ways:\n",
    "\n",
    "- `Repeated execution while a condition is true`. For example, \"process all the lines of text in a file while there are still lines of text to be read\"\n",
    "- `Repeat the execution a definite number of times`. For example, \"print the value of a variable 10 times\"\n",
    "- `Process all the elements in a sequence or collection`. For example, \"print all the items in a list\" or \"find the sum of all the items in a list\"\n",
    "\n",
    "For the 1st case, we use a `while` loop. For the 2nd and 3rd cases, we use a `for` loop. The syntax is as follows:\n",
    "\n",
    "```Python\n",
    "\n",
    "while (condition_1):\n",
    "    code_block_1\n",
    "\n",
    "for condition_2:\n",
    "    code_block_2\n",
    "\n",
    "```\n",
    "\n",
    "Here are a few important points to note:\n",
    "- Make sure you include the colon at the end of the condition \n",
    "- The code block to be executed in the loop is `indented` (tab, which is equal to 4 spaces). \n",
    "- Python figures out which code to include in the loop by looking at the indentation. \n",
    "- The code that comes after the loop is at the same level of indentation as the beginning of the `for` or `while` statement. \n",
    "\n",
    "Now lets look at each of these loops in futher detail. "
   ]
  },
  {
   "cell_type": "markdown",
   "metadata": {},
   "source": [
    "## *5. WHILE Loops*:\n",
    "The `while` loop is used to repeat a block of code while a specified condition is true. Some examples of how we can use the `while` loop are:\n",
    "\n",
    "- Print out the items of a list having index < 5\n",
    "- Print out the list of positive integers till (and including) a multiple of 8 is encountered\n",
    "\n",
    "Important points to remember:\n",
    "\n",
    "- Always initialize the variable used in the condition of the `while` loop\n",
    "- Always increment/process the variable inside the `while` loop\n",
    "\n",
    "```Python\n",
    "# Print out the items of a list having index < 5\n",
    "lst = [10,20,30,40,50,60]\n",
    "index = 0 # initializing\n",
    "while (index < 5):\n",
    "    print(lst[index])\n",
    "    index += 1 # incrementing\n",
    "\n",
    "# Print out the list of positive integers till (and including) a multiple of 8 is encountered\n",
    "multiple_8 = False\n",
    "x = 1\n",
    "while(multiple_8 == False):\n",
    "    print(x)\n",
    "    if (x % 8 == 0):\n",
    "        multiple_8 = True\n",
    "    x += 1\n",
    "```"
   ]
  },
  {
   "cell_type": "code",
   "execution_count": null,
   "metadata": {},
   "outputs": [],
   "source": [
    "# Run the above code\n"
   ]
  },
  {
   "cell_type": "code",
   "execution_count": 51,
   "metadata": {},
   "outputs": [],
   "source": [
    "# Exercises:\n",
    "\n",
    "# 1. Using a 'while' loop, print out items of the tuple (1,4,9,16,25,36,49,64,81,100) having index < 8\n"
   ]
  },
  {
   "cell_type": "code",
   "execution_count": 52,
   "metadata": {},
   "outputs": [],
   "source": [
    "# 2. Using a 'while' loop, print out the list of positive integers till (and including) the 2nd multiple of 8 is reached\n"
   ]
  },
  {
   "cell_type": "markdown",
   "metadata": {},
   "source": [
    "## *6. Loop Control Statements: 'continue', 'break', 'else'*\n",
    "\n",
    "Loops can be made much more powerful by adding 3 elements:\n",
    "\n",
    "- `A way to skip execution of certain statements` taking the control back to the beginning of the loop (continue). For example, print all numbers < 100 that are not multiples of 6. Use the **continue** statement for this\n",
    "- `A way to break out of the loop if a specified condition becomes true` (break). For example, print out items of a list till you encounter a value > 100. Use the **break** statement for this\n",
    "- `A way to specify an action that has to be taken on exiting the loop` (else). For example, on exiting the loop, reset the counter and print \"Loop closing\". Use the **else** statement for this\n",
    "\n",
    "Lets see how to achieve these enhancements in Python:\n",
    "```Python\n",
    "# skip execution of certain statements - \"print all numbers < 100 that are not multiples of 6\"\n",
    "num = 1\n",
    "while (num < 100):\n",
    "    if(num % 6 == 0):\n",
    "        num += 1\n",
    "        continue # sends control back to the beginning of the loop\n",
    "    print(num)\n",
    "    num += 1\n",
    "\n",
    "# A way to break out of the loop - print out items of a list till you encounter a value > 100    \n",
    "# The break statement can also be used to break out of infinite loops\n",
    "lst = [25,50,75,100,125,150]\n",
    "index = 0\n",
    "while(1): # infinite loop - be careful !\n",
    "    if(lst[index] > 100):\n",
    "        break\n",
    "    print(lst[index])\n",
    "    index += 1\n",
    "print(\"Out of loop\")  \n",
    "\n",
    "\n",
    "# A way to specify an action that has to be taken on exiting the loop - Reset the counter and print \"Loop closing\"\n",
    "counter = 1\n",
    "while (counter < 10):\n",
    "    print(counter)\n",
    "    counter += 1\n",
    "else:\n",
    "    counter = 1\n",
    "    print(\"Loop Closing\")\n",
    "print(\"After Loop\")\n",
    "print(counter)\n",
    "```\n",
    "\n",
    "*'break', 'continue' and 'else' can be used with 'while' as well as 'for' loops**"
   ]
  },
  {
   "cell_type": "code",
   "execution_count": 53,
   "metadata": {},
   "outputs": [],
   "source": [
    "# Run the above code:\n"
   ]
  },
  {
   "cell_type": "code",
   "execution_count": 54,
   "metadata": {},
   "outputs": [],
   "source": [
    "# Exercises:\n",
    "\n",
    "# 1. Use a 'while' loop with 'break' to print out squares of integers greater than 0, with the square not exceeding 100 \n"
   ]
  },
  {
   "cell_type": "code",
   "execution_count": 55,
   "metadata": {},
   "outputs": [],
   "source": [
    "# 2. Use a 'while' loop with 'continue' to print out all positive integers less than 25 which are not multiples of 3 \n",
    "# Use the 'else' statement in the above loop to print the message \"Loop Closing\" before exiting the loop\n"
   ]
  },
  {
   "cell_type": "code",
   "execution_count": 56,
   "metadata": {},
   "outputs": [],
   "source": [
    "# 3. Create an infinite 'while' loop which asks the user for an input repeatedly, and only terminates if the input value \n",
    "# the string value \"enough\"\n"
   ]
  },
  {
   "cell_type": "markdown",
   "metadata": {},
   "source": [
    "## *7. FOR loop*:\n",
    "---\n",
    "As mentioned above, the `for` loop has 2 primary use cases. Lets explore the first one:\n",
    "\n",
    "### A) `Repeat a block of code \"N\" times`:\n",
    "\n",
    "You have already explored the `range()` function in Module 3. `range(m,n)` generates a list of integers from 'm' to 'n-1'. If the argument 'm' is not specified, it takes the value of 0 by default. We will use the `in` keyword with `range()` in the condition of the `for` loop to execute the code within the loop a specified number of times. Here is some Python code to get you started.\n",
    "\n",
    "```Python\n",
    "# print out all the values of x\n",
    "for x in range(5):\n",
    "    print(\"The value of x is:\" + str(x))\n",
    "\n",
    "# print out the message 'Hello World!' 5 times\n",
    "for x in range(5):\n",
    "    print(\"Hello World!\")\n",
    "# an alternate way to do this is: print(\"Hello World!\\n\" * 5)\n",
    "\n",
    "# print out even numbers between 1 and 10\n",
    "for x in range(1,11):\n",
    "    if(x % 2 == 0):\n",
    "        print(x)\n",
    "\n",
    "# print out the 1st 10 positive integers with a custom message\n",
    "for x in range(1,11):\n",
    "    print(\"The value of 'x' is:\" + str(x))\n",
    "    print(f\"The value of 'x' is {x}\") # same as the above print statement\n",
    "```"
   ]
  },
  {
   "cell_type": "code",
   "execution_count": null,
   "metadata": {},
   "outputs": [],
   "source": [
    "# Run the above code:\n"
   ]
  },
  {
   "cell_type": "code",
   "execution_count": 57,
   "metadata": {},
   "outputs": [],
   "source": [
    "# Exercises:\n",
    "\n",
    "# 1. Print out the following statement 5 times: \"This statement is repeated 5 times\" \n"
   ]
  },
  {
   "cell_type": "code",
   "execution_count": 58,
   "metadata": {},
   "outputs": [],
   "source": [
    "# 2. Print out the negative integers from -10 to -1\n"
   ]
  },
  {
   "cell_type": "code",
   "execution_count": 59,
   "metadata": {},
   "outputs": [],
   "source": [
    "# 3. Write a 'for' loop to print out \"Even number:\" followed by the actual number if the number is even, and \n",
    "# \"Odd number:\" followed by the actual number, if the number is odd. Do this for the 1st 10 non-negative numbers. \n"
   ]
  },
  {
   "cell_type": "code",
   "execution_count": 60,
   "metadata": {},
   "outputs": [],
   "source": [
    "# 4. Write a 'for' loop to print the square of integers from 1 to 10\n"
   ]
  },
  {
   "cell_type": "markdown",
   "metadata": {},
   "source": [
    "### B) `Iterate over all the elements in a sequence or collection`:\n",
    "We use the keyword `in` in the condition of the `for` loop to iterate over all the elements in a `sequence` (string, list, tuple) or `collection` (dictionary, set). Lets look at some Python examples:\n",
    "\n",
    "```Python\n",
    "# Looping over a STRING\n",
    "s = \"String example #1\"\n",
    "\n",
    "# STRING - METHOD 1 - iterating by character\n",
    "for char in s:\n",
    "    print(char)\n",
    "\n",
    "# STRING - METHOD 2 - iterating by index\n",
    "for char_index in range(len(s)):\n",
    "    print(s[char_index])\n",
    "#############################\n",
    "    \n",
    "# Looping over a LIST\n",
    "lst = [10,20,30,40,50]\n",
    "\n",
    "# LIST - METHOD 1 - iterating by item\n",
    "for item in lst:\n",
    "    print(item)\n",
    "    \n",
    "# LIST - METHOD 2 - iterating by index\n",
    "for item_index in range(len(lst)):\n",
    "    print(lst[item_index])\n",
    "#############################\n",
    "\n",
    "# looping over a TUPLE\n",
    "tupl = (2,4,6,8,10,12)\n",
    "\n",
    "# TUPLE - METHOD 1 - iterating by item\n",
    "for item in tupl:\n",
    "    print(item)\n",
    "    \n",
    "# TUPLE - METHOD 2 - iterating by index\n",
    "for item_index in range(len(tupl)):\n",
    "    print(tupl[item_index])\n",
    "#############################\n",
    "\n",
    "# looping over a DICTIONARY\n",
    "dct = {\"key1\":100,\"key2\":200,\"key3\":300}\n",
    "\n",
    "# DICT - METHOD 1 - iterating using keys()\n",
    "for key in dct.keys():\n",
    "    print(\"key:\" + key + \" value:\" + str(dct[key]))\n",
    "\n",
    "# DICT - METHOD 2 - iterating using values()\n",
    "for value in dct.values():\n",
    "    print(value)\n",
    "\n",
    "# DICT - METHOD 3 - iterating using items()\n",
    "for (key,value) in dct.items():\n",
    "    print(key, value)\n",
    "#############################\n",
    "\n",
    "```"
   ]
  },
  {
   "cell_type": "code",
   "execution_count": 61,
   "metadata": {},
   "outputs": [],
   "source": [
    "# Run the code above:\n"
   ]
  },
  {
   "cell_type": "code",
   "execution_count": 62,
   "metadata": {},
   "outputs": [],
   "source": [
    "# Exercises:\n",
    "\n",
    "# 1. Using a 'for' loop, print out all the individual characters of the string \"Test String #1\" that are not 'e' \n",
    "# (do this with and without the use of 'continue')\n"
   ]
  },
  {
   "cell_type": "code",
   "execution_count": 63,
   "metadata": {},
   "outputs": [],
   "source": [
    "# 2. Using a 'for' loop, print out the squares of all the elements of the list [10, 20, 30, 40, \"b\"] \n",
    "# until you encounter a non-number (do this using 'break')\n"
   ]
  },
  {
   "cell_type": "code",
   "execution_count": 64,
   "metadata": {},
   "outputs": [],
   "source": [
    "# 3. Using a 'for' loop and iterating by index, print out the squares of all the elements of the list [10, 20, 30, 40]\n"
   ]
  },
  {
   "cell_type": "code",
   "execution_count": 65,
   "metadata": {},
   "outputs": [],
   "source": [
    "# 4. Using a 'for' loop, print out the indexes and elements of the list [\"a\",\"b\",\"c\"]\n"
   ]
  },
  {
   "cell_type": "code",
   "execution_count": 66,
   "metadata": {},
   "outputs": [],
   "source": [
    "# 5. Print out all the keys and values of the dictionary {\"key1\":\"India\",\"key2\":\"China\",\"key3\":\"Russia\"}\n"
   ]
  },
  {
   "cell_type": "markdown",
   "metadata": {},
   "source": [
    "## *8. Nested FOR Loops*:\n",
    "\n",
    "Sometimes we have data structures that are nested, like a list of lists, or a dictionary where the values are lists. And to iterate over these nested data structures, we need loops that are nested. Lets look at some examples:\n",
    "\n",
    "> `[[1,2,3],[4,5,6,7],[8,9,10,11,12]]`\n",
    "Here we need one outer loop to iterate over all the items of the outer list, and one inner loop to iterate over each inner list item.\n",
    "\n",
    "> `{\"key1\":[1,2,3,4,5],\"key2\":[10,100,100],\"key3\":[15,30,45,60]}`\n",
    "Here we need one outer loop to iterate over all the keys of the dictionary, and one inner loop to iterate over each corresponding value, which is a list.\n",
    "\n",
    "Lets now see how to use nested `for` loops in Python:\n",
    "```Python\n",
    "# list of lists\n",
    "lst = [[1,2,3],[4,5,6,7],[8,9,10,11,12]]\n",
    "for index, inner_list in enumerate(lst):\n",
    "    print(\"list #\" + str(index))\n",
    "    for item in inner_list:\n",
    "        print(item)\n",
    "\n",
    "# dictionary with list values\n",
    "dct = {\"key1\":[1,2,3,4,5],\"key2\":[10,100,100],\"key3\":[15,30,45,60]}\n",
    "for key in dct.keys():\n",
    "    print(\"key: \" + key)\n",
    "    for item in dct[key]:\n",
    "        print(item)\n",
    "```\n",
    "\n",
    "Just remember to think of each layer separately. You might have JSON files with many levels of nesting, but it is easy to break it down into small, understandable chunks. Remember that {} refers to dictionaries or sets, [] to lists and () to tuples. Use the appropriate loops to iterate over each component of the data structure. "
   ]
  },
  {
   "cell_type": "code",
   "execution_count": 67,
   "metadata": {},
   "outputs": [],
   "source": [
    "# Run the above code:\n"
   ]
  },
  {
   "cell_type": "code",
   "execution_count": 68,
   "metadata": {},
   "outputs": [],
   "source": [
    "# Exercise\n",
    "\n",
    "# 1. You have a list of lists [[1,2,3],[4,5,6],[7,8,9],[10,11,12]]. \n",
    "# Create an output list where each item is the sum of the corresponding input list items at that position. \n",
    "# (It will be in the format [x,y,z])\n",
    "# Do the exercise in 3 ways: \n",
    "# a) nested for loop\n",
    "# b) using enumerate()\n",
    "# c) iterating over the index in the inner loop \n"
   ]
  },
  {
   "cell_type": "code",
   "execution_count": 69,
   "metadata": {},
   "outputs": [],
   "source": [
    "# 2. Use the dictionary:\n",
    "# {\"SAARC\":{\"Afghanistan\",\"Bangladesh\", \"Bhutan\", \"India\", \"Maldives\", \"Nepal\", \"Pakistan\", \"Sri Lanka\"},\"BRICS\":{\"Brazil\", \"Russia\", \"India\", \"China\", \"South Africa\"}}\n",
    "# Print out all the values of the dictionary using nested loops\n",
    "# Also find the union and intersection of the sets in the dictionary\n"
   ]
  },
  {
   "cell_type": "markdown",
   "metadata": {},
   "source": [
    "## *Congratulations! You have now mastered Control Structures in Python: if-elif-else, nested if-else, while, for, continue, break, else and nested loops. Keep going!*"
   ]
  }
 ],
 "metadata": {
  "kernelspec": {
   "display_name": "Python 3",
   "language": "python",
   "name": "python3"
  },
  "language_info": {
   "codemirror_mode": {
    "name": "ipython",
    "version": 3
   },
   "file_extension": ".py",
   "mimetype": "text/x-python",
   "name": "python",
   "nbconvert_exporter": "python",
   "pygments_lexer": "ipython3",
   "version": "3.7.5"
  }
 },
 "nbformat": 4,
 "nbformat_minor": 2
}
