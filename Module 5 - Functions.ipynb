{
 "cells": [
  {
   "cell_type": "markdown",
   "metadata": {},
   "source": [
    "# Module 5 - Functions\n",
    "---\n",
    "In this module, you will learn about Python functions, and the different elements involved in writing powerful, re-usable functions. Functions are a vital part of real-world collaborative programming. They make your code more modular, concise, shareable and powerful. You've already seen built-in Python functions like `print()`, `list()`, `str()`,`reversed()` and `sorted()`. Lets now explore functions in more detail.  \n",
    "\n",
    "\n",
    "## *1. What is a function?*\n",
    "---\n",
    "\n",
    "A function is a `set of related statements or operations that together achieve a specific task`. While solving any business or technology problem through code, there are generally some programming operations that we need to repeat several times. Instead of writing the code separately each time, we can define a function containing the code, and just call/invoke the function as many times as we need. There are also things we can do to make the functions *dynamic*, so that it produces different outputs for different inputs. To run a function, you have to *call/invoke* it. Python has a lot of `built-in functions`, but in this module we will focus on `user-defined functions`. Here are some examples of tasks that we can accomplish using functions: \n",
    "\n",
    "- Calculating the factorial of a number\n",
    "\n",
    "- Creating a new user in the database\n",
    "\n",
    "- Pulling stock market data every hour\n",
    "\n",
    "- Printing out the contents of a text file\n",
    "\n",
    "You can put the code to achieve *any task* inside a function. \n",
    "\n",
    "\n",
    "## *2. Basic structure of a function*:\n",
    "---\n",
    "\n",
    "As you've already read above, a function takes some input, performs some tasks and produces some output. Here is the general Python syntax for defining a function:\n",
    "\n",
    "```Python\n",
    "# defining a function\n",
    "def function_name(arg1, arg2, .... , argN):\n",
    "    \"\"\"Docstring \"\"\"\n",
    "    code_to_achieve_task\n",
    "    return output_value\n",
    "\n",
    "# calling the function\n",
    "var = function_name(var_1, var_2, .... , var_N)\n",
    "```\n",
    "\n",
    "Here are some important points to note: \n",
    "- The `def` keyword is used to define a function \n",
    "- The rules for naming functions are the same as the rules for naming variables (see Module 2) \n",
    "- The input `arguments` to the function are specified in brackets after the function name (eg. a number whose factorial we want to find). We can use these arguments with the same name inside our function code. Sometimes, we don't need to specify inputs (eg. Print 'Hello World!' 5 times).\n",
    "- Remember the colon after specifying the arguments in brackets. \n",
    "- The code inside the function is indented. That's how Python identifies what code belongs to the function and what doesn't\n",
    "- `Docstring` is important to document what your function does, and to describe the various inputs, processing and outputs. When you type in the command `help(function)`, it displays the info in the docstring.\n",
    "- The `return` keyword is used to return the output values(s) if applicable (eg. while calculating the factorial of a number). Sometimes, we don't return any value (eg. `print()`). In that case, Python returns a `None` object by default. \n",
    "- The function has to be called in the exact same format in which it is defined. \n",
    "- The function needs to be defined BEFORE it is called\n",
    "- After the function is executed, it returns control back to where it was called from.\n",
    "\n",
    "## *3. Writing your 1st function*:\n",
    "---\n",
    "\n",
    "Remember what to look out for when you write a function: \n",
    "- understand the objective\n",
    "- describe the inputs\n",
    "- describe the outputs\n",
    "- describe how the inputs will be processed to get the output. \n",
    "\n",
    "Lets look at some more examples of functions:\n",
    "\n",
    "```Python\n",
    "# \"welcome\" function to print a welcome message to the user (1 input, no return value)\n",
    "def welcome(username):\n",
    "    print(\"Hello and welcome, \" + str(username)) # using the input argument \"username\" in the function code\n",
    "\n",
    "# calling the \"welcome\" function\n",
    "input_user = input(\"Please enter your name\")\n",
    "welcome(input_user) # calling the \"welcome\" function with input argument\n",
    "\n",
    "#######################\n",
    "\n",
    "# \"sqr\" function to get the square of a number (1 input, 1 return value)\n",
    "def sqr(input_num):\n",
    "    num_squared = input_num ** 2\n",
    "    return num_squared # returns the squared number back to where the function was called\n",
    "\n",
    "# calling the \"sqr\" function\n",
    "print(\"The square of 5 is \" + str(sqr(5))) # calling the \"sqr\" function with input '5'\n",
    "\n",
    "#######################\n",
    "```"
   ]
  },
  {
   "cell_type": "code",
   "execution_count": null,
   "metadata": {},
   "outputs": [],
   "source": [
    "# Run the above code:\n"
   ]
  },
  {
   "cell_type": "code",
   "execution_count": 64,
   "metadata": {},
   "outputs": [],
   "source": [
    "# Exercise\n",
    "\n",
    "# 1. Write a function that returns the number of entries (key-value pairs) in a dictionary. \n",
    "# Call the function with the dictionary {\"India\":1.25, \"China\":1.7, \"USA\":0.35} as input, and print the output.\n"
   ]
  },
  {
   "cell_type": "code",
   "execution_count": 65,
   "metadata": {},
   "outputs": [],
   "source": [
    "# 2. Write a function that takes an integer input from the user, \n",
    "# and prints \"Hello World!\" as many times as specified by the input (use a 'for' loop for printing)\n"
   ]
  },
  {
   "cell_type": "code",
   "execution_count": 66,
   "metadata": {},
   "outputs": [],
   "source": [
    "# 3. Write a function that returns sum of all the elements in a list of numbers.\n",
    "# Call the function with the list [125, 250, 375, 650], and print the output\n"
   ]
  },
  {
   "cell_type": "code",
   "execution_count": 67,
   "metadata": {},
   "outputs": [],
   "source": [
    "# 4. Write a function that takes a list of numbers and a boolean as inputs. If the boolean input is True, \n",
    "# then return the sum of all even numbers in the list. Else return the sum of all odd numbers in the list\n"
   ]
  },
  {
   "cell_type": "markdown",
   "metadata": {},
   "source": [
    "## *4. Arguments (inputs) to the function*:\n",
    "---\n",
    "\n",
    "In the functions have defined above, the arguments are `positional arguments` - the exact number of arguments have to be supplied to the function. Else it will throw an error. Also, if they aren't in the exact order, the function may not work as intended. The other type of arguments are `named arguments` or `keyword arguments`. Every parameter / argument to a function is a reference to an object.\n",
    "\n",
    "So lets go 1 level deeper and explore a few more possibilities in specifying inputs to a function. \n",
    "\n",
    "### A) `Arguments with default values`\n",
    "- `Are the arguments compulsory ? If an argument isn't compulsory, does it have a default value?`\n",
    "> There might be instances where we want to define \"default\" behaviour if the user doesn't specify an argument. We can do so using `default values` for arguments. For example, lets define a \"power\" function which returns the 1st  argument raised to power of the 2nd argument. But if the 2nd argument is not specified, the default behaviour should be to return the square of the 1st argument instead of throwing an error. You can specify the default value using the \"=\" assignment operator while defining the function. If the default value captures the most common use case, then the 2nd argument is sometimes called an `implicit argument`. If you specify a default value for an argument, all arguments to the right of it must also have default values.\n",
    "\n",
    "```Python\n",
    "# A function that returns the 1st argument to the power of the 2nd argument, where the 2nd argument has a default value of 2\n",
    "def pwr(num,power=2):\n",
    "    return num ** power\n",
    "```"
   ]
  },
  {
   "cell_type": "code",
   "execution_count": 31,
   "metadata": {},
   "outputs": [],
   "source": [
    "# Run the above code\n"
   ]
  },
  {
   "cell_type": "code",
   "execution_count": 68,
   "metadata": {},
   "outputs": [],
   "source": [
    "# Exercise:\n",
    "\n",
    "# 1. Define a function that returns the 1st argument to the power of the 2nd argument, \n",
    "# where the 2nd argument has a default value of 2. Call it with the values (8,4) and (9) respectively\n"
   ]
  },
  {
   "cell_type": "markdown",
   "metadata": {},
   "source": [
    "### B) `Variable number of arguments`\n",
    "- `Are there a fixed number of arguments, or can there be a variable number?`\n",
    "> Sometimes, the nature of a function is such that it can accept a variable number of arguments. For example, to return 1 concatenated string from multiple input strings, or to find the sum of some numbers, or to add the input items to a list. In this case, use an `* (asterisk) ` before the argument name while defining the function. We can access the arguments as a list.\n",
    "\n",
    "```Python\n",
    "# A function that adds the input items to a new list and returns it\n",
    "def make_list(*args):\n",
    "    lst = []\n",
    "    for item in args:\n",
    "        lst.append(item)\n",
    "    return lst\n",
    "\n",
    "print(make_list(1,2,3,4,5,6))\n",
    "```"
   ]
  },
  {
   "cell_type": "code",
   "execution_count": 32,
   "metadata": {},
   "outputs": [],
   "source": [
    "# Run the above code:\n"
   ]
  },
  {
   "cell_type": "code",
   "execution_count": 69,
   "metadata": {},
   "outputs": [],
   "source": [
    "# Exercise:\n",
    "\n",
    "# 1. Define a function that adds all the input items to a new list and returns it.\n",
    "# Call it with the input values (1, 10, 100, 1000, 10000)\n"
   ]
  },
  {
   "cell_type": "markdown",
   "metadata": {},
   "source": [
    "### C) `Named / Keyword arguments`\n",
    "- `What do we do if there are too many arguments to remember their positions ? Can we specify the arguments by name ?`\n",
    "> Sometimes, we need to define complex and powerful functions that take lots of arguments, many of them having default values. Remembering the order of arguments is very difficult, so we let the user specify the arguments by name. They can now specify the arguments in any order. \n",
    "\n",
    "```Python\n",
    "# A function that takes 4 inputs, and returns the 1st argument to the power of the 3rd argument, plus the 2nd argument to the power of the 4th argument. The 3rd and 4th arguments have default values of 2.  \n",
    "def calculate(num_1, num_2, power_1=2, power_2=2):\n",
    "    return (num_1 ** power_1 + num_2 ** power_2)\n",
    "\n",
    "print(calculate(num_1 = 4, num_2 = 6))\n",
    "print(calculate(num_2 = 6, num_1 = 4))\n",
    "print(calculate(num_2 = 4, num_1 = 6, power_1 = 3 ))\n",
    "```"
   ]
  },
  {
   "cell_type": "code",
   "execution_count": null,
   "metadata": {},
   "outputs": [],
   "source": [
    "# Run the above code:\n"
   ]
  },
  {
   "cell_type": "code",
   "execution_count": 70,
   "metadata": {},
   "outputs": [],
   "source": [
    "# Exercise:\n",
    "\n",
    "# 1. Define a function that takes up to 4 inputs. The 1st 2 arguments are the base numbers, and are compulsory. \n",
    "# The next 2 arguments are the exponents (powers).\n",
    "# Return the value of the 1st base number to the 1st exponent minus the 2nd base number to the 2nd exponent. \n",
    "# The exponents have default values of 3. Specify the input arguments by name. \n"
   ]
  },
  {
   "cell_type": "markdown",
   "metadata": {},
   "source": [
    "### D) `Variable number of keyword arguments`\n",
    "- `What happens if we have a variable number of arguments, and they are specified by name rather than position?`\n",
    "> In this case, use `** (2 asterisks) ` before the argument name while defining the function. We can access the argument names and values as a dictionary.\n",
    "\n",
    "```Python\n",
    "# A function to create a customer record (dictionary) based on the information provided\n",
    "def create_customer(**kwargs):\n",
    "    for key, value in kwargs.items():\n",
    "        print(key,value)\n",
    "    print(kwargs)\n",
    "    # cust=Customer(kwargs)\n",
    "    # insert_into_db(cust)\n",
    "\n",
    "create_customer(name=\"Vikram Nayak\",age=35,location=\"Bangalore\")\n",
    "```\n",
    "\n"
   ]
  },
  {
   "cell_type": "code",
   "execution_count": 71,
   "metadata": {},
   "outputs": [],
   "source": [
    "# Run the above code:\n"
   ]
  },
  {
   "cell_type": "code",
   "execution_count": 72,
   "metadata": {},
   "outputs": [],
   "source": [
    "# Exercise:\n",
    "\n",
    "# 1. Define a function to create a customer record (dictionary) based on the information provided in the named arguments\n",
    "# Print out all the keys and values separately of a customer having the name Vijay, aged 45 living in Mumbai and married.\n"
   ]
  },
  {
   "cell_type": "markdown",
   "metadata": {},
   "source": [
    "## *5. Return values (outputs) from the function*:\n",
    "---\n",
    "When a function completes, it has performed the task fully. That can either mean it has performed some calculations and got the result (*there is a return value*), or it has performed some actions like printing to the screen or writing to a file (*there is no return value*). When the function finishes executing, it returns control back to where it was called from. Lets explore the outputs that a function can return\n",
    "\n",
    "### A) `No return value`\n",
    "\n",
    "There might be cases where the `end result of the task that we want to perform involves an action like printing a custom message, or creating a graph, or writing to a file`. In such cases, there is no return value. \n",
    "\n",
    "```Python\n",
    "# A function taking a variable number of string arguments, concatenates them with spaces, and prints out the message.\n",
    "def concat(*args):\n",
    "    print(\" \".join(args))\n",
    "        \n",
    "concat(\"This\",\"is\",\"an\",\"example\",\"of\",\"words\",\"being\",\"joined\",\"together\")\n",
    "```"
   ]
  },
  {
   "cell_type": "code",
   "execution_count": null,
   "metadata": {},
   "outputs": [],
   "source": [
    "# Run the above code:\n"
   ]
  },
  {
   "cell_type": "code",
   "execution_count": 73,
   "metadata": {},
   "outputs": [],
   "source": [
    "# Exercise:\n",
    "\n",
    "# 1. Define a function that takes 3 string arguments and prints out the sum of their lengths\n",
    "# Call this function with the inputs (\"String\",\"arguments\",\"rock\")\n"
   ]
  },
  {
   "cell_type": "markdown",
   "metadata": {},
   "source": [
    "### B) `1 return value`\n",
    "\n",
    "There are also cases where the `output of a function is a single value`. This is generally the result of some specific calculation that is related to the task the function is trying to achieve. For example, if we are building a scientific calculator, one of the functions is to be able to calculate the square root of a number.\n",
    "\n",
    "```Python\n",
    "# A function to find the square root of a number\n",
    "def square_root(num):\n",
    "    return (num ** 0.5)\n",
    "\n",
    "print(square_root(196) * 10)\n",
    "```"
   ]
  },
  {
   "cell_type": "code",
   "execution_count": null,
   "metadata": {},
   "outputs": [],
   "source": [
    "# Run the above code:\n"
   ]
  },
  {
   "cell_type": "code",
   "execution_count": 74,
   "metadata": {},
   "outputs": [],
   "source": [
    "# Exercise:\n",
    "\n",
    "# 1. Define a function that iterates through the string values of a dictionary and returns the length of the longest string\n",
    "# Pass the ductionary {1:\"First\", 2:\"Second\", 3:\"Third\"} as input\n",
    "   "
   ]
  },
  {
   "cell_type": "markdown",
   "metadata": {},
   "source": [
    "### C) `Multiple return values`\n",
    "\n",
    "There are times when we want a function to return more than 1 value. And the way to do it is `in a tuple, list, set or dictionary - basically any collection`.\n",
    "\n",
    "```Python\n",
    "# A function to return a tuple containing the lengths of a variable number of lists\n",
    "def get_lengths(*args):\n",
    "    lengths = []\n",
    "    for lst in args:\n",
    "        lengths.append(len(lst))\n",
    "    return(tuple(lengths))\n",
    "\n",
    "print(get_lengths([1,2],[3,4,5],[7,8,9,10,11,12]))\n",
    "```"
   ]
  },
  {
   "cell_type": "code",
   "execution_count": 75,
   "metadata": {},
   "outputs": [],
   "source": [
    "# Run the above code:\n"
   ]
  },
  {
   "cell_type": "code",
   "execution_count": 76,
   "metadata": {},
   "outputs": [],
   "source": [
    "# Exercise:\n",
    "\n",
    "# 1. Define a function that returns a tuple containing the 3 highest numbers of a list in descending order\n",
    "# Pass the list [175, 362, 440, 800, 212, 500] as input\n"
   ]
  },
  {
   "cell_type": "markdown",
   "metadata": {},
   "source": [
    "## *6. Lambda (anonymous) functions*:\n",
    "---\n",
    "\n",
    "Lambda functions are used to define functions on the fly and write shorter code. They offer a way to embed functions anonymously (without explicitly naming them). There are many instances where we need to define small functions with limited functionality. We need a way to write them quickly and assign them to variable. Enter lambda functions. The syntax is in the format\n",
    "`(lambda <inputs>: <output_expression>)`. Here are some examples:\n",
    "\n",
    "```Python\n",
    "cube = (lambda x: x**3)\n",
    "print(cube(6))\n",
    "\n",
    "# equivalent function to 'cube'\n",
    "def cube_alt(x):\n",
    "    return (x**3)\n",
    "\n",
    "########################\n",
    "\n",
    "concat = (lambda x,y: x+\" \"+y)\n",
    "print(concat(\"Hello\",\"World!\"))\n",
    "\n",
    "# equivalent function to 'concat'\n",
    "def concat_alt(x,y):\n",
    "      return(x+\" \"+y)\n",
    "\n",
    "########################\n",
    "```\n",
    "\n",
    "Here are some important points to note:\n",
    "\n",
    "- Instead of using `def`, we use the `lambda` keyword\n",
    "- We don't specify the arguments in brackets. They are separated from the 'lambda' keyword by a space\n",
    "- The colon after the arguments indicates that the body of the lambda function is now beginning\n",
    "- The output expression is specified after the colon\n",
    "- As a best practice, include the entire declaration in brackets to make it more readable\n",
    "\n"
   ]
  },
  {
   "cell_type": "code",
   "execution_count": null,
   "metadata": {},
   "outputs": [],
   "source": [
    "# Run the above code:\n"
   ]
  },
  {
   "cell_type": "code",
   "execution_count": 77,
   "metadata": {},
   "outputs": [],
   "source": [
    "# Exercise\n",
    "\n",
    "# 1. Define a lambda function to calculate the difference between the product of 3 numbers and their sum.\n",
    "# What is the output of the function when the inputs are (8, 10, 12) ?\n",
    "# Write an equivalent (regular) function to perform the same task\n"
   ]
  },
  {
   "cell_type": "code",
   "execution_count": 78,
   "metadata": {},
   "outputs": [],
   "source": [
    "# 2. Define a lambda function that takes 2 lists and returns a list of pair-wise tuples\n",
    "# Pass the lists [100, 200, 300] and [\"a\", \"b\", \"c\"] as inputs\n",
    "# Write an equivalent (regular) function to perform the same task\n"
   ]
  },
  {
   "cell_type": "markdown",
   "metadata": {},
   "source": [
    "## *7. Nested / inner functions & Variable scope*:\n",
    "---\n",
    "\n",
    "We can define a function inside another function. Such a function is called a `nested or inner fuction`. One use of nested functions is when there is repeated computation that happens inside a function.\n",
    "\n",
    "```Python\n",
    "def outer_func():\n",
    "    def inner_func():\n",
    "        print(\"Inner function\")\n",
    "    inner_func() # the inner function still has to be called inside the outer function\n",
    "    print(\"Outer function\")\n",
    "\n",
    "outer_func() # this calls both the outer and inner functions\n",
    "```\n",
    "\n",
    "We can have variables with the same name in both the inner and outer functions, as well as in the global scope from which the outer function is called: \n",
    "- Think of scope as \"area of operation\"\n",
    "- When a variable is declared inside the inner function, it is called `Local scope`. \n",
    "- When a variable which declared in the outer function, it is called `Enclosing scope`. To edit this variable in the inner function, first 'bring it in' using the `nonlocal` keyword, and then edit it. \n",
    "- When a function is declared in outermost scope from which the outer function is called, it is called `Global scope`.\n",
    "- Python's built-in variables, objects and keywords are included in the 'builtins' module. They are in `Built-in` scope\n",
    "- The order in which the scopes are searched for a variable is `L-E-G-B (Local --> Enclosing --> Global --> Built-in)`. \n",
    "- `What's inside can access the variables on the outside, but not vice-versa`. Inner function can access inner, outer and global variables. Outer function can access only outer and global variables. In the global scope, only global variables can be accessed. And built-in functions can be accessed from anywhere\n",
    "\n",
    "```Python\n",
    "def outer_func():\n",
    "    print(\"Entered outer function...\")\n",
    "\n",
    "    x = \"Enclosing_Scope string\"\n",
    "    x_outer = \"Outer\"\n",
    "    \n",
    "    print(\"x in enclosing scope: \" + x) # prints the value of x in the outer function\n",
    "    print(\"x_outer in enclosing scope before calling inner func(): \" + x_outer)\n",
    "    print()\n",
    "\n",
    "    def inner_func():\n",
    "        print(\"Entered inner function...\")\n",
    "        x = \"Local_Scope string\"\n",
    "        x_inner = \"Inner\"\n",
    "        \n",
    "        print(\"x in local scope: \" + x) # prints the value of x in the inner function\n",
    "        print(\"x_inner in local scope inside inner_func(): \" + x_inner)\n",
    "\n",
    "        print(\"Reading x_outer directly inside inner_func(): \" + x_outer)        \n",
    "        # nonlocal x_outer # you now have edit access to the enclosing scope variable\n",
    "        # x_outer = \"x_outer Changed\"\n",
    "        \n",
    "        print(\"Reading x_global directly inside inner_func(): \" + x_global)\n",
    "        # global x_global # you now have edit access to the enclosing scope variable\n",
    "        # x_global = \"x_global changed\"\n",
    "        \n",
    "        print()\n",
    "\n",
    "    inner_func()\n",
    "    # print(x_inner) # throws an error \n",
    "    # print(x_global) # you have read access but not edit access for this global variable. to modify, use 'global' keyword\n",
    "    print(\"x_outer in enclosing scope after calling inner func(): \" + x_outer)\n",
    "    print()\n",
    "\n",
    "x = \"Global_Scope string\"\n",
    "x_global = \"Global\"\n",
    "print(\"x in global scope: \" + x)\n",
    "print(\"x_global before calling outer func(): \" + x_global)\n",
    "print()\n",
    "outer_func()\n",
    "print(\"x_global after calling outer func(): \" + x_global) # prints the changed value of x_global\n",
    "# print(x_outer) # throws an error\n",
    "# print(x_inner) # throws an error       \n",
    "```"
   ]
  },
  {
   "cell_type": "code",
   "execution_count": 135,
   "metadata": {},
   "outputs": [],
   "source": [
    "# Run the code above:\n"
   ]
  },
  {
   "cell_type": "code",
   "execution_count": 134,
   "metadata": {},
   "outputs": [],
   "source": [
    "# Exercises:\n",
    "\n",
    "# 1. Define an outer function that takes a list as input and returns a list of pair-wise products of adjacent list items as output\n",
    "# Define an inner function that calculates the product of a pair of numbers and returns it to the outer function\n"
   ]
  },
  {
   "cell_type": "code",
   "execution_count": 133,
   "metadata": {},
   "outputs": [],
   "source": [
    "# 2. In the global scope, there is a variable called 'a' with the value \"Phi\".\n",
    "# Define an outer function that contains 2 variables 'x' and 'y' with values \"Alpha\" and \"Beta\" respectively.\n",
    "# Define an inner function that contains variable 'y' with the value \"Gamma\"\n",
    "# In the inner function, change the value of the enclosing variable 'x' to \"Delta\", global variable 'a' to \"PhiPhi\", \n",
    "# concatenate them with (local) 'y' and return\n",
    "# Now in the outer function, return the value from the inner function\n",
    "# Call the outer function from global scope\n"
   ]
  },
  {
   "cell_type": "markdown",
   "metadata": {},
   "source": [
    "## *8. Closures*:\n",
    "---\n",
    "\n",
    "In Python, `functions are \"first-class\" objects` which means that just like other data types they can be stored in variables, passed as arguments to functions and be passed as return values from a function. Closures are inner / nested functions that remember the state of the outer function when they were created, i.e., they were 'stamped' with the value of the enclosing variables at the time of their creation. Closures satisfy the following criteria:\n",
    "\n",
    "- There must be an inner / nested function\n",
    "- The inner function has to refer to a variable in the enclosing scope\n",
    "- The outer function has to return the inner function\n",
    "\n",
    "Closures can also be used as `factory functions`, i.e., they can be used to create specific variants of a function that vary due to the enclosing scope variables. Think about an outer function that generates functions to calculate exponents to the Nth power of a number. By using the variable in the enclosing scope, we can create functions to calculate squares, cubes and so on for any number.\n",
    "\n",
    "```Python\n",
    "def exponent(power):\n",
    "    def calculate(num):\n",
    "        return (num ** power)\n",
    "    return calculate\n",
    "\n",
    "# Call the outer function with different arguments to create different versions of the inner function\n",
    "square_function = exponent(2)\n",
    "cube_function = exponent(3)\n",
    "\n",
    "# Call the returned functions with an input argument to perform calculations\n",
    "print(square_function(10))\n",
    "print(cube_function(3))\n",
    "\n",
    "```"
   ]
  },
  {
   "cell_type": "code",
   "execution_count": null,
   "metadata": {},
   "outputs": [],
   "source": [
    "# Run the above code:\n"
   ]
  },
  {
   "cell_type": "code",
   "execution_count": 131,
   "metadata": {},
   "outputs": [],
   "source": [
    "# Exercises:\n",
    "\n",
    "# 1. Create an outer function that returns a function to calculate the Nth power of specific numbers\n",
    "# When you call the outer function, you should fix the base number that you want to find different powers of\n",
    "# When you call the returned function, you should be able to find the different powers of the base number\n",
    "# use these functions to find the sum of the 3rd power of 8 and the 2nd power of 25\n"
   ]
  },
  {
   "cell_type": "code",
   "execution_count": 130,
   "metadata": {},
   "outputs": [],
   "source": [
    "# 2. Create an outer function that returns a function that 'echoes' a word N times\n",
    "# When you call the outer function, you should fix the number of times you want the word 'echoed'\n",
    "# When you call the inner function, you should supply the word that you want echoed N times\n",
    "# Use the functions to Echo the word \"Hello\" 4 times and echo the phrase \"Hey can you hear me?\" 5 times\n"
   ]
  },
  {
   "cell_type": "markdown",
   "metadata": {},
   "source": [
    "## *9. Decorators*:\n",
    "---\n",
    "\n",
    "Here are some concepts that we need to review and build on to understand decorators:\n",
    "- `Functions as first-class objects` - they can be stored in variables, passed as arguments to functions and be passed as return values from a function\n",
    "- `Nested / inner functions` - a function inside a function\n",
    "- `Closures` - an inner function returned by the outer function, that remembers the state of the outer function\n",
    "\n",
    "Which leads us to decorators. `Decorators are a wrapper function to extend or modify another function's behaviour`. The 1st question you're probably asking yourself is WHY WOULD WE WANT TO MODIFY A FUNCTION'S BEHAVIOUR? Well, it turns out that there are situations where you want to add new functionality but do not have permissions to modify/replace older \"production\" code. The newly added functionality could include:\n",
    "- access control / authentication\n",
    "- audit logging\n",
    "- limiting the rate at which resources can be accessed, like number of API calls per hour\n",
    "- caching to utilise resources efficiently\n",
    "\n",
    "The decorated function's behaviour changes only when the decorator is applied to it, not otherwise. Also, multiple decorators can be applied to a single function to modify its behaviour - for example, one decorator can make the text uppercase, while another can change all the punctuation to exclamation marks. Decorators can be re-used by saving them in a module and then importing them where needed. Python has some built-in decorators, but we will focus on creating new ones from scratch. \n",
    "\n",
    "### A) `Decorator structure`:\n",
    "\n",
    "Decorators have the following structure:\n",
    "```Python\n",
    "def decorator_function(func):\n",
    "    <code>\n",
    "    def wrapper_function_to_modify_behaviour():\n",
    "        <code_to_be_executed_before_func>\n",
    "        func() # function_being_modified\n",
    "        <code_to_be_executed_after_func>\n",
    "    return wrapper_function_to_modify_behaviour\n",
    "\n",
    "####################\n",
    "\n",
    "# method 1 to decorate the function\n",
    "def function_to_be_modified():\n",
    "    <function_code>\n",
    "\n",
    "function_to_be_modified = decorator_function(function_to_be_modified)\n",
    "function_to_be_modified() # now it will display the modified behaviour\n",
    "\n",
    "####################\n",
    "\n",
    "# method 2 to decorate the function, which is syntactic sugar\n",
    "# 'syntactic sugar' is syntax within a programming language that is designed to make things easier to read or to express\n",
    "@decorator_function\n",
    "def function_to_be_modified():\n",
    "    <function_code>\n",
    "\n",
    "function_to_be_modified() # now it will display the modified behaviour\n",
    "```"
   ]
  },
  {
   "cell_type": "markdown",
   "metadata": {},
   "source": [
    "### B) `Building your first decorator`:\n",
    "Lets now build a real decorator for a real function. Define a function that returns this famous quote by Steve Jobs - \"Design is not just what it looks like and feels like. Design is how it works\". Create a decorator to log the date-time when the function begins and ends. Decorate the original function with the decorator:\n",
    "\n",
    "```Python\n",
    "# function to get current date-time. Don't worry about this code for now\n",
    "def get_curr_datetime():\n",
    "    import datetime\n",
    "    now = datetime.datetime.now()\n",
    "    return now.strftime(\"%Y-%m-%d %H:%M:%S\")\n",
    "\n",
    "# decorator function\n",
    "# we use the function object's '__name__' property to get it's name\n",
    "def datetime_logging_decorator(func):\n",
    "    def wrapping_func():\n",
    "        print(\"----- Function name: \" + func.__name__ + \" -----\")\n",
    "        print(\"----- Execution start time: \" + get_curr_datetime() + \" -----\")\n",
    "        func()\n",
    "        print(\"----- Function name: \" + func.__name__ + \" -----\")\n",
    "        print(\"----- Execution end time: \" + get_curr_datetime() + \" -----\")\n",
    "    return wrapping_func\n",
    "\n",
    "@datetime_logging_decorator\n",
    "def steve_jobs_quote():\n",
    "    print(\"Design is not just what it looks like and feels like. Design is how it works\")\n",
    "\n",
    "steve_jobs_quote()\n",
    "```"
   ]
  },
  {
   "cell_type": "code",
   "execution_count": 129,
   "metadata": {},
   "outputs": [],
   "source": [
    "# Run the above code\n"
   ]
  },
  {
   "cell_type": "code",
   "execution_count": 128,
   "metadata": {},
   "outputs": [],
   "source": [
    "# Exercise\n",
    "\n",
    "# 1. Define a function that prints the squares of the first 10 non-negative integers.\n",
    "# Define a decorator to modify the function behaviour: print \"Beginning of 'print'\" before execution & \"End of 'print'\" after\n",
    "# Call the function now to demonstrate its changed behaviour\n"
   ]
  },
  {
   "cell_type": "markdown",
   "metadata": {},
   "source": [
    "### C) `Decorating functions that accept arguments`:\n",
    "\n",
    "Lets now learn how to modify our decorator code to work with a function that accepts arguments. Our previous code will not work if the 'steve_jobs_quote()' function accepted 1 or more arguments:\n",
    "\n",
    "```Python\n",
    "# decorator function\n",
    "def repeat_twice_decorator(func):\n",
    "    def wrapping_func():\n",
    "        func()\n",
    "        func()\n",
    "    return wrapping_func\n",
    "\n",
    "@repeat_twice_decorator\n",
    "def print_message(message):\n",
    "    print(f\"Here's the message: '{message}'\")\n",
    "\n",
    "print_message(\"Test message 1-2-3\") \n",
    "```\n",
    "\n",
    "The above code throws an error, because we passed an argument to the wrapping function that it doesn't know how to handle. The way to make sure that all arguments (positional and named) are accepted, and passed from the wrapping function to the original function, is to use `*args` and `**kwargs` in the wrapping function definition.\n",
    "\n",
    "Lets modify the code above:\n",
    "\n",
    "```Python\n",
    "# decorator function\n",
    "def repeat_twice_decorator(func):\n",
    "    def wrapping_func(*args, **kwargs):\n",
    "        # print all positional args \n",
    "        for arg in args:\n",
    "            print(arg)\n",
    "        # print all keyword args\n",
    "        for kwarg in kwargs:\n",
    "            print(kwarg)\n",
    "        # execute decorated function twice\n",
    "        func(*args, **kwargs)\n",
    "        func(*args, **kwargs)\n",
    "    return wrapping_func\n",
    "\n",
    "@repeat_twice_decorator\n",
    "def print_message(message):\n",
    "    print(f\"Here's the message: '{message}'\")\n",
    "\n",
    "print_message(\"Test message 1-2-3\") \n",
    "```\n",
    "\n",
    "The decorator now accepts arguments successfully."
   ]
  },
  {
   "cell_type": "code",
   "execution_count": null,
   "metadata": {},
   "outputs": [],
   "source": [
    "# Run the above code:\n"
   ]
  },
  {
   "cell_type": "code",
   "execution_count": 127,
   "metadata": {},
   "outputs": [],
   "source": [
    "# Exercise\n",
    "\n",
    "# 1. Define a function that takes an input name from the user and prints the msg \"The name entered is: \" along with the name\n",
    "# Define a decorator function to execute this function thrice\n",
    "# Call the function now to demonstrate its changed behaviour\n"
   ]
  },
  {
   "cell_type": "markdown",
   "metadata": {},
   "source": [
    "### D) `Decorating functions that return values`:\n",
    "\n",
    "Lets now modify our decorator code to work with a function that returns a value. Lets see how the previously defined decorator works if the decorated function returns a value:\n",
    "\n",
    "```Python\n",
    "# decorator function\n",
    "def repeat_once_decorator(func):\n",
    "    def wrapping_func(*args, **kwargs):\n",
    "        func(*args, **kwargs)\n",
    "    return wrapping_func\n",
    "\n",
    "@repeat_once_decorator\n",
    "def print_and_process_message(message):\n",
    "    print(f\"Here's the message: '{message}'\")\n",
    "    return len(message)\n",
    "\n",
    "len_of_msg = print_and_process_message(\"Test message 1-2-3\")\n",
    "print(len_of_msg)\n",
    "```\n",
    "\n",
    "The returned value is 'None', instead of the length of the input message. We solve this problem by including a return statement in the wrapping function to return the return value of the decorated function.\n",
    "\n",
    "```Python\n",
    "# decorator function\n",
    "def repeat_once_decorator(func):\n",
    "    def wrapping_func(*args, **kwargs):\n",
    "        return func(*args, **kwargs)\n",
    "    return wrapping_func\n",
    "\n",
    "@repeat_once_decorator\n",
    "def print_and_process_message(message):\n",
    "    print(f\"Here's the message: '{message}'\")\n",
    "    return len(message)\n",
    "\n",
    "len_of_msg = print_and_process_message(\"Test message 1-2-3\")\n",
    "print(len_of_msg)\n",
    "```\n",
    "The return statement executes the function AND returns its return value. \n"
   ]
  },
  {
   "cell_type": "code",
   "execution_count": null,
   "metadata": {},
   "outputs": [],
   "source": [
    "# Run the above code:\n"
   ]
  },
  {
   "cell_type": "code",
   "execution_count": 126,
   "metadata": {},
   "outputs": [],
   "source": [
    "# Exercise\n",
    "\n",
    "# 1. Define a function whose 1st argument is positional, and contains the input message obtained from the user. \n",
    "# The 2nd argument is a keyword argument named 'n'.\n",
    "# The function prints out the input message 'n' times, and returns 'n times the length of the input string'\n",
    "# Define a decorator to modify the function behaviour: print \"Beginning of 'print'\" before execution & \"End of 'print'\" after\n",
    "# Call the function now to demonstrate its changed behaviour\n"
   ]
  },
  {
   "cell_type": "markdown",
   "metadata": {},
   "source": [
    "## *Congratulations! You have now mastered Python Functions : arguments (inputs), return values (outputs), lambda functions, nested functions, variable scope, closures and decorators. Keep going!*"
   ]
  }
 ],
 "metadata": {
  "kernelspec": {
   "display_name": "Python 3",
   "language": "python",
   "name": "python3"
  },
  "language_info": {
   "codemirror_mode": {
    "name": "ipython",
    "version": 3
   },
   "file_extension": ".py",
   "mimetype": "text/x-python",
   "name": "python",
   "nbconvert_exporter": "python",
   "pygments_lexer": "ipython3",
   "version": "3.7.5"
  }
 },
 "nbformat": 4,
 "nbformat_minor": 2
}
