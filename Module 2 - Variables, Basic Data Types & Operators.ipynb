{
 "cells": [
  {
   "cell_type": "markdown",
   "metadata": {
    "slideshow": {
     "slide_type": "slide"
    }
   },
   "source": [
    "# Module 2 - Variables, Basic Data Types & Operators\n",
    "---\n",
    "This module will get you familiarised with the concept of variables. We will explore the different types of variables, the operations that we can do on them, as well as some basic built-in Python functions. \n",
    "\n",
    "## *1. What is a variable?*\n",
    "---\n",
    "\n",
    "A variable is a `placeholder for a value that we store` in Python. Technically, a variable is a `reserved memory location` to store an object. It points to an object stored in memory.\n",
    "\n",
    "> We get data into Python or create data within Python. Where do we store it? *Variables!*\n",
    "\n",
    "> We then manipulate the data, create intermediate results and save the output. How do we use and reference the data and intermediate results? *Variables!*\n",
    "\n",
    "\n",
    "## *2. Rules for naming variables:*\n",
    "---\n",
    "\n",
    "Valid variable names in Python follow these rules:\n",
    "- Only contain alphanumeric characters and underscores (A-z, 0-9, and _ ) \n",
    "- Start with a letter or the underscore character, not a number. \n",
    "- No spaces in the name\n",
    "- Cannot be identical to reserved words in Python like `str`, `print`, etc. If there is a logical name for your variable and it conflicts with a Python reserved keyword, then use a single trailing underscore: `var_`\n",
    "\n",
    "Also remember, variable names in Python are `case-sensitive` ('Size', 'size' and 'SIZE' are three different variables)\n",
    "\n",
    "Make sure that you give `meaningful names to your variables` so that other your code is readable and maintainable.\n",
    "```Python\n",
    "# Examples of invalid variable names\n",
    "9a=6 \n",
    "# (starting with a number)\n",
    "a~5 = 4 \n",
    "# (special character other than _)\n",
    "\n",
    "\n",
    "# Examples of valid variable names \n",
    "var = \"Hello World!\"\n",
    "a_1 = 5\n",
    "X23 = 10.3\n",
    "_X = True\n",
    "```"
   ]
  },
  {
   "cell_type": "markdown",
   "metadata": {},
   "source": [
    "## *3. Important characteristics of variables:*\n",
    "---\n",
    "\n",
    "In Python, `every variable points to an object` which has:\n",
    "- type \n",
    "- identity (reference) \n",
    "- value\n",
    "\n",
    "Let's write the following code to observe this in action:\n",
    "```Python\n",
    "a=5 \n",
    "# '=' assigns a value to the variable\n",
    "print(type(a))\n",
    "print(id(a))\n",
    "print(a)\n",
    "```\n",
    "\n",
    "In the code above - type(), id() and print() are called `built-in functions`. Python has many built-in functions. it also gives you the ability to define your own functions."
   ]
  },
  {
   "cell_type": "code",
   "execution_count": 1,
   "metadata": {},
   "outputs": [],
   "source": [
    "# Exercises:\n",
    "\n",
    "# 1. create a variable called 'var' and assign it a value of 10.\n",
    "var = 10"
   ]
  },
  {
   "cell_type": "code",
   "execution_count": 3,
   "metadata": {},
   "outputs": [
    {
     "name": "stdout",
     "output_type": "stream",
     "text": [
      "10\n",
      "<class 'int'>\n",
      "9789280\n"
     ]
    }
   ],
   "source": [
    "# 2. print the value, type and reference of the 'var'\n",
    "print(var)\n",
    "print(type(var))\n",
    "print(id(var))"
   ]
  },
  {
   "cell_type": "markdown",
   "metadata": {},
   "source": [
    "### Remember, Python is a dynamically-typed, strongly-typed language\n",
    "\n",
    "> **Dynamically-typed** means that the type of a variable / object is `not explicitly declared`, but instead it is inferred.\n",
    "\n",
    "> **Strongly-typed** means that variables cannot be `coerced to unrelated types, or perform operations intended for other types`. Strong typing means that once assigned a value of a particular kind, objects obey strict rules about how they can interact with other objects of various types. \n",
    "It is not weakly-typed, as that would mean that the same memory block is being re-interpreted in a different way. Weak-typing means that such rules are more relaxed. This doesn't mean that strongly typed languages are necessarily superior in any way; it's just a language design choice.  1 + \"1\" = error. \n",
    "\n",
    "> **Immutability** is a different concept - The contents of the memory locations, at any given point in the program’s execution, is called the program’s state. `When the state of an object cannot be altered after creation, it is immutable`. When you assign some new value to a variable, what actually happens is that the address changes. The contents of the original memory location are not changed. Other than List/Dictionary/Set, all other object types are immutable. So you aren't changing the value as much as creating a new variable.\n",
    "\n",
    "Python is considered strongly typed because objects have a distinct notion of what they type they are. Incompatible operations between objects cause errors\n",
    "\n",
    "The following code is proof that python is dynamically-typed and weakly-typed.\n",
    "```Python\n",
    "a=4 # we are not declaring a type explicitly\n",
    "a=5.6 \n",
    "a=\"xyz\" # we are coercing the variable to a different type (string) \n",
    "print(a) \n",
    "```\n"
   ]
  },
  {
   "cell_type": "code",
   "execution_count": 5,
   "metadata": {},
   "outputs": [],
   "source": [
    "# Exercises: \n",
    "\n",
    "# 1. create a variable called 'mixed' and assign it the value 7.8\n"
   ]
  },
  {
   "cell_type": "code",
   "execution_count": 6,
   "metadata": {},
   "outputs": [],
   "source": [
    "# 2. print out the type and value of 'mixed'\n"
   ]
  },
  {
   "cell_type": "code",
   "execution_count": 7,
   "metadata": {},
   "outputs": [],
   "source": [
    "# 3. now assign a new value to 'mixed' - the string \"this is a string\"\n"
   ]
  },
  {
   "cell_type": "code",
   "execution_count": 8,
   "metadata": {},
   "outputs": [],
   "source": [
    "# 4. print out the new type, id and value of 'mixed'\n"
   ]
  },
  {
   "cell_type": "code",
   "execution_count": 31,
   "metadata": {},
   "outputs": [],
   "source": [
    "# 5.how do the above results demonstrate immutability and dynamic-typing?\n"
   ]
  },
  {
   "cell_type": "code",
   "execution_count": 34,
   "metadata": {},
   "outputs": [],
   "source": [
    "# 6. now try to print a string concatenated with an integer \n",
    "# print(\"1\" + 1)"
   ]
  },
  {
   "cell_type": "code",
   "execution_count": null,
   "metadata": {},
   "outputs": [],
   "source": [
    "# 7. How does the above result demonstrate strong-typing? \n"
   ]
  },
  {
   "cell_type": "markdown",
   "metadata": {},
   "source": [
    "## *4. Data Types - Part 1*\n",
    "---\n",
    "\n",
    "### A) `None`: \n",
    "The None data type contains *NO VALUE*. It is used to denote a `missing or empty value`. It is a singleton, i.e., there is only 1 instance of the value \"None\" in memory.\n",
    "```Python\n",
    "x = None\n",
    "print(x)\n",
    "print(type(x))\n",
    "```"
   ]
  },
  {
   "cell_type": "code",
   "execution_count": 31,
   "metadata": {},
   "outputs": [],
   "source": [
    "# Exercise: \n",
    "\n",
    "# 1. create a null variable called 'null_var' with the value 'None'. What is its type?\n"
   ]
  },
  {
   "cell_type": "markdown",
   "metadata": {},
   "source": [
    "### B) `Integer`: \n",
    "The Integer data type holds `whole numbers (negative and positive) that don't contain decimal places`, i.e., *discrete values*.\n",
    "\n",
    "Examples:\n",
    "- *Number of students in a classroom*\n",
    "- *Age of an employee in years*\n",
    "- *Number of pairs of shoes sold daily*\n",
    "```Python\n",
    "x = 5\n",
    "print(x)\n",
    "print(type(x))\n",
    "```"
   ]
  },
  {
   "cell_type": "code",
   "execution_count": 32,
   "metadata": {},
   "outputs": [],
   "source": [
    "# Exercise\n",
    "\n",
    "# 1. create a variable called 'num_shoes_sold_daily' and assign it a value of 85. What is its type?\n"
   ]
  },
  {
   "cell_type": "markdown",
   "metadata": {},
   "source": [
    "### C) `Float`: \n",
    "The Float data type contains `numbers that have decimal places`,i.e., *continuous values*. It can theoretically take any of an infinite number of values.  \n",
    "\n",
    "Examples:\n",
    "- *Average revenue per user*\n",
    "- *Height in metres*\n",
    "- *Average distance travelled per day*\n",
    "```Python\n",
    "x=8.9\n",
    "print(x)\n",
    "print(type(x))\n",
    "```"
   ]
  },
  {
   "cell_type": "code",
   "execution_count": null,
   "metadata": {},
   "outputs": [],
   "source": [
    "# Exercise\n",
    "\n",
    "# 1. create  variable called 'height_in_mts' and assign it a value of '1.93'. What type is the variable?\n"
   ]
  },
  {
   "cell_type": "markdown",
   "metadata": {},
   "source": [
    "### D) `Boolean`: \n",
    "The Boolean data type contains the `Logical 'True' or 'False'`,i.e., it can be used to store indicators or \"Yes/No\" answers.  \n",
    "\n",
    "Examples:\n",
    "- *Has the candidate graduated from college?*\n",
    "- *Is the customer's age greater than 40?*\n",
    "- *Is the patient female?*\n",
    "\n",
    "```Python\n",
    "x=True\n",
    "print(x)\n",
    "\n",
    "x=False\n",
    "print(x)\n",
    "print(type(x))\n",
    "```"
   ]
  },
  {
   "cell_type": "code",
   "execution_count": 1,
   "metadata": {},
   "outputs": [],
   "source": [
    "# Exercise \n",
    "\n",
    "# 1. create a variable called 'female_patient' and assign it a value of 'True'. Print out the value and type of the variable.\n"
   ]
  },
  {
   "cell_type": "markdown",
   "metadata": {},
   "source": [
    "## *5. Arithmetic Operators:*\n",
    "---\n",
    "\n",
    "These operators are used to `perform calculations` on numeric variables - int and float (Some of these operators also work on strings and lists):\n",
    "<table style=\"float:left;width:40%;font-size:100%;\">\n",
    "<tr>\n",
    "<th>Operator</th>\n",
    "<th>Operation</th>\n",
    "</tr>\n",
    "\n",
    "<tr>\n",
    "<td>+</td>\n",
    "<td>Addition</td>\n",
    "</tr>\n",
    "\n",
    "<tr>\n",
    "<td>-</td>\n",
    "<td>Subtraction</td>\n",
    "</tr>\n",
    "\n",
    "<tr>\n",
    "<td>*</td>\n",
    "<td>Multiplication</td>\n",
    "</tr>\n",
    "\n",
    "<tr>\n",
    "<td>/</td>\n",
    "<td>Division</td>\n",
    "</tr>\n",
    "    \n",
    "<tr>\n",
    "<td>%</td>\n",
    "<td>Mod / Modulo</td>\n",
    "</tr>\n",
    "\n",
    "<tr>\n",
    "<td>**</td>\n",
    "<td>Exponent - to the power of</td>\n",
    "</tr>\n",
    "\n",
    "<tr>\n",
    "<td>//</td>\n",
    "<td>Floor division</td>\n",
    "</tr>\n",
    "    \n",
    "</table>  "
   ]
  },
  {
   "cell_type": "code",
   "execution_count": 9,
   "metadata": {},
   "outputs": [],
   "source": [
    "# Exercises:\n",
    "\n",
    "# 1. Create 2 variables 'a' and 'b'. Assign 'a' a value of 4, and 'b' a value of 5. Find a+b, a-b,a*b, b/a, b//a, b%a and a**b\n"
   ]
  },
  {
   "cell_type": "code",
   "execution_count": 10,
   "metadata": {},
   "outputs": [],
   "source": [
    "# 2. Create a variable called \"q2_days\" to calculate the number of days in the 2nd quarter of the year - April, May, June. \n",
    "# What is the value of \"q2_days\"? What type of variable is \"q2_days\"?\n"
   ]
  },
  {
   "cell_type": "code",
   "execution_count": 11,
   "metadata": {},
   "outputs": [],
   "source": [
    "# 3. Create a variable called \"num_seconds\" to calculate the number of seconds in a non-leap-year. \n",
    "# What is the value of \"num_seconds\"? What type of variable is \"num_seconds\"?\n"
   ]
  },
  {
   "cell_type": "code",
   "execution_count": 12,
   "metadata": {},
   "outputs": [],
   "source": [
    "# 4. Create a variable called \"q3_days\" to calculate the number of days in the 3rd quarter of the year- July, Aug, Sep. \n",
    "# Find the difference between \"q2_days\" and \"q3_days\"\n"
   ]
  },
  {
   "cell_type": "code",
   "execution_count": 13,
   "metadata": {},
   "outputs": [],
   "source": [
    "# 5. A company had 50,000 customers in Jan. They lost 2,875 customers in Feb. How many customers are remaining?\n",
    "# If the remaining customers spend an average of 20 dollars a month, how much monthly revenue can the company expect?\n"
   ]
  },
  {
   "cell_type": "code",
   "execution_count": 14,
   "metadata": {},
   "outputs": [],
   "source": [
    "# 6. A company spends 120000 rupees a month on catering services for its employees. There are 40 employees, 25 working days per\n",
    "# month, and 3 meals per day. What is the average amount spent per employee per meal? What data type is the variable?\n"
   ]
  },
  {
   "cell_type": "code",
   "execution_count": 15,
   "metadata": {},
   "outputs": [],
   "source": [
    "# 7. A company orders 100 boxes of sweets to be evenly divided between 24 employees. The remaining boxes are donated to charity.\n",
    "# How many boxes of sweets were donated? How many boxes of sweets does each employee get? (Use \"modulo\" and \"floor division\")\n"
   ]
  },
  {
   "cell_type": "code",
   "execution_count": null,
   "metadata": {},
   "outputs": [],
   "source": [
    "# 8. A working professional decided to invest Rs. 6,00,000 in a fixed deposit at 7% per year for 3 years (compound interest). \n",
    "# Create a variable called \"total_sum\" to calculate the total sum he received at the end of 3 years. What is the type of the\n",
    "# \"total_sum\" variable? (use the \"exponent\" operator to calculate the answer)\n"
   ]
  },
  {
   "cell_type": "markdown",
   "metadata": {},
   "source": [
    "## *6. Comparison / Relational Operators:*\n",
    "---\n",
    "\n",
    "These operators are used to `perform comparisons` on variables. They test if a condition is true or false. The result of an expression that contains these operators is always a Boolean (True/False).\n",
    "<table style=\"float:left;width:40%;font-size:100%;\">\n",
    "<tr>\n",
    "<th>Operator</th>\n",
    "<th>Condition checked</th>\n",
    "</tr>\n",
    "\n",
    "<tr>\n",
    "<td>></td>\n",
    "<td>greater than</td>\n",
    "</tr>\n",
    "\n",
    "<tr>\n",
    "<td>>=</td>\n",
    "<td>greater than or equal to</td>\n",
    "</tr>\n",
    "\n",
    "<tr>\n",
    "<td>&#60;</td>\n",
    "<td>less than</td>\n",
    "</tr>\n",
    "\n",
    "<tr>\n",
    "<td>&#60;=</td>\n",
    "<td>less than or equal to</td>\n",
    "</tr>\n",
    "    \n",
    "<tr>\n",
    "<td>==</td>\n",
    "<td>equal to</td>\n",
    "</tr>\n",
    "\n",
    "<tr>\n",
    "<td>!=</td>\n",
    "<td>not equal to</td>\n",
    "</tr>\n",
    "    \n",
    "</table>\n"
   ]
  },
  {
   "cell_type": "code",
   "execution_count": 16,
   "metadata": {},
   "outputs": [],
   "source": [
    "# Exercises:\n",
    "\n",
    "# 1. Company X sold 2,000 toys at Rs. 450 per toy. Company Y sold 3,500 toys at Rs. 300 per toy. \n",
    "# Is the following statement true or false: \"Company X has lower revenue from toys than Company Y\"?\n"
   ]
  },
  {
   "cell_type": "code",
   "execution_count": 17,
   "metadata": {},
   "outputs": [],
   "source": [
    "# 2. A school is raising money for charity. 9th grade has 60 students who gave an average of Rs. 150 each.\n",
    "# 10th grade has 90 students who gave an average if Rs. 100 each. \n",
    "# - Is this statement true or false: \"10th-graders (totally) gave at least as much as 9th-graders, if not more\"?\n",
    "\n",
    "# - Is the following statement true or false: \"10th-graders (totally) gave exactly as much as 9th-graders\"?\n"
   ]
  },
  {
   "cell_type": "code",
   "execution_count": null,
   "metadata": {},
   "outputs": [],
   "source": [
    "# 3. Is this statement true or false: \"The 4th power of 2 is not equal to the 2nd power of 4\"?\n"
   ]
  },
  {
   "cell_type": "markdown",
   "metadata": {},
   "source": [
    "## *7. Logical Operators:*\n",
    "---\n",
    "\n",
    "These operators are used to `combine multiple logical conditions` in different ways. Remember, the outcome of a condition is a Boolean. So the Logical Operators basically work on Boolean variables. The result of these expressions is always a Boolean (True/False).\n",
    "<table style=\"float:left;width:80%;font-size:100%;\">\n",
    "<tr>\n",
    "<th style=\"width: 15%\">Operator</th>\n",
    "<th style=\"width: 20%\">Operation</th>\n",
    "<th style=\"width: 65%\">Description</th>\n",
    "</tr>\n",
    "\n",
    "<tr>\n",
    "<td>and</td>\n",
    "<td>Logical AND</td>\n",
    "<td>Returns True ONLY if all inputs are True. Else returns FALSE</td>\n",
    "</tr>\n",
    "\n",
    "<tr>\n",
    "<td>or</td>\n",
    "<td>Logical OR</td>\n",
    "<td>Returns False ONLY if all inputs are False. Else returns TRUE</td>\n",
    "</tr>\n",
    "\n",
    "<tr>\n",
    "<td>not</td>\n",
    "<td>Logical NOT</td>\n",
    "<td>Returns the complement. Returns False if the input is True and vice-versa</td>\n",
    "</tr>\n",
    "\n",
    "</table>"
   ]
  },
  {
   "cell_type": "code",
   "execution_count": 18,
   "metadata": {},
   "outputs": [],
   "source": [
    "# Exercises:\n",
    "\n",
    "# 1. A man's weight is 80kgs. Write a logical condition to test whether his weight is between 75kgs and 100kgs.\n",
    "# Write the condition with and without the AND operator\n"
   ]
  },
  {
   "cell_type": "code",
   "execution_count": 19,
   "metadata": {},
   "outputs": [],
   "source": [
    "# 2. There are 3 friends A, B and C whose monthly salaries are Rs.60,000 , Rs.75,000 and Rs.90,000 respectively. \n",
    "# - Is this statement true or false: \"A's salary is less than the average of their salaries and C's salary is greater \n",
    "# than the average of their salaries\"?\n",
    "\n",
    "# - Is this statement true or false: \"At least one of the 3 friends has a salary equal to the average of their salaries\"?\n",
    "\n",
    "# - Is this statemnt true or false: \"A's salary is not more than Rs.70,000\"? (with and without the NOT operator) \n"
   ]
  },
  {
   "cell_type": "code",
   "execution_count": null,
   "metadata": {},
   "outputs": [],
   "source": [
    "# 3. A husband and wife are 45 and 38 years old respectively. \n",
    "# - Write a condition to test whether the age difference bewteen them is either less than 3 years or at least 7 years \n",
    "\n",
    "# - Write a condition to test whether the husband is in his forties and the wife is in her thirties.\n"
   ]
  },
  {
   "cell_type": "markdown",
   "metadata": {},
   "source": [
    "## *8. Built-in functions*\n",
    "---\n",
    "\n",
    "Lets look at Python's basic built-in functions in a little more detail. We have already come across a few of them in the code above. For now, just understand that we need to call a function by its name and optionally send it some important information that it needs as `arguments` within brackets.\n",
    "\n",
    "\n",
    "### A) `print()`\n",
    "\n",
    "The print() function is the easiest way to produce output in Python. It converts all the variables/expressions/values that you pass into a string, and then writes that string to the screen. It is extremely useful for debugging, to make sure that your code works as intended.\n",
    "\n",
    "Syntax: `print(value(s), sep=' ', end = ‘\\n’)`\n",
    "\n",
    "The default separator is `single space ' '` and the default ending of the string is the `newline character '\\n'`. The `separator` argument is used when we pass multiple values to be printed in 1 print statement. The `ending` argument is comes into play when we consider how the output of consecutive print statements are delineated. More often than not, we DO NOT specify these arguments because there is rarely a need to change the default valules. \n",
    "```Python\n",
    "print(5+9) # expression\n",
    "x=400\n",
    "print(x) # variable\n",
    "print(50<49) # expression\n",
    "print(5,9) # values\n",
    "\n",
    "print(5,9,sep='-',end='X')\n",
    "print(\"This was supposed to start on a new line, but i changed the default ending\")\n",
    "\n",
    "```"
   ]
  },
  {
   "cell_type": "code",
   "execution_count": 20,
   "metadata": {},
   "outputs": [],
   "source": [
    "# Exercises:\n",
    "\n",
    "# 1. print out the sum of 9 and 23\n"
   ]
  },
  {
   "cell_type": "code",
   "execution_count": 21,
   "metadata": {},
   "outputs": [],
   "source": [
    "# 2. print out the value of a variable called 'height' which has the value of 193.5\n"
   ]
  },
  {
   "cell_type": "code",
   "execution_count": 22,
   "metadata": {},
   "outputs": [],
   "source": [
    "# 3. print out the result of the expression '150 < 148'\n"
   ]
  },
  {
   "cell_type": "code",
   "execution_count": 23,
   "metadata": {},
   "outputs": [],
   "source": [
    "# 4. print out the values of 3 varibles'x','y','z' with the values 10, 12, 14 respectively (using only 1 print statement)\n"
   ]
  },
  {
   "cell_type": "code",
   "execution_count": null,
   "metadata": {},
   "outputs": [],
   "source": [
    "# 5. print out the numbers 5 and 10, separated by '---' and ending with '!!!'\n"
   ]
  },
  {
   "cell_type": "markdown",
   "metadata": {},
   "source": [
    "### B) `input()`\n",
    "\n",
    "The input() function `accepts user input and stores it as a string`. This function is helpful when our program changes its behaviour based on a user's input - like a quiz game, or the value of a machine learning parameter. You can pass the message prompting user input as the argument to the input() function.\n",
    "\n",
    "```Python\n",
    "my_input_name = input(\"Please enter your name\") # stops and waits for user input\n",
    "print(\"Hi\", my_input_name, \"! Its a pleasure to meet you.\") \n",
    "print(type(my_input_name))\n",
    "\n",
    "my_input_age = input(\"Please enter your age\")\n",
    "print(\"Oh good! You're\", my_input_age, \"years old.\")\n",
    "print(type(my_input_age))\n",
    "print(type(int(my_input_age))) # make sure the value can be converted\n",
    "\n",
    "```"
   ]
  },
  {
   "cell_type": "code",
   "execution_count": null,
   "metadata": {},
   "outputs": [],
   "source": [
    "# Exercises:\n",
    "\n",
    "# 1. Ask the user to enter his/her name, and store the value in a variable called 'user_name'\n",
    "# Display a customised greeting to the user containing the recently-entered name 'Hi <name> ! Welcome to our store'\n",
    "# Ask the user to enter his/her age and store it in a variable called 'user_age'\n",
    "# Display a message with the user name and age 'Name: <name> Age: <age>'\n"
   ]
  },
  {
   "cell_type": "markdown",
   "metadata": {},
   "source": [
    "### C) `type()`\n",
    "\n",
    "The type() function `returns the data type of a variable/value/expression`. Or in Python terms, it returns the class type of the object passed as parameter. (Remember in Python, everything is an object with a type, identity and value)\n",
    "\n",
    "```Python\n",
    "print(type(1)) # int\n",
    "print(type(1.0)) # float\n",
    "print(type(True)) # bool\n",
    "print(type(\"Hello\")) # string\n",
    "```\n",
    "\n",
    "The type() function becomes a lot more powerful when used in conjunction with the `is` keyword. It is very important to remember that the `==` equality comparison refers *only to values*. The `is` keyword checks if the 2 arguments refer to the *same object*. \n",
    "\n",
    "```Python\n",
    "print([] == []) # True, because the values of the 2 lists are equal\n",
    "print([] is []) # False, because they are 2 separate objects with the same value\n",
    "\n",
    "\n",
    "print(type(1) == 'int') \n",
    "# False, because type(1) returns the class type 'int', while the right hand side is a string with value 'int' \n",
    "\n",
    "print(type(1) is int) \n",
    "# True, because the right hand side is now the reserved keyword 'int', which refers to the integer class type \n",
    "\n",
    "```"
   ]
  },
  {
   "cell_type": "code",
   "execution_count": 24,
   "metadata": {},
   "outputs": [],
   "source": [
    "# Exercises:\n",
    "\n",
    "# 1. Create a variable called 'customer_spend' and assign it the value 7.54. What is the type of the variable?\n"
   ]
  },
  {
   "cell_type": "code",
   "execution_count": 25,
   "metadata": {},
   "outputs": [],
   "source": [
    "# 2. Test if the type of the variable is 'int' using the 'is' keyword\n"
   ]
  },
  {
   "cell_type": "code",
   "execution_count": null,
   "metadata": {},
   "outputs": [],
   "source": [
    "# 3. Create a variable called 'is_customer' and assign it the value 'True'. What is the type of the variable?\n"
   ]
  },
  {
   "cell_type": "markdown",
   "metadata": {},
   "source": [
    "### D) `isinstance()`\n",
    "\n",
    "The isinstance() `returns true if the 1st argument (value/expression/variable) is an instance of a particular class (2nd argument)`. For the 2nd argument, you can pass a comm-separated gruop of values within brackets.\n",
    "\n",
    "```Python\n",
    "print(isinstance(2,int)) # returns True\n",
    "# Same as: print(type(2) is int)\n",
    "print(isinstance(2.65,int)) # returns False, because the value is a 'float'\n",
    "print(isinstance(1,(int,float))) # returns True, because the value is 'int', which is contained in the list of types\n",
    "```"
   ]
  },
  {
   "cell_type": "code",
   "execution_count": 26,
   "metadata": {},
   "outputs": [],
   "source": [
    "# Exercises:\n",
    "\n",
    "# 1. Is the value 3.75 an instance of the class 'int' ?\n"
   ]
  },
  {
   "cell_type": "code",
   "execution_count": null,
   "metadata": {},
   "outputs": [],
   "source": [
    "# 2. True or False: a variable with value 'True' is either a 'float' or 'int'\n"
   ]
  },
  {
   "cell_type": "markdown",
   "metadata": {},
   "source": [
    "### E) `round()`\n",
    "\n",
    "The round() function `rounds the input value to the nearest integer (if no 2nd argument is passed), or to the specified number of decimal places (if the 2nd argument is passed)`. It is a useful arithmetic function to know.\n",
    "\n",
    "```Python\n",
    "print(round(2.65)) # rounds up to 3\n",
    "print(round(2.4))  # rounds down to 2\n",
    "print(round(2.666, 2)) # rounds to 2.67 - 2 decimal places\n",
    "\n",
    "```"
   ]
  },
  {
   "cell_type": "code",
   "execution_count": 27,
   "metadata": {},
   "outputs": [],
   "source": [
    "# Exercises:\n",
    "\n",
    "# 1. The average exam score is 78.7. Round it off to the nearest integer\n"
   ]
  },
  {
   "cell_type": "code",
   "execution_count": null,
   "metadata": {},
   "outputs": [],
   "source": [
    "# 2. The value of pi is 3.14159. Find the value of pi to 3 decimal place.\n"
   ]
  },
  {
   "cell_type": "markdown",
   "metadata": {},
   "source": [
    "### F) `pow()`\n",
    "\n",
    "The pow() function `returns the power of the 1st number to the 2nd number`. \n",
    "\n",
    "```Python\n",
    "print(pow(2, 3)) # returns 2 to the power of 3, which is 8\n",
    "print(pow(2.5, 2))  # returns 6.25\n",
    "\n",
    "```\n",
    "\n"
   ]
  },
  {
   "cell_type": "code",
   "execution_count": 28,
   "metadata": {},
   "outputs": [],
   "source": [
    "# Exercises: \n",
    "# (Solve using pow() as well as the ** operator)\n",
    "\n",
    "# 1. What is 3 to the 5th power?\n"
   ]
  },
  {
   "cell_type": "code",
   "execution_count": null,
   "metadata": {},
   "outputs": [],
   "source": [
    "# 2. What is the compound interest earned on a sum of Rs. 10,000 in 3 years at 10% interest?\n"
   ]
  },
  {
   "cell_type": "markdown",
   "metadata": {},
   "source": [
    "## *9. Converting between basic data types*\n",
    "---\n",
    "\n",
    "### A) `Converting to Integer - int()`: \n",
    "\n",
    "The int() function is basically a `constructor` for an Integer object. When we pass a float value to the int() function, the decimal part of the float value gets dropped, leaving only the integer part.\n",
    "\n",
    "```Python\n",
    "x=int(5.5)\n",
    "print(x)\n",
    "print(type(x))\n",
    "\n",
    "x=int(-0.2)\n",
    "print(x)\n",
    "```\n",
    "\n",
    "When we pass a number stored as a string to the int() function, it converts the string to an integer. It throws an error if the string cannot be converted to an integer.\n",
    "\n",
    "```Python\n",
    "x=int(\"734\")\n",
    "print(x)\n",
    "\n",
    "print(type(\"734\"))\n",
    "print(type(x))\n",
    "```"
   ]
  },
  {
   "cell_type": "code",
   "execution_count": 29,
   "metadata": {},
   "outputs": [],
   "source": [
    "# Exercises:\n",
    "\n",
    "# 1. convert the value 7.25 to an integer\n"
   ]
  },
  {
   "cell_type": "code",
   "execution_count": null,
   "metadata": {},
   "outputs": [],
   "source": [
    "# 2. convert the string \"7.25a\" to an integer. Does it throw an error? Now try with the string \"7.25\"\n"
   ]
  },
  {
   "cell_type": "markdown",
   "metadata": {},
   "source": [
    "### B) `Converting to Float - float()`: \n",
    "\n",
    "The float() function is a `constructor` for a Float object. When we pass an integer value to the float() function, it converts it to a float data type with decimal part.\n",
    "\n",
    "```Python\n",
    "x=float(5)\n",
    "print(x)\n",
    "\n",
    "```\n",
    "\n",
    "When we pass a number stored as a string to the float() function, it converts the string to a float. It throws an error if the string cannot be converted to a float.\n",
    "\n",
    "```Python\n",
    "x=float(\"7.34\")\n",
    "print(x)\n",
    "\n",
    "print(type(\"7.34\"))\n",
    "print(type(x))\n",
    "```"
   ]
  },
  {
   "cell_type": "code",
   "execution_count": 30,
   "metadata": {},
   "outputs": [],
   "source": [
    "# Exercises:\n",
    "\n",
    "# 1. convert the value 8 to an float\n"
   ]
  },
  {
   "cell_type": "code",
   "execution_count": null,
   "metadata": {},
   "outputs": [],
   "source": [
    "# 2. convert the string \"8.5abc\" to a float. Does it throw an error? Now try with the string \"8.5\"\n"
   ]
  },
  {
   "cell_type": "markdown",
   "metadata": {},
   "source": [
    "### C) `Converting to Boolean - bool()`: \n",
    "\n",
    "The bool() function is a `constructor` for a Boolean object. When we pass any non-zero numerical value to the bool() function, it returns True. Else it returns False.\n",
    "\n",
    "```Python\n",
    "x=bool(4.3)\n",
    "print(x)\n",
    "\n",
    "x=bool(-0.2)\n",
    "print(x)\n",
    "\n",
    "x=bool(0)\n",
    "print(x)\n",
    "```\n",
    "\n",
    "We can use these functions whenever we need to ensure that certain types of data conform to certain data types. Remember to always pass compatible data types as arguments to the respective functions while converting."
   ]
  },
  {
   "cell_type": "code",
   "execution_count": 46,
   "metadata": {},
   "outputs": [],
   "source": [
    "# Exercises:\n",
    "\n",
    "# 1. ask the user to input a number. If the number is 0, print 'False'. Otherwise print 'True'. \n",
    "# (Remember to convert the input string to a number)\n"
   ]
  },
  {
   "cell_type": "markdown",
   "metadata": {},
   "source": [
    "## *Congratulations! You are now a master of Python variables, operators, basic data types and built-in functions.*\n"
   ]
  }
 ],
 "metadata": {
  "kernelspec": {
   "display_name": "Python 3",
   "language": "python",
   "name": "python3"
  },
  "language_info": {
   "codemirror_mode": {
    "name": "ipython",
    "version": 3
   },
   "file_extension": ".py",
   "mimetype": "text/x-python",
   "name": "python",
   "nbconvert_exporter": "python",
   "pygments_lexer": "ipython3",
   "version": "3.8.10"
  }
 },
 "nbformat": 4,
 "nbformat_minor": 2
}
