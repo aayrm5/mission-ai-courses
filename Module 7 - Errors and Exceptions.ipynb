{
 "cells": [
  {
   "cell_type": "markdown",
   "metadata": {},
   "source": [
    "# Module 7 - Errors & exceptions\n",
    "---\n",
    "In this module, you will learn about Python errors and exceptions, how they are generated, how to catch them and how to resolve them. When Python encounters an error, it will display the type of error along with an explanatory message and show the section of code where the error occurred. There is a small upward arrow that indicates the exact position of the error. `If there are multiple errors, Python will show the 1st error encountered during execution`. As you resolve the earlier errors, it starts showing the subsequent ones encountered during execution.\n",
    "\n",
    "## *1. Syntax errors*:\n",
    "---\n",
    "\n",
    "Generally, `syntax errors (parsing errors) mean that the code is not correctly written`. Lets look at a few examples of syntax errors:\n",
    "\n",
    "```Python\n",
    "# there are 3 syntax errors in this code\n",
    "if(1=1)\n",
    "print(\"equal\")\n",
    "\n",
    "# correcting the 1st error: equality comparison\n",
    "if(1==1)\n",
    "print(\"equal\")\n",
    "\n",
    "# correcting the 2nd error: colon after the 'if' condition\n",
    "if(1==1):\n",
    "print(\"equal\")\n",
    "\n",
    "# correcting the 3rd error: indenting the code block inside the 'if'\n",
    "if(1==1):\n",
    "    print(\"equal\")\n",
    "```\n",
    "\n",
    "IndentationError is a subclass of SyntaxError, which means that it is a specific type of SyntaxError:\n",
    "```Python\n",
    "issubclass(IndentationError, SyntaxError)\n",
    "```"
   ]
  },
  {
   "cell_type": "code",
   "execution_count": 32,
   "metadata": {},
   "outputs": [],
   "source": [
    "# Run the above code:\n"
   ]
  },
  {
   "cell_type": "code",
   "execution_count": 41,
   "metadata": {},
   "outputs": [],
   "source": [
    "# Exercise:\n",
    "\n",
    "# 1. Correct the syntax errors one by one in the following code by looking at the error messages when you run it:\n",
    "# (use 'Ctrl /' to un-comment the code)\n",
    "\n",
    "# if(1=1 and True !== False)\n",
    "# print(this may get printed)\n",
    "# else\n",
    "# print(\"this message won't get printed\")\n"
   ]
  },
  {
   "cell_type": "markdown",
   "metadata": {},
   "source": [
    "## *2. Exceptions*:\n",
    "---\n",
    "\n",
    "`Exceptions are errors that are generated at run-time (during exection) from code that is syntactically correct`. It means that the code is correctly written, but the behaviour breaks some rules. This happens when the programmer doesn't consider all the possibilities like wrong inputs from the user, incorrect/incompatible data types, empty/missing values, etc. The most common types of exceptions that we will encounter are:\n",
    "- TypeError\n",
    "- ValueError\n",
    "- NameError\n",
    "- ZeroDivisionError\n",
    "\n",
    "Lets look at a few examples of each of these different exceptions (Remember, all of these exception-generating pieces of code are syntactically correct):\n",
    "\n",
    "```Python\n",
    "# TypeError is thrown when an operation or function is applied to an object of an incompatible type \n",
    "print(\"Hi Student#\" + 5) # 'int' cannot be concatenated with a string without converting it explicitly\n",
    "print(len(100.55)) # object of type 'float' has no len()\n",
    "print(\"This is a string\" / 2) # unsupported opertion for 'string' and 'int'\n",
    "print(list(1)) # 'int' object is not iterable\n",
    "\n",
    "################\n",
    "\n",
    "# ValueError is thrown when: \n",
    "# a) A built-in function receives an argument of the right type, but with an unacceptable value.\n",
    "# b) Trying to perform an operation on a value that doesn’t exist\n",
    "# c) unpacking more values than you have \n",
    "print(int(input(\"enter a number\"))) # error if the user enters a non-number. int(\"21\") is okay, but int(\"cat\") isn't\n",
    "[1,2,3].remove(4) # throws an error because item with value '4' does not exist in the list\n",
    "x,y,z = (10,20) # mismatch in the number of values being unpacked \n",
    "\n",
    "################\n",
    "\n",
    "# NameError is thrown when an object could not be found, or when you have misspelt a variable name / keyword\n",
    "print(len(a)) # 'a' has not been defined\n",
    "prin(10) # 'print' has been misspelt\n",
    "\n",
    "################\n",
    "\n",
    "# ZeroDivisionError is thrown when the second operator in the division is zero\n",
    "a = 0\n",
    "print(\"The reciprocal of 'a' is \" + str(1/a)) # 'a' is zero, so it cant be the denominator\n",
    "```"
   ]
  },
  {
   "cell_type": "code",
   "execution_count": null,
   "metadata": {},
   "outputs": [],
   "source": [
    "# Run the above code:\n"
   ]
  },
  {
   "cell_type": "code",
   "execution_count": 48,
   "metadata": {},
   "outputs": [],
   "source": [
    "# Exercise\n",
    "\n",
    "# 1. Modify the follwing statements so that they don't throw a TypeError: (use 'Ctrl /' to un-comment the code)\n",
    "# print(\"Hi contestant #\" + 8) \n",
    "# print(\"Test\" / 3)\n",
    "# print(list(2))\n"
   ]
  },
  {
   "cell_type": "code",
   "execution_count": 54,
   "metadata": {},
   "outputs": [],
   "source": [
    "# 2. Modify the follwing statements so that they dont throw a ValueError: \n",
    "# print(int(\"cat\"))\n",
    "# [10,20,30].remove(40) \n",
    "# x,y,z = (100,200) \n"
   ]
  },
  {
   "cell_type": "code",
   "execution_count": 58,
   "metadata": {},
   "outputs": [],
   "source": [
    "# 3. Modify the follwing statements so that they dont throw a NameError: \n",
    "# print(len(a1))\n",
    "# prin(\"This is a sample sentence\")\n"
   ]
  },
  {
   "cell_type": "code",
   "execution_count": 61,
   "metadata": {},
   "outputs": [],
   "source": [
    "# 4. Modify the follwing block of code so that it doesn't throw a ZeroDivisionError:\n",
    "# a = [1,2,0]\n",
    "# for i in a:\n",
    "#     print(\"The reciprocal of the element is \" + str(1/i))\n"
   ]
  },
  {
   "cell_type": "markdown",
   "metadata": {},
   "source": [
    "## *3. Handling exceptions*:\n",
    "---\n",
    "\n",
    "`The Exception class is the base class for all built-in Python exceptions`. All the exceptions shown in the previous section are derived from the `Exception` class. So if you want to catch *any* exception, look for the general Exception class. But if you handle specific exceptions, then look for the specific classes instead of Exception. The syntax for dealing with exceptions is as follows:\n",
    "\n",
    "```Python\n",
    "try:\n",
    "    <code that might throw an exception>\n",
    "except (<types of exceptions>):\n",
    "    <code to handle the error case>\n",
    "else:\n",
    "    <code that must be executed if the 'try' block doesnt throw an exception>\n",
    "finally:\n",
    "    <final code to be executed before exiting, irrespective of whether an exception was thrown or not>\n",
    "```\n",
    "\n",
    "Make sure you note the following details:\n",
    "\n",
    "- `It isn't necessary to specify the types of exceptions we are catching` - in that case, you will have 1 except block that handles all types of exceptions\n",
    "- `Multiple except blocks can be specified`, with custom code for each type of exception.\n",
    "- `Multiple types of exceptions can be caught/handled in 1 except block`\n",
    "- There can be `1 generic except block at the end` to handle exceptions that haven't been explicitly stated\n",
    "- The `else block is ONLY for statements that must be executed ONLY IF the try block executes without an exception`. For example, if the code to open a file is in 'try', then the code to read its contents can be put in 'else'\n",
    "- It isn't necessary to specify a 'finally' clause, but `'finally' is used to specify an clean-up actions` like closing fles that have been opened, etc. If there is no exception, the 'finally' block is executed at the end of the 'try' block code. If there is an exception, it is executed after the 'except' block code. If both the 'try' and 'finally' blocks contain a 'return' statement, the value from 'finally' will be returned.\n",
    "\n",
    "Lets now look at some code examples to demonstrate the concepts above:\n",
    "\n",
    "```Python\n",
    "# Example 1: basic try / except \n",
    "# We have 1 'except' block to deal with all types of exceptions \n",
    "# The 'try' block executes fully without throwing an error\n",
    "try:\n",
    "    print(\"This doesn't produce an exception\")\n",
    "    # print(len(10)) # produces an error\n",
    "except:\n",
    "    print(\"We don't enter this block because there was no error\")\n",
    "\n",
    "#############\n",
    "\n",
    "# Example 2: basic try / except / finally\n",
    "# We now have a 'finally' block whose code is executed before exiting the try block \n",
    "try:\n",
    "    print(\"This doesn't produce an exception\")\n",
    "    # print(len(10)) # produces an error\n",
    "except:\n",
    "    print(\"We don't enter this block because there was no error\")\n",
    "finally:\n",
    "    print(\"This statement in the 'finally' block gets printed\")\n",
    "\n",
    "#############\n",
    "\n",
    "# Example 3: specifying exception types\n",
    "# We will specify multiple except blocks to deal with different types of exceptions\n",
    "try:\n",
    "    print(\"This line is at the beginning of the try block\")\n",
    "    # print(len(10)) # produces a TypeError\n",
    "    # [1,2,3].remove(4) # produces a ValueError\n",
    "    # print(a3) # throws a NameError\n",
    "    # print(1/0) # throws a ZeroDivisionError\n",
    "    print(\"This line is at the end of the try block\")\n",
    "except NameError:\n",
    "    print(\"This is the code in the except block for NameError\")\n",
    "except (ValueError, TypeError):\n",
    "    print(\"This is the code in the except block for ValueError & TypeError\")\n",
    "except:\n",
    "    print(\"This is the code in the except block for all other exceptions that haven't been specified\")\n",
    "finally:\n",
    "    print(\"This is from the 'finally' block\")\n",
    "\n",
    "# Example 4: specifying try, except, else, finally\n",
    "# See what gets executed and what doesn't\n",
    "try:\n",
    "    print(\"try\")\n",
    "    # print(\"try\"+1) # invalid operation\n",
    "except:\n",
    "    print(\"Except\")\n",
    "else:\n",
    "    print(\"else\")\n",
    "finally:\n",
    "    print(\"finally\")\n",
    "\n",
    "```"
   ]
  },
  {
   "cell_type": "code",
   "execution_count": 24,
   "metadata": {},
   "outputs": [],
   "source": [
    "# Run the above code:\n",
    "# Un-comment the lines one by one to see how the code behaves, and which blocks catch the exceptions that are thrown. \n",
    "# Also see which statements never get printed, and which ones always do\n"
   ]
  },
  {
   "cell_type": "code",
   "execution_count": 65,
   "metadata": {},
   "outputs": [],
   "source": [
    "# Exercises:\n",
    "\n",
    "# 1. Write a function that uses list comprehension to generate a list of squares of the 1st 10 positive integers \n",
    "# If there is a ValueError, print the message \"This is a ValueError\"\n",
    "# If there is a TypeError or ZeroDivisionError, print the message \"Either a TypeError or ZerDivError\" and throw the exception\n",
    "# For any other type of Exception, print the message \"Some other exception was thrown\"\n",
    "# If the 'try' code runs successfully, print the message \"The try ran successfully\"\n",
    "# Print the message \"End of code\" at the end, irrespective of whether an exception was raised or not\n"
   ]
  },
  {
   "cell_type": "markdown",
   "metadata": {},
   "source": [
    "## *4. Raising exceptions*:\n",
    "---\n",
    "\n",
    "There are scenarios where you might want to raise an exception pro-actively. One way to do this is to use the `raise` keyword. It takes the format:\n",
    "```Python\n",
    "raise <exception_type>(custom_message)\n",
    "```\n",
    "Another way to raise an exception if a certain condition is not met, is to `assert` that the condition is met. If the condition is not true, an AssertionError exception is thrown. You can add a custom message to the exception.   \n",
    "```Python\n",
    "assert <condition>, custom_message\n",
    "```\n",
    "\n",
    "Lets consider the following scenarios:\n",
    "- A variable has crossed a threshold value, meaning that there is definitely an incorrect input, corrupted data or wrong calculation\n",
    "\n",
    "```Python\n",
    "# If the value of 'a' is greater than 100, throw an exception with the message \"Value cannot exceed 100\"\n",
    "\n",
    "# Solution 1: use 'raise'\n",
    "a=int(input(\"Enter a number between 0 and 100\"))\n",
    "if (a > 100):\n",
    "    raise ValueError(\"Value cannot exceed 100\")\n",
    "\n",
    "# Solution 2: use 'assert'\n",
    "a=int(input(\"Enter a number betyween 0 and 100\"))\n",
    "assert a<=100, \"Value cannot exceed 100\"\n",
    "```\n",
    "\n",
    "- An exception is thrown, but it isn't describe the underlying cause accurately enough\n",
    "\n",
    "```Python\n",
    "# Solution 1: Catch the exception, then raise a general Exception with a clear message \n",
    "try:\n",
    "    print(\"The square of the integer that you entered is: \" + str(int(input(\"Enter a number\"))**2))\n",
    "except:\n",
    "    raise Exception(\"Please make sure you enter a number as input and not text\")\n",
    "\n",
    "#############\n",
    "\n",
    "# Solution 2: Catch the exception, add a descriptive message to the exception, and re-raise it: \n",
    "try:\n",
    "    print(\"The square of the integer that you entered is: \" + str(int(input(\"Enter a number\"))**2))\n",
    "except ValueError as ve:\n",
    "    ve.args=(\"Please make sure you enter a number as input and not text\", *ve.args)\n",
    "    raise # the same exception object which was caught is now re-raised\n",
    "\n",
    "#############\n",
    "\n",
    "# Solution 3: Catch the exception, and raise an exception with a clear message, chained to the 1st exception\n",
    "try:\n",
    "    print(\"The square of the integer that you entered is: \" + str(int(input(\"Enter a number\"))**2))\n",
    "except ValueError as ve:\n",
    "    raise ValueError(\"Please make sure you enter a number as input and not text\") from ve\n",
    "```\n",
    "\n",
    "> The .args attribute of exceptions is a tuple of all the arguments that were passed to the exception. Usually the only argument is the error message. This allows you to modify or add to the arguments and re-raise the exception. Now the extra information will be displayed along with the exception. You could also put a print statement or log the error message in the except block."
   ]
  },
  {
   "cell_type": "code",
   "execution_count": 16,
   "metadata": {},
   "outputs": [],
   "source": [
    "# Run the code above:\n"
   ]
  },
  {
   "cell_type": "code",
   "execution_count": 69,
   "metadata": {},
   "outputs": [],
   "source": [
    "# Exercises:\n",
    "\n",
    "# 1. Ask the user to input a number between 0 and 10. \n",
    "# If the number is lesser than 0 or greater than 10, raise a ValueError with the message \"Wrong input!\"\n"
   ]
  },
  {
   "cell_type": "code",
   "execution_count": 72,
   "metadata": {},
   "outputs": [],
   "source": [
    "# 2. Ask the user to input a string of length > 10.\n",
    "# If the length is less than or equal to 10, raise an AssertionError with the message \"Longer message please!\"\n"
   ]
  },
  {
   "cell_type": "code",
   "execution_count": 78,
   "metadata": {},
   "outputs": [],
   "source": [
    "# 3. Ask the user to input a number between 110 and 130. \n",
    "# If the number is less than 110, raise a ValueError. \n",
    "# While handling the ValueError, print the message \"Incorrect input!\" and then raise the caught exception\n",
    "# If the number is greater than 130, raise a general Exception. \n",
    "# Add the message \"Input number too large\" to the exception and raise it\n"
   ]
  },
  {
   "cell_type": "markdown",
   "metadata": {},
   "source": [
    "## *Congratulations! You have now mastered Exceptions & Errors, as well as how to catch and handle them. You also know how to raise exceptions and customise their messages. Great job! Keep going*. "
   ]
  }
 ],
 "metadata": {
  "kernelspec": {
   "display_name": "Python 3",
   "language": "python",
   "name": "python3"
  },
  "language_info": {
   "codemirror_mode": {
    "name": "ipython",
    "version": 3
   },
   "file_extension": ".py",
   "mimetype": "text/x-python",
   "name": "python",
   "nbconvert_exporter": "python",
   "pygments_lexer": "ipython3",
   "version": "3.7.5"
  }
 },
 "nbformat": 4,
 "nbformat_minor": 2
}
