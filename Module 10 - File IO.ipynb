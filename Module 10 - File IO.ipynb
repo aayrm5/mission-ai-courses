{
 "cells": [
  {
   "cell_type": "markdown",
   "metadata": {},
   "source": [
    "# Module 10 - File I/O\n",
    "---\n",
    "This module will teach you how to deal with files in Python - Reading data into Python, processing it and writing the output back to files. We won't yet deal with csv and json files in this module, because we haven't yet explored the data structures that are ideal for processing such data (Pandas dataframes). \n",
    "\n",
    "\n",
    "## *1. Opening and closing files*:\n",
    "---\n",
    "A file is a named location on the disk where we store information. A file has a name, path and content. Whenever we deal with files the 3 step process we always follow is `Open --> Perform Operations (read/write/etc) --> Close`. Python provides built-in functions for file I/O.\n",
    "\n",
    "### A) `Opening a file`:\n",
    "\n",
    "When we open a file, remember to specify:\n",
    "- `Where it is located?` (File name + path)\n",
    "- `What do we intend on doing with it?` (read/write/update/append)\n",
    "- `How is the data represented and encoded?` (Encodings for windows/linux, text/binary)\n",
    "\n",
    "Refer to the table below to understand the different modes in which the file can be opened:\n",
    "<table style=\"float:left;width:100%;font-size:100%;\">\n",
    "<tr>\n",
    "<th style=\"text-align:center;width:20%\">Mode</th>\n",
    "<th style=\"text-align:left\">Meaning</th>\n",
    "</tr>\n",
    "\n",
    "<tr>\n",
    "<td style=\"text-align:center;\">r</td>\n",
    "<td style=\"text-align:left\">read-only (default)</td>\n",
    "</tr>\n",
    "\n",
    "<tr>\n",
    "<td style=\"text-align:center;\">w</td>\n",
    "<td style=\"text-align:left\">write (creates the file if it doesnt exist. Over-writes the contents if it does exist)</td>\n",
    "</tr>\n",
    "\n",
    "<tr>\n",
    "<td style=\"text-align:center;\">a</td>\n",
    "<td style=\"text-align:left\">append (creates the file if it doesnt exist. Adds to the end of the file if it does exist)</td>\n",
    "</tr>\n",
    "\n",
    "<tr>\n",
    "<td style=\"text-align:center;\">+</td>\n",
    "<td style=\"text-align:left\">reading and writing</td>\n",
    "</tr>\n",
    "    \n",
    "<tr>\n",
    "<td style=\"text-align:center;\">t</td>\n",
    "<td style=\"text-align:left\">text mode (default)</td>\n",
    "</tr>\n",
    "\n",
    "<tr>\n",
    "<td style=\"text-align:center;\">b</td>\n",
    "<td style=\"text-align:left\">binary mode</td>\n",
    "</tr>\n",
    "\n",
    "<tr>\n",
    "<td style=\"text-align:center;\"></td>\n",
    "<td style=\"text-align:left\"></td>\n",
    "</tr>\n",
    "</table>  \n",
    "\n",
    "In `text mode`, we get strings when we read from the file (like in .txt, .csv, .json files). These formats enable files to be read by text-readers and similar programs. In `binary mode`, we get bytes when we read from the file (like in .pdf, .jpg, .exe files). There are specific applications to open each of these types of file. Sometimes proprietary file formats are converted into binary files to make them portable. In this module, we will deal with only text mode.\n",
    "\n",
    "The `encoding` specifies how the information in the file is stored or represented. Windows and Linux both have different default encodings. So don't rely on default encodings, and always specify `utf-8` for files in text mode, unless there is some other encoding that you specifically need, like `ansi or ascii`.\n",
    "\n",
    "In the examples below, the defaults for mode are are 'r' (read mode) and 't' (text mode). \n",
    "```Python\n",
    "f = open(\"module_10_input_text_1.txt\") # file in current working directory\n",
    "f = open(\"C:\\\\Users\\\\vikram\\\\Desktop\\\\Py Programming\\\\mission-ai-courses-live\\\\Course 1 - Core Python Programming\\\\module_10_input_text_1.txt\") # full file path\n",
    "print(type(f))\n",
    "```\n",
    "Lets specify the open mode and encoding:\n",
    "```Python\n",
    "f = open(\"C:\\\\Users\\\\vikram\\\\Desktop\\\\Py Programming\\\\mission-ai-courses-live\\\\Course 1 - Core Python Programming\\\\module_10_input_text_1.txt\", mode=\"r\", encoding=\"utf-8\")\n",
    "```\n",
    "\n",
    "### B) `Closing a file`:\n",
    "\n",
    "When we are done using the file, it needs to be closed so that `system resources which are tied to the file are freed`.\n",
    "```Python\n",
    "f.close()\n",
    "```"
   ]
  },
  {
   "cell_type": "code",
   "execution_count": 32,
   "metadata": {},
   "outputs": [],
   "source": [
    "# Run the above code:\n"
   ]
  },
  {
   "cell_type": "code",
   "execution_count": 31,
   "metadata": {},
   "outputs": [],
   "source": [
    "# Exercise:\n",
    "\n",
    "# 1. Open the file 'module_10_input_text_1.txt' with and without the full file path, in 'read' mode with 'utf-8' encoding.\n",
    "# Print the statement \"File opened successfully\" after opening the file\n",
    "# Close the file\n",
    "# Print the statement \"File closed successfully\" after closing the file\n"
   ]
  },
  {
   "cell_type": "markdown",
   "metadata": {},
   "source": [
    "### C) `Using Context Manager - 'with'`:\n",
    "\n",
    "Instead of explicitly closing the file each time, Python offers a much more efficient way to open and close files - using the `with` keyword. `'with' serves as a context manager`, i.e., you can access the file and its contents within the context of the `with` block, and not outside. There is no need to explicitly close the file object.\n",
    "\n",
    "```Python\n",
    "with open(\"module_10_input_text_1.txt\", mode=\"r\", encoding=\"utf-8\") as f:\n",
    "    print(\"Processing the file contents here\")\n",
    "\n",
    "print(\"Outside the 'with' block\")\n",
    "```\n",
    "\n",
    "You can also open multiple files at the same time. The 'with' statements can also be nested, but this is a much more efficient way of opening multiple files simulaneously:\n",
    "```Python\n",
    "with open(\"module_10_input_text_1.txt\", \"r\", encoding=\"utf-8\") as f1, open(\"module_10_input_text_2.txt\", \"r\", encoding=\"utf-8\") as f2:\n",
    "    print(\"Opened 2 files in the same 'with' block\")\n",
    "\n",
    "print(\"Outside the 'with' block\")\n",
    "```"
   ]
  },
  {
   "cell_type": "code",
   "execution_count": 30,
   "metadata": {},
   "outputs": [],
   "source": [
    "# Run the above code:\n"
   ]
  },
  {
   "cell_type": "code",
   "execution_count": 35,
   "metadata": {},
   "outputs": [],
   "source": [
    "# Exercises:\n",
    "\n",
    "# 1. Using the context manager 'with', Open the file 'module_10_input_text_1.txt' in 'read' mode with 'utf-8' encoding.\n",
    "# Print the statement \"File opened successfully\" after opening the file\n",
    "# Print the statement \"File closed successfully\" after exiting the context manager\n"
   ]
  },
  {
   "cell_type": "code",
   "execution_count": null,
   "metadata": {},
   "outputs": [],
   "source": [
    "# 2. Open the files 'module_10_input_text_1.txt' and 'module_10_input_text_2.txt', using only 1 'with' statement\n",
    "# Print the statement \"File opened successfully\" after opening the files\n",
    "# Print the statement \"File closed successfully\" outside the 'with' block\n"
   ]
  },
  {
   "cell_type": "markdown",
   "metadata": {},
   "source": [
    "### D) `Catching IOError exceptions`:\n",
    "\n",
    "Whenever any file operation like opening, closing, reading or writing fails, then an `IOError exception is thrown`. It is a good practice to enclose file operations in a try/except block, while defining the actions for dealing with IOError.\n",
    "\n",
    "```Python\n",
    "try:\n",
    "    with open(\"module_10_input_text_1.txt\", mode=\"r\", encoding=\"utf-8\") as f:\n",
    "        print(\"Processing the file contents here\")\n",
    "    print(\"Outside the 'with' block\")\n",
    "except IOError:\n",
    "    print(\"An IOError exception was caught\")\n",
    "```"
   ]
  },
  {
   "cell_type": "code",
   "execution_count": 38,
   "metadata": {},
   "outputs": [],
   "source": [
    "# Run the above code:\n"
   ]
  },
  {
   "cell_type": "code",
   "execution_count": null,
   "metadata": {},
   "outputs": [],
   "source": [
    "# Exercise:\n",
    "\n",
    "# 1. Open the files 'module_10_input_text_1.txt' and 'module_10_input_text_2.txt', using only 1 'with' statement\n",
    "# Print the statement \"File opened successfully\" after opening the files\n",
    "# Print the statement \"File closed successfully\" outside the 'with' block\n",
    "# Catch and handle any IOError exceptions that might get generated in this process\n",
    "\n"
   ]
  },
  {
   "cell_type": "markdown",
   "metadata": {},
   "source": [
    "## *2. Reading from a file*:\n",
    "---\n",
    "\n",
    "Refer to the table above to see the different modes in which a file can be opened. `Use the 'r' option to open a file in read (text) mode, and 'rb' to read from a binary file`. The file object contains a pointer to the beginning of the file. You can then use the following functions to read from the file:\n",
    "- `read(n)` - reads the 1st 'n' characters from where the pointer is positioned. If 'n'  isnt specified, it reads the entire file at once\n",
    "- `readline()` - reads the 1st line from the pointer position (till a newline character is encountered, and including it). It returns an empty string when it reaches EOF (end of file)\n",
    "- `readlines()` - reads all the lines of a file into a list from the pointer position till the end of the file\n",
    "\n",
    "```Python\n",
    "with open(\"C:\\\\Users\\\\vikram\\\\Desktop\\\\Py Programming\\\\mission-ai-courses-live\\\\Course 1 - Core Python Programming\\\\module_10_input_text_1.txt\", mode=\"r\", encoding=\"utf-8\") as f: # text mode\n",
    "    print(f.read(4)) # reads the 1st 4 characters\n",
    "    print(f.readline()) # reads the 1st line with newline at the end, minus the 1st 4 characters\n",
    "    print(f.readline(),end=\"\") # reads the 2nd line\n",
    "    print(f.readlines()) # reads the remaining lines into a list, from the 3rd line onwards\n",
    "\n",
    "with open(\"module_10_input_text_1.txt\", mode=\"rb\") as f: # binary mode\n",
    "    print(f.read(4)) # reads the 1st 4 characters\n",
    "    print(f.readline()) # reads the 1st line with newline at the end, minus the 1st 4 characters\n",
    "    print(f.readline()) # reads the 2nd line\n",
    "    print(f.readlines()) # reads the remaining lines into a list, from the 3rd line onwards\n",
    "```\n",
    "Contrast the outputs that you get above. `In binary mode, you get the raw text, with the line feed and carriage return characters at the end of each line`."
   ]
  },
  {
   "cell_type": "code",
   "execution_count": 44,
   "metadata": {},
   "outputs": [],
   "source": [
    "# Run the above code:\n"
   ]
  },
  {
   "cell_type": "markdown",
   "metadata": {},
   "source": [
    "You can `process the contents of the file as it is being read, or once the contents have been read entirely`.\n",
    "```Python\n",
    "# processing as it is being read line by line\n",
    "with open(\"module_10_input_text_1.txt\", mode=\"r\", encoding=\"utf-8\") as f:\n",
    "    for line in f: # equivalent of calling readline() successively for each line\n",
    "        print(line, end='')\n",
    "\n",
    "# processing once all lines have been read\n",
    "with open(\"module_10_input_text_1.txt\", mode=\"r\", encoding=\"utf-8\") as f:\n",
    "    for line in f.readlines(): # readlines() processes the entire input into a list of lines\n",
    "        print(line, end='')\n",
    "```"
   ]
  },
  {
   "cell_type": "code",
   "execution_count": 5,
   "metadata": {},
   "outputs": [],
   "source": [
    "# Run the above code:\n"
   ]
  },
  {
   "cell_type": "code",
   "execution_count": 47,
   "metadata": {},
   "outputs": [],
   "source": [
    "# Exercises:\n",
    "\n",
    "# 1. Using the context manager, open the file 'module_10_input_text_2.txt' in 'read' 'text' mode, with 'utf-8' encoding. \n",
    "# Print the 1st 6 characters of the first line\n",
    "# Print the remainder of the 1st line\n",
    "# Print the 2nd line\n",
    "# Print a list containing the remaining lines from the 3rd line onwards\n",
    "# For each of the print statements above, change the default line ending character of the print function to  space ' '\n"
   ]
  },
  {
   "cell_type": "code",
   "execution_count": null,
   "metadata": {},
   "outputs": [],
   "source": [
    "# 2. Print out each line of the file 'module_10_input_text_2.txt' using a for loop, both with and without readlines()\n"
   ]
  },
  {
   "cell_type": "markdown",
   "metadata": {},
   "source": [
    "## *3. Writing to a file*:\n",
    "---\n",
    "\n",
    "To open a file with the intention of writing some information in it: \n",
    "- `Use the 'w' option to open a text file in write mode`. This overwrites the existing file contents if the file exists, and creates the file if it doesn't exist. The file object points to the beginning of the file. \n",
    "- `Use the 'a' option to append to a file`. It creates the file if it doesn't exist. It only adds to the end of the file, and doesnt overwrite the existing contents. The file object contains a pointer to the end of the file. \n",
    "- `Append the 'b' option to write and append to binary files` - 'wb' and 'ab'\n",
    "\n",
    "You can then use the following functions to read from the file:\n",
    "- `write(string)` - Writes the data in the string to the file\n",
    "- `writelines(list_of_lines)` - writes the entire list of lines into a file\n",
    "\n",
    "```Python\n",
    "# Lets create a file and write/append some information to it\n",
    "\n",
    "# creating new file & writing to it\n",
    "with open(\"first_written_file.txt\",\"w\") as f:\n",
    "    for i in range(1,11):\n",
    "        f.write(str(i)+\"\\n\")\n",
    "\n",
    "# printing out the new file\n",
    "with open(\"first_written_file.txt\",\"r\") as f:\n",
    "    for line in f:\n",
    "        print(line, end = '')\n",
    "\n",
    "# appending to existing file\n",
    "with open(\"first_written_file.txt\",\"a\") as f:\n",
    "    for i in range(11,21):\n",
    "        f.write(str(i)+\"\\n\")\n",
    "\n",
    "# printing out the file with appended data\n",
    "with open(\"first_written_file.txt\",\"r\") as f:\n",
    "    for line in f:\n",
    "        print(line, end = '')\n",
    "\n",
    "# over-writing the contents of the file\n",
    "with open(\"first_written_file.txt\",\"w\") as f:\n",
    "    for i in range(21,31):\n",
    "        f.write(str(i)+\"\\n\")\n",
    "\n",
    "# printing out the overwritten file\n",
    "with open(\"first_written_file.txt\",\"r\") as f:\n",
    "    for line in f:\n",
    "        print(line, end = '')\n",
    "```"
   ]
  },
  {
   "cell_type": "code",
   "execution_count": 13,
   "metadata": {},
   "outputs": [],
   "source": [
    "# Run the above code:\n"
   ]
  },
  {
   "cell_type": "markdown",
   "metadata": {},
   "source": [
    "```Python\n",
    "# We can also read the contents of 1 file and write it into another file\n",
    "\n",
    "# method 1:\n",
    "with open(\"module_10_input_text_1.txt\", \"r\") as f_in, open(\"second_written_file.txt\", \"w\") as f_out:\n",
    "    for line in f_in:\n",
    "        f_out.write(line+\"\\n\")\n",
    "\n",
    "# method 2:\n",
    "with open(\"module_10_input_text_2.txt\", \"r\") as f_in, open(\"second_written_file.txt\", \"a\") as f_out:\n",
    "    f_out.writelines(f_in.readlines())\n",
    "\n",
    "# printing out the new file\n",
    "with open(\"second_written_file.txt\",\"r\") as f:\n",
    "    for line in f:\n",
    "        print(line, end = '')\n",
    "\n",
    "```"
   ]
  },
  {
   "cell_type": "code",
   "execution_count": null,
   "metadata": {},
   "outputs": [],
   "source": [
    "# Run the above code:\n"
   ]
  },
  {
   "cell_type": "code",
   "execution_count": 4,
   "metadata": {},
   "outputs": [],
   "source": [
    "# Exercise\n",
    "\n",
    "# 1. Write the first 10 negative integers into a new text file 'file_writing_exercise_1.txt' (1 integer per line)\n",
    "# To this file, append the individual squares of the first 10 negative integers (1 square per line)\n",
    "# print out the contents of the file 'file_writing_exercise_1.txt'\n"
   ]
  },
  {
   "cell_type": "code",
   "execution_count": 3,
   "metadata": {},
   "outputs": [],
   "source": [
    "# 2. Create a new file 'file_writing_exercise_2.txt' containing every line from 'file_writing_exercise_1.txt' - use 'writelines()'\n",
    "# Print out the contents of the file 'file_writing_exercise_2.txt'\n"
   ]
  },
  {
   "cell_type": "code",
   "execution_count": 2,
   "metadata": {},
   "outputs": [],
   "source": [
    "# 3. Create a new file 'file_writing_exercise_3.txt' containing every 2nd line from 'file_writing_exercise_2.txt'\n",
    "# Print out the contents of the file 'file_writing_exercise_3.txt'\n"
   ]
  },
  {
   "cell_type": "markdown",
   "metadata": {},
   "source": [
    "## *4. Using generator functions to read large files efficiently*:\n",
    "\n",
    "Lets recap some key concepts about generators from Module 6:\n",
    "- Generators are a special kind of object that employ `lazy evaluation`, i.e., they don't store the values in memory, but compute them as required. This approach is especially useful for big data. `You can treat generators like you would treat any other iterable`. \n",
    "- One way to create a generator is by using a generator function. To add values to the generator through a generator function, use `yield`. Generator functions do not use the `return` keyword. `Think of 'yield' as the equivalent of list.append()`. \n",
    "\n",
    "```Python\n",
    "# this is our generator function\n",
    "def read_large_file(file_object):    \n",
    "    \"\"\"A generator function to read a large file lazily.\"\"\"\n",
    "\n",
    "    # Loop indefinitely until the end of the file\n",
    "    while True:\n",
    "        # Read a line from the file: data        \n",
    "        data = file_object.readline()\n",
    "\n",
    "        # Break if this is the end of the file (readline() returns an empty string when it reaches EOF)\n",
    "        if data == \"\":          \n",
    "            break\n",
    "        # Yield the line of data        \n",
    "        yield data\n",
    "        \n",
    "# Open a connection to the file\n",
    "with open(\"module_10_input_text_2.txt\",\"r\") as f:\n",
    "\n",
    "    # Create a generator object for the file: gen_file\n",
    "    gen_file = read_large_file(f)\n",
    "\n",
    "    # Print the first three lines of the file\n",
    "    # the generator object is an iterator - use next() \n",
    "    print(next(gen_file))\n",
    "    print(next(gen_file))\n",
    "    print(next(gen_file))\n",
    "    \n",
    "    # print all other lines\n",
    "    for l in gen_file:\n",
    "        print(l)\n",
    " ```"
   ]
  },
  {
   "cell_type": "code",
   "execution_count": 19,
   "metadata": {},
   "outputs": [],
   "source": [
    "# Run the above code:\n"
   ]
  },
  {
   "cell_type": "code",
   "execution_count": 47,
   "metadata": {},
   "outputs": [],
   "source": [
    "# Exercise\n",
    "\n",
    "# 1. Write the contents of 'module_10_input_text_1.txt' to a file called 'generator_input.txt'.\n",
    "# Append the contents of 'module_10_input_text_2.txt' to 'generator_input.txt'.\n",
    "# Define a generator function to read an input file lazily, and return a generator object of the file\n",
    "# Call this generator function with 'generator_input.txt' as the input. \n",
    "# Print the 1st 2 lines of the generator\n",
    "# Print the remaining contents of the file by wrapping the generator object in an appropriate function\n",
    "\n"
   ]
  },
  {
   "cell_type": "markdown",
   "metadata": {},
   "source": [
    "## *Congratulations! You now know how to handle files in Python - open, close, read and write. You also know how to define generator functions to enable work on large files. Keep going!*"
   ]
  }
 ],
 "metadata": {
  "kernelspec": {
   "display_name": "Python 3",
   "language": "python",
   "name": "python3"
  },
  "language_info": {
   "codemirror_mode": {
    "name": "ipython",
    "version": 3
   },
   "file_extension": ".py",
   "mimetype": "text/x-python",
   "name": "python",
   "nbconvert_exporter": "python",
   "pygments_lexer": "ipython3",
   "version": "3.7.5"
  }
 },
 "nbformat": 4,
 "nbformat_minor": 2
}
