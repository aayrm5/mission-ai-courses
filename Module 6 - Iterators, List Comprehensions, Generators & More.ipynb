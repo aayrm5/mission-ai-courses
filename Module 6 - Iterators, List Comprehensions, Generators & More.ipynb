{
 "cells": [
  {
   "cell_type": "markdown",
   "metadata": {},
   "source": [
    "# Module 6 - Iterators, List Comprehensions, Generators & More\n",
    "---\n",
    "In this module, you will learn about Python features that let you explore collections that you can iterate through, generate lists efficiently, generate sequences that don't eat up much system memory and much more. Lets explore these features one by one. \n",
    "\n",
    "\n",
    "## *1. Iterables & Iterators*\n",
    "---\n",
    "\n",
    "`Iterables are objects that you can iterate over`. They are typically containers like list, tuple, dictionary, set, string, etc. In Python, an `iterable is technically an object that has an __iter__() method that returns an iterator`. \n",
    "\n",
    "Now the iterator is an object that can return values from the iterable one-by-one. In Python, an `iterator is technically an object that has an __next__() method that returns a the next value from the iterable`. It is `stateful`, in that it remembers the value and position of the last object that it returned. It is `lazy` in that it doesn't store all the values of the iterable in memory - it retrieves the valules only when asked to do so.\n",
    "\n",
    "We can use the iter() method on any iterable to get its iterator. We can these use the next() method on the iterator to retrieve values from the iterable one by one.\n",
    "\n",
    "\n",
    "```Python\n",
    "# regular iteration using a 'for' loop\n",
    "iterable_obj = [1,2,3]\n",
    "for item in iterable_obj:\n",
    "    print(item)\n",
    "\n",
    "# iteration using an iterator\n",
    "iterable_obj = [1,2,3]\n",
    "iterator_obj = iter(iterable_obj)\n",
    "print(next(iterator_obj)) # returns the 1st item in the iterable\n",
    "print(next(iterator_obj)) # returns the 2nd item in the iterable\n",
    "print(next(iterator_obj)) # returns the 3rd item in the iterable\n",
    "print(next(iterator_obj)) # throws an error, as all the items have already been returned\n",
    "```\n",
    "\n",
    "The `for` loop does the exact same thing behind the scenes - it uses the iter() method to get an iterator, and then uses the next() method successively till it catches an error when all items have been returned."
   ]
  },
  {
   "cell_type": "code",
   "execution_count": 80,
   "metadata": {},
   "outputs": [],
   "source": [
    "# Run the above code:\n"
   ]
  },
  {
   "cell_type": "code",
   "execution_count": 81,
   "metadata": {},
   "outputs": [],
   "source": [
    "# Exercise:\n",
    "\n",
    "# 1. You have 3 variables: [2,4,6], 750, {\"key1\":100,\"key2\":200}. Attempt to create iterators for all 3 objects. \n",
    "# Does any one of them throw an error ? Now iterate over the objects that are iterables and print out their contents. \n",
    "# (Use next() to access the first item in the iterable and use a 'for' loop for the other items)\n"
   ]
  },
  {
   "cell_type": "markdown",
   "metadata": {},
   "source": [
    "## *2. List comprehensions*\n",
    "---\n",
    "\n",
    "List comprehensions are a powerful way to generate lists using a single line of code. They take the form `[output_expression   iteration   filter]`. The best way to understand this concept is by looking at examples, as well as what the alternative is using regular loops: \n",
    "\n",
    "### A) `Plain-vanilla` \n",
    "\n",
    "- Simple example of a list comprehension, to get started:\n",
    "\n",
    "```Python\n",
    "# Generate a list of numbers from 1 to 10. \n",
    "\n",
    "# the usual way\n",
    "lst=[]\n",
    "for num in range(1,11):\n",
    "    lst.append(num)\n",
    "print(lst)\n",
    "\n",
    "# using list comprehensions\n",
    "lst=[num for num in range(1,11)]\n",
    "print(lst)\n",
    "```\n",
    "> You can see how convenient it is to use list comprehensions. In the code above, the output expression is `num`, the iteration happens with the code `for num in range(1,11)`, and there is no filter to decide inclusion in the list."
   ]
  },
  {
   "cell_type": "code",
   "execution_count": null,
   "metadata": {},
   "outputs": [],
   "source": [
    "# Run the code above:\n"
   ]
  },
  {
   "cell_type": "markdown",
   "metadata": {},
   "source": [
    "- Lets look at another example:\n",
    "\n",
    "```Python\n",
    "# You have a list of numbers [1,22,73]. Generate a new list which contains each list item tripled (3x). \n",
    "\n",
    "# the usual way\n",
    "lst=[1,22,73]\n",
    "new_lst=[]\n",
    "for num in lst:\n",
    "    new_lst.append(num*3)\n",
    "print(new_lst)\n",
    "\n",
    "# using list comprehensions\n",
    "lst=[1,22,73]\n",
    "new_lst = [num*3 for num in lst]\n",
    "print(new_lst)\n",
    "```\n",
    "\n",
    "> In the code above, the output expression is `num*3`, the iteration happens with the code `for num in lst`, and there is no filter to decide inclusion in the list."
   ]
  },
  {
   "cell_type": "code",
   "execution_count": null,
   "metadata": {},
   "outputs": [],
   "source": [
    "# Run the code above:\n"
   ]
  },
  {
   "cell_type": "code",
   "execution_count": 82,
   "metadata": {},
   "outputs": [],
   "source": [
    "# Exercises:\n",
    "\n",
    "# 1. Use list comprehension to generate a list of squares of the 1st 10 positive integers\n"
   ]
  },
  {
   "cell_type": "code",
   "execution_count": 83,
   "metadata": {},
   "outputs": [],
   "source": [
    "# 2. Use list comprehension to generate a list of tuples containing the country and population from the lists:\n",
    "# [\"India\", \"China\", \"USA\"] and [1.25, 1.7, 0.35]\n"
   ]
  },
  {
   "cell_type": "markdown",
   "metadata": {},
   "source": [
    "### B) `Filter to include specific items`\n",
    "\n",
    "Lets take another example that involves specifying which list items are included:\n",
    "\n",
    "```Python\n",
    "# Create a list containing the squares of all positive integers less than 20 excluding multiples of 3\n",
    "\n",
    "# the usual way\n",
    "lst=[]\n",
    "for i in range(1,20):\n",
    "    if(i%3 != 0):\n",
    "        lst.append(i**2)\n",
    "\n",
    "# using list comprehensions\n",
    "lst=[i**2 for i in range(1,20) if i%3 != 0]\n",
    "print(lst)\n",
    "```\n",
    "> In the code above, the output expression is `i**2`, the iteration happens with the code `for i in range(1,20)`, and the filter to decide inclusion in the list is `if i%3 != 0`."
   ]
  },
  {
   "cell_type": "code",
   "execution_count": null,
   "metadata": {},
   "outputs": [],
   "source": [
    "# Run the code above:\n"
   ]
  },
  {
   "cell_type": "code",
   "execution_count": 84,
   "metadata": {},
   "outputs": [],
   "source": [
    "# Exercises:\n",
    "\n",
    "# 1. Use list comprehension to generate a list of all individual letters (repetition allowed) other than 'e', 't' and <space> \n",
    "# in the text: \"This is an example of list comprehensions\"\n"
   ]
  },
  {
   "cell_type": "code",
   "execution_count": 85,
   "metadata": {},
   "outputs": [],
   "source": [
    "# 2. Use list comprehension to generate a list of all keys from the dictionary where the length of the value is greater than 4: \n",
    "# {1:\"India\",2:\"Oman\",3:\"USA\",4:\"China\",5:\"Russia\"}  \n"
   ]
  },
  {
   "cell_type": "markdown",
   "metadata": {},
   "source": [
    "### C) `Output expression with conditional logic`\n",
    "\n",
    "Lets see how we can add more flexibility to the output expression. \n",
    "\n",
    "```Python\n",
    "# You have an input list [25,60,75,80,900,450,65]. Create a new list based on the input list such that for \n",
    "# odd-placed items, it contains double the number and for even-placed items, it contains triple the number.\n",
    "\n",
    "# the usual way\n",
    "lst=[25,60,75,80,900,450,65]\n",
    "new_lst=[]\n",
    "for i in range(len(lst)):\n",
    "    # odd-placed items have even index. eg. 1st item has index 0, 3rd item has index 2, etc\n",
    "    if(i%2 == 0):\n",
    "        new_lst.append(lst[i] * 2)\n",
    "    else:\n",
    "        new_lst.append(lst[i] * 3)\n",
    "print(new_lst)\n",
    "    \n",
    "# using list comprehensions\n",
    "lst=[25,60,75,80,900,450,65]\n",
    "new_lst=[lst[i]*2 if i%2 == 0 else lst[i]*3 for i in range(len(lst))] \n",
    "print(new_lst)\n",
    "```\n",
    "\n",
    "> In the code above, the output expression is `lst[i]*2 if i%2 == 0 else lst[i]*3` (it uses Python's ternary operator), the iteration happens with the code `for i in range(len(lst))`, and there is no filter to decide inclusion in the list."
   ]
  },
  {
   "cell_type": "code",
   "execution_count": null,
   "metadata": {},
   "outputs": [],
   "source": [
    "# Run the code above:\n"
   ]
  },
  {
   "cell_type": "code",
   "execution_count": 86,
   "metadata": {},
   "outputs": [],
   "source": [
    "# Exercise:\n",
    "\n",
    "# 1. Use list comprehension to generate a list from the [-10, 10, -20, 20, -30, 30] such that \n",
    "# if the number is negative, return its cube, else return its square\n"
   ]
  },
  {
   "cell_type": "markdown",
   "metadata": {},
   "source": [
    "### D) `Nested list comprehensions`\n",
    "\n",
    "Now, lets see how we can include nested loops in the list comprehension:\n",
    "\n",
    "```Python\n",
    "# For each item in the tuple (4,6,8,10), generate a list of all positive integers less than the number. \n",
    "# The output should be a list of lists\n",
    "\n",
    "# the usual way\n",
    "tup=(4,6,8,10)\n",
    "output_list=[]\n",
    "for i in tup:\n",
    "    intermediate_list=[]\n",
    "    for j in range(1,i):\n",
    "        intermediate_list.append(j)\n",
    "    output_list.append(intermediate_list)\n",
    "print(output_list)\n",
    "\n",
    "# using list comprehensions\n",
    "tup=(4,6,8,10)\n",
    "output_list=[[j for j in range(1,i)] for i in tup]\n",
    "print(output_list)\n",
    "```\n",
    "\n",
    "> In the code above, the output expression for the outer list comprehension is `another list comprehension`, which is `[j for j in range(1,i)]`. The iteration code for the outer list comprehension is `for i in tup`."
   ]
  },
  {
   "cell_type": "code",
   "execution_count": null,
   "metadata": {},
   "outputs": [],
   "source": [
    "# Run the code above:\n"
   ]
  },
  {
   "cell_type": "code",
   "execution_count": 87,
   "metadata": {},
   "outputs": [],
   "source": [
    "# Exercise:\n",
    "\n",
    "# 1. Use list comprehension to generate a list of lists containing the divisors (excluding 1 and the number) \n",
    "# of each number between 10 and 20 (included)\n"
   ]
  },
  {
   "cell_type": "markdown",
   "metadata": {},
   "source": [
    "## *3. Dictionary & set comprehensions*\n",
    "---\n",
    "\n",
    "Comprehensions can also be used to create dictionaries and sets, just like lists. They both use curly braces, but in the case of dictionaries, the key and value both have to be specified in the output expression. *(To understand the basics of comprehensions, go through the \"List Comprehensions\" section above)*\n",
    "\n",
    "### A) `Dictionary comprehensions`: \n",
    "Dictionary comprehensions take the form `{key_expression:value_expression   iteration   filter}`. Lets look at some examples:\n",
    "\n",
    "```Python\n",
    "# generate a dictionary containing the words from the list [\"apple\", \"orange\", \"watermelon\"] along with their lengths\n",
    "lst = [\"apple\", \"orange\", \"watermelon\"]\n",
    "dct = {word:len(word) for word in lst}\n",
    "print(dct)\n",
    "\n",
    "# generate a dictionary mapping the positive integers less than 20 to their squares, excluding numbers that are multiples of 5\n",
    "dct = {num:num**2 for num in range(1,20) if num%5 !=0}\n",
    "print(dct)\n",
    "\n",
    "# example to show how you can include conditionals in the key expression as well as value expression\n",
    "lst = [\"apple\", \"orange\", \"watermelon\"]\n",
    "dct = {(word if len(word)>5 else word.upper()):(len(word) if len(word)>5 else \"<=5\") for word in lst}\n",
    "print(dct)\n",
    "```"
   ]
  },
  {
   "cell_type": "code",
   "execution_count": 34,
   "metadata": {},
   "outputs": [],
   "source": [
    "# Run the code above:\n"
   ]
  },
  {
   "cell_type": "code",
   "execution_count": 88,
   "metadata": {},
   "outputs": [],
   "source": [
    "# Exercises:\n",
    "\n",
    "# 1. Generate the dictionary to map each positive integer < 7 to the sum of its cube and square. \n",
    "# Exclude multiples of 3 from being included as keys\n"
   ]
  },
  {
   "cell_type": "code",
   "execution_count": 89,
   "metadata": {},
   "outputs": [],
   "source": [
    "# 2. Generate a dictionary containing the words from the list [\"north\", \"south\", \"east\",\"west\"] along with their lengths. \n",
    "# If the word length is less than 5, the key should be the word in upper-case. \n",
    "# If the word begins with 'e', the value should be the squared length of the word   \n"
   ]
  },
  {
   "cell_type": "markdown",
   "metadata": {},
   "source": [
    "### B) `Set comprehensions`: \n",
    "Set comprehensions take the form `{output_expression   iteration   filter}`. Remember thay all the items in a set are unique, so there will be no duplicate items generated by the set comprehension. Lets look at some examples:\n",
    "\n",
    "```Python\n",
    "# generate the set of vowels in the string \"This is an exercise in patience\"\n",
    "vowel_set = {c for c in \"This is an exercise in patience\".lower() if c in 'aeiou'}\n",
    "print(vowel_set)\n",
    "```"
   ]
  },
  {
   "cell_type": "code",
   "execution_count": null,
   "metadata": {},
   "outputs": [],
   "source": [
    "# Run the code above:\n"
   ]
  },
  {
   "cell_type": "code",
   "execution_count": 90,
   "metadata": {},
   "outputs": [],
   "source": [
    "# 1. Generate a set containing the unique consonants in the string \"The quick brown fox jumps over the lazy dog\"\n"
   ]
  },
  {
   "cell_type": "markdown",
   "metadata": {},
   "source": [
    "## *4. Generators, generator expressions & generator functions*\n",
    "---\n",
    "\n",
    "Generators are a special kind of object that employ `lazy evaluation`, i.e., they don't store the values in memory, but compute them as required. This approach is especially useful for big data. `You can treat generators like you would treat any other iterable`. \n",
    "\n",
    "There are 2 ways to create generators:\n",
    "\n",
    "### A) Generator expressions: \n",
    "\n",
    "The 1st method uses `generator expressions` which are just like list comprehensions, but they are created using parentheses () instead of box brackets []. \n",
    "\n",
    "They take the form `(output_expression   iteration   filter)`. *To understand the basics as well as how to specify the filters and include conditionals in the output_expression, check out the \"List Comprehensions\" section above*. Here is an example to show you how generators work: \n",
    "\n",
    "Lets say that you want to generate a list of numbers from 1 to 10, but you don't want to store the numbers in memory. Instead, they will be generated as and when required. \n",
    "\n",
    "```Python\n",
    "# defining a generator using an expression\n",
    "numbers = (num for num in range(1,11))\n",
    "print(type(numbers))\n",
    "print(numbers) # this does not print out the contents of the generator\n",
    "\n",
    "print(next(numbers)) # prints out the 1st number\n",
    "print(next(numbers)) # prints out the 2nd number\n",
    "\n",
    "# print out the remaining numbers\n",
    "for i in numbers:\n",
    "    print(i)\n",
    "```"
   ]
  },
  {
   "cell_type": "code",
   "execution_count": 91,
   "metadata": {},
   "outputs": [],
   "source": [
    "# Run the code above:\n"
   ]
  },
  {
   "cell_type": "markdown",
   "metadata": {},
   "source": [
    "### B) Generator functions: \n",
    "\n",
    "The 2nd way to create a generator is by using a generator function. To add values to the generator through a generator function, use `yield`. Generator functions do not use the `return` keyword. `Think of 'yield' as the equivalent of list.append()`. Lets see an example:\n",
    "\n",
    "```Python\n",
    "# same as example above, but this time using a generator function\n",
    "def gen_func(lst):\n",
    "    for val in lst:\n",
    "        yield val\n",
    "\n",
    "numbers=gen_func(range(1,11))\n",
    "print(next(numbers))\n",
    "for i in numbers:\n",
    "    print(i)\n",
    "```\n",
    "\n",
    "Generators are extremely useful while dealing with large datasets and `big data`, as they don't store the entire contents in memory. For example, think of calculating and storing/accessing the first million fibbonacci numbers. This would consume a lot of memory unnecessarily. But using a generator, we can get the result using a much smaller memory footprint. It uses older values to calculate the newer values, and then discards the older values."
   ]
  },
  {
   "cell_type": "code",
   "execution_count": 92,
   "metadata": {},
   "outputs": [],
   "source": [
    "# Run the code above:\n"
   ]
  },
  {
   "cell_type": "code",
   "execution_count": 93,
   "metadata": {},
   "outputs": [],
   "source": [
    "# Exercises: \n",
    "# (For the exercises below, create generators using expressions as well as the equivalent generator functions wherever possible)\n",
    "\n",
    "# 1. Define a generator to generate all individual letters (repetition allowed) other than 'e', 't' and <space> \n",
    "# in the text: \"This is an example of generator expressions\". Print out the 1st value using next() and other values using 'for'\n"
   ]
  },
  {
   "cell_type": "code",
   "execution_count": 94,
   "metadata": {},
   "outputs": [],
   "source": [
    "# 2. Define a generator to hold all keys from the dictionary where the length of the value is greater than 4: \n",
    "# {1:\"India\",2:\"Oman\",3:\"USA\",4:\"China\",5:\"Russia\"}. Print out the values of the generator using 'for'\n"
   ]
  },
  {
   "cell_type": "code",
   "execution_count": 11,
   "metadata": {},
   "outputs": [],
   "source": [
    "# 3. Define a generator to generate tuples containing the country and population from the lists:\n",
    "# [\"India\", \"China\", \"USA\"] and [1.25, 1.7, 0.35]. Print out the  values of the generator using 'for'\n"
   ]
  },
  {
   "cell_type": "code",
   "execution_count": 95,
   "metadata": {},
   "outputs": [],
   "source": [
    "# 4. Define a generator to generate the first 100 Fibbonacci numbers. Iterate through and print these numbers.\n"
   ]
  },
  {
   "cell_type": "markdown",
   "metadata": {},
   "source": [
    "## *5. Useful list-processing functions*\n",
    "---\n",
    "\n",
    "Processing and manipulating lists are important operations in Python programming, especially in data science. You will regularly encounter the need to work with lists. Here are some powerful functions provided by Python to work with lists:\n",
    "\n",
    "### A) Enumerate\n",
    "\n",
    "`The enumerate() function returns an iterator of tuples containing all the list items and their corresponding indexes`. That is, it returns (index,value) pairs for each item in the list. The syntax is in the format `enumerate(list_object)`. Lets look at an example:\n",
    "\n",
    "```Python\n",
    "c = [15,25,35]\n",
    "enum = enumerate(c) # this gives an enumerate object, which is an iterator\n",
    "print(enum) # describes the enumerate object, but does not give its values\n",
    "print(*enum) # *enum unpacks the individual tuples in the enumerate object\n",
    "\n",
    "# now we have to re-create the enumerate object, since it has already been used/exhausted\n",
    "enum = enumerate(c)\n",
    "for i,v in enum: # since each value of the iterator is a tuple containing the index and value of each list item\n",
    "    print(i,v)\n",
    "```"
   ]
  },
  {
   "cell_type": "code",
   "execution_count": null,
   "metadata": {},
   "outputs": [],
   "source": [
    "# Run the above code:\n"
   ]
  },
  {
   "cell_type": "code",
   "execution_count": 96,
   "metadata": {},
   "outputs": [],
   "source": [
    "# Exercise:\n",
    "\n",
    "# 1. Use the enumerate function on the list [100, 200, 300, 400] to create a dictionary whose keys are the list indexes and\n",
    "# values are the list items. Iterate through the enumerate object using a 'for' loop\n"
   ]
  },
  {
   "cell_type": "markdown",
   "metadata": {},
   "source": [
    "### B) Zip\n",
    "\n",
    "`The zip() function combines 2 or more lists by matching up corresponding elements from each list and combines them into tuples`. If there are unequal numbers of elements, then it considers only the elements for which there is a match.\n",
    "\n",
    "For example, if the 1st list contains the ID of a student and the 2nd list contains the marks scored in the exam, then we can use the zip() function to create tuples of each student's ID and marks. \n",
    "\n",
    "The syntax is in the format `zip(list_1, list_2, .... , list_N)`\n",
    "\n",
    "```Python\n",
    "a = [\"Student #1\", \"Student #2\", \"Student #3\"]\n",
    "b = [\"87.3%\",\"90.5%\",\"74%\"]\n",
    "z = zip(a,b) # this gives a zip object, which is an iterable\n",
    "print(z) # describes the zip object, but does not give its values\n",
    "print(*z) # *z unpacks the individual tuples in the zip object \n",
    "\n",
    "# now we have to re-create the zip object, since it has already been used/exhausted\n",
    "z=zip(a,b)\n",
    "for l1,l2 in z: # since each value of the iterator is a tuple containing the corresponding items from each list\n",
    "    print(l1,l2)\n",
    "\n",
    "z=zip(a,b)\n",
    "z1,z2 = zip(*z) # this gives us back our original sequences in tuples\n",
    "print(z1,z2)\n",
    "```"
   ]
  },
  {
   "cell_type": "code",
   "execution_count": 97,
   "metadata": {},
   "outputs": [],
   "source": [
    "# Run the above code:\n"
   ]
  },
  {
   "cell_type": "code",
   "execution_count": 98,
   "metadata": {},
   "outputs": [],
   "source": [
    "# Exercise:\n",
    "\n",
    "# 1. There are 3 lists containing student names, id number and exam scores: \n",
    "# [\"Vikram\", \"Vijit\", \"Neha\"], [\"2020ID122\", \"2020ID125\", \"2020ID129\"], [89.4, 92.8, 97.5]\n",
    "# Create tuples of each students name, id and exam score, and print these out without using a 'for' loop\n",
    "# Now create the original list/tuples back from the zipped object\n"
   ]
  },
  {
   "cell_type": "markdown",
   "metadata": {},
   "source": [
    "### C) Map\n",
    "\n",
    "`The map() function basically maps each item in the list to the function, i.e., it executes the function that is defined to each list item individually`. The syntax is in the format `map(function , list_object)`. The function can ether be defined separately or be a lambda function or even a built-in function. The function should take in a single object and process it, not the entire list.\n",
    "\n",
    "Lets take the example of a incrementing each element of a list by 2. We need to define a function that takes a number as input and returns the number incremented by 2. \n",
    "\n",
    "```Python\n",
    "def list_add_2(n):\n",
    "    return n+2\n",
    "\n",
    "input_lst = [8, 18, 28]\n",
    "mapped_obj = map(list_add_2, input_lst)\n",
    "print(list(mapped_obj))\n",
    "\n",
    "# lets achieve the same result with a lambda function\n",
    "input_lst = [8, 18, 28]\n",
    "print(list(map(lambda x: x+2, input_lst)))\n",
    "```"
   ]
  },
  {
   "cell_type": "code",
   "execution_count": null,
   "metadata": {},
   "outputs": [],
   "source": [
    "# Run the above code:\n"
   ]
  },
  {
   "cell_type": "code",
   "execution_count": 99,
   "metadata": {},
   "outputs": [],
   "source": [
    "# Exercises:\n",
    "\n",
    "# 1. We want to take 2 lists [75, 225, 463] and [3, 5, 7], and create one list containing the sum of corresponding list items. \n",
    "# Do this with and without using lambda functions\n"
   ]
  },
  {
   "cell_type": "code",
   "execution_count": 100,
   "metadata": {},
   "outputs": [],
   "source": [
    "# 2. We want to create a new list containing the lengths of each item in the list [\"Molly\",\"Mike\",\"Charlie\"].\n",
    "# Do this without using List Comprehensions\n"
   ]
  },
  {
   "cell_type": "markdown",
   "metadata": {},
   "source": [
    "### D) Filter\n",
    "\n",
    "The filter() function applies a filter to each element of a list, i.e., it only selects list elements that satisfy some given conditions. The syntax is in the format `filter(function , list_object)`. The function can ether be defined separately or be a lambda function or even a built-in function. The function should take in a single object and process it, not the entire list.\n",
    "\n",
    "Lets take an example. We want to find all elements in the list that are odd numbers.\n",
    "\n",
    "```Python\n",
    "def is_odd(n):\n",
    "    if(n%2 == 0):\n",
    "        return False\n",
    "    else: \n",
    "        return True\n",
    "\n",
    "input_lst = [3, 6, 9, 12]\n",
    "filtered_obj = filter(is_odd, input_lst)\n",
    "print(list(filtered_obj))\n",
    "\n",
    "# using a lambda function\n",
    "input_lst = [3, 6, 9, 12]\n",
    "print(list(filter(lambda x: bool(x%2) , input_lst)))\n",
    "```"
   ]
  },
  {
   "cell_type": "code",
   "execution_count": null,
   "metadata": {},
   "outputs": [],
   "source": [
    "# Run the above code:\n"
   ]
  },
  {
   "cell_type": "code",
   "execution_count": 101,
   "metadata": {},
   "outputs": [],
   "source": [
    "# Exercise:\n",
    "\n",
    "# 1. Create a list of all items in [6,8,10,12,14] whose squares are not more than 100\n"
   ]
  },
  {
   "cell_type": "markdown",
   "metadata": {},
   "source": [
    "### E) Reduce\n",
    "\n",
    "The reduce() function is useful for performing calculations on a list and returning a result. It takes each pair of values in the list sequentially and applies the calculation to it, till all sequential pairs are exhausted. The reduce() function is contained in the `functools` module. It isn't a built-in function like map() or filter(). So we need to `import` it (don't worry we'll look at this in more detail later). For now, just know that we will import it using the statement `from functools import reduce`. We can then use it normally as we would any built-in function.\n",
    "\n",
    "Lets take the eample of finding the sum of all list items for the list [1,2,3,4].\n",
    "\n",
    "```Python\n",
    "# lets see how to do this without reduce()\n",
    "lst = [1,2,3,4]\n",
    "sum = 0\n",
    "for num in lst:\n",
    "    sum += num\n",
    "print(sum)\n",
    "\n",
    "# now lets define a function and use it in reduce()\n",
    "from functools import reduce \n",
    "\n",
    "def add_2_nums(x,y):\n",
    "    return x+y\n",
    "\n",
    "lst = [1,2,3,4]\n",
    "reduced_result = reduce(add_2_nums , lst)\n",
    "print(reduced_result)\n",
    "\n",
    "# lets use a lambda function in reduce\n",
    "from functools import reduce \n",
    "\n",
    "lst = [1,2,3,4]\n",
    "reduced_result_lambda = reduce(lambda x,y: x+y , lst)\n",
    "print(reduced_result_lambda)\n",
    "```"
   ]
  },
  {
   "cell_type": "code",
   "execution_count": null,
   "metadata": {},
   "outputs": [],
   "source": [
    "# Run the above code:\n"
   ]
  },
  {
   "cell_type": "code",
   "execution_count": 102,
   "metadata": {},
   "outputs": [],
   "source": [
    "# Exercises:\n",
    "\n",
    "# 1. Find the product of all numbers in the list [2,4,6,8,12] without using a 'for' loop\n"
   ]
  },
  {
   "cell_type": "code",
   "execution_count": 103,
   "metadata": {},
   "outputs": [],
   "source": [
    "# 2. Find the sum of the squares of each element in the list [1,3,5,7,9] (you might have 2 combine 2 functions)\n"
   ]
  },
  {
   "cell_type": "markdown",
   "metadata": {},
   "source": [
    "## *Congratulations! You have now mastered list/ dictionary / set comprehensions, iterators / iterables, generators, as well as important functions like enumerate(), zip(), map(), reduce() and filter() . Keep going!*"
   ]
  }
 ],
 "metadata": {
  "kernelspec": {
   "display_name": "Python 3",
   "language": "python",
   "name": "python3"
  },
  "language_info": {
   "codemirror_mode": {
    "name": "ipython",
    "version": 3
   },
   "file_extension": ".py",
   "mimetype": "text/x-python",
   "name": "python",
   "nbconvert_exporter": "python",
   "pygments_lexer": "ipython3",
   "version": "3.7.5"
  }
 },
 "nbformat": 4,
 "nbformat_minor": 2
}
